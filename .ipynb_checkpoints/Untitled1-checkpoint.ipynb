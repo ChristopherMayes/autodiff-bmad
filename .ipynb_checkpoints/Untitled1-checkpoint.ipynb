{
 "cells": [
  {
   "cell_type": "code",
   "execution_count": null,
   "id": "8af3d886-d3bd-4e34-9556-d645ee9f761e",
   "metadata": {},
   "outputs": [],
   "source": [
    "import numpy as np\n",
    "import torch\n",
    "from collections import namedtuple\n",
    "\n",
    "torch.__version__, np.__version__"
   ]
  },
  {
   "cell_type": "markdown",
   "id": "fc7196a6-ed64-40d1-a58f-10d8edb553ab",
   "metadata": {
    "tags": []
   },
   "source": [
    "# Particle named tuple"
   ]
  },
  {
   "cell_type": "code",
   "execution_count": null,
   "id": "22f5b59f-a16b-4e85-bc07-d9a6022c9dc2",
   "metadata": {},
   "outputs": [],
   "source": [
    "Particle = namedtuple('Particle', 'x px y py z pz')\n",
    "#Canonical phase space coordinates as defined in Bmad manual section 15.4.2"
   ]
  },
  {
   "cell_type": "code",
   "execution_count": null,
   "id": "34449579-880c-451b-9c1e-f9003a2e2861",
   "metadata": {},
   "outputs": [],
   "source": [
    "np.random.seed(0)\n",
    "pvec = np.random.rand(10_000, 6) #test particles"
   ]
  },
  {
   "cell_type": "markdown",
   "id": "07cd773e-584b-488c-9b9b-41d31e81f336",
   "metadata": {},
   "source": [
    "## NumPy array test Particle"
   ]
  },
  {
   "cell_type": "code",
   "execution_count": null,
   "id": "3587f13a-766c-4ef7-974f-b8c671fec2c2",
   "metadata": {
    "tags": []
   },
   "outputs": [],
   "source": [
    "p_np = Particle(*pvec.T)\n",
    "p_np"
   ]
  },
  {
   "cell_type": "markdown",
   "id": "ab86fb73-eb64-4da6-bd68-94d12a6c772e",
   "metadata": {},
   "source": [
    "## PyTorch tenstor test Particle"
   ]
  },
  {
   "cell_type": "code",
   "execution_count": null,
   "id": "6718d33a-8008-4ad6-8c43-1652c48abbd1",
   "metadata": {},
   "outputs": [],
   "source": [
    "p_torch = Particle(*torch.tensor(pvec.T))\n",
    "p_torch"
   ]
  },
  {
   "cell_type": "markdown",
   "id": "499ff532-200c-48fb-b527-d4721c527d76",
   "metadata": {
    "tags": []
   },
   "source": [
    "# Reference particle"
   ]
  },
  {
   "cell_type": "markdown",
   "id": "4af6038a-9b88-48b7-8eb0-7e5fd13c0914",
   "metadata": {},
   "source": [
    "## Option 1: \n",
    "\n",
    "Create a Coord tuple with the first entry being a Particle tuple and the other entries being the reference particle parameters (similar to the coord_struct in Bmad)"
   ]
  },
  {
   "cell_type": "code",
   "execution_count": null,
   "id": "5231a08e-57ad-453a-9d2f-a7d6eb78abae",
   "metadata": {},
   "outputs": [],
   "source": [
    "Coord = namedtuple('Coord', 'particle s t p0c mc2')\n",
    "mc2 = 0.51099895000e6 #electron mass energy in eV\n",
    "p0c = 10e6 #reference particle momentum in eV"
   ]
  },
  {
   "cell_type": "markdown",
   "id": "46162aea-72c5-4346-9b13-1cbfdf53475f",
   "metadata": {},
   "source": [
    "### NumPy array Coord"
   ]
  },
  {
   "cell_type": "code",
   "execution_count": null,
   "id": "4b3921e0-d83a-4956-b344-61a70d51981e",
   "metadata": {},
   "outputs": [],
   "source": [
    "orb_np = Coord(p_np, 0, 0, p0c, mc2)\n",
    "orb_np"
   ]
  },
  {
   "cell_type": "markdown",
   "id": "7eb202eb-f290-407b-beb7-568a5e1e4ec1",
   "metadata": {},
   "source": [
    "### PyTorch tensor Coord"
   ]
  },
  {
   "cell_type": "code",
   "execution_count": null,
   "id": "910a0cd5-075b-4b44-8f2e-dde24a572a71",
   "metadata": {},
   "outputs": [],
   "source": [
    "orb_torch = Coord(p_torch, 0, 0, p0c, mc2)\n",
    "orb_torch"
   ]
  },
  {
   "cell_type": "markdown",
   "id": "3209757a-4769-44cc-9a23-ed7aa4fac0c8",
   "metadata": {},
   "source": [
    "## Option 2: \n",
    "\n",
    "Create a separate tuple for the reference particle's parameters:"
   ]
  },
  {
   "cell_type": "code",
   "execution_count": null,
   "id": "18869dea-42c5-493b-83c3-e8074bbd9208",
   "metadata": {},
   "outputs": [],
   "source": [
    "ReferenceParticle = namedtuple('ReferenceParticle', 's t p0c mc2')\n",
    "ref_par = ReferenceParticle(0,0,p0c,mc2)\n",
    "ref_par"
   ]
  },
  {
   "cell_type": "markdown",
   "id": "7638cac6-72c7-4e95-ae44-6ff97b375ae3",
   "metadata": {},
   "source": [
    "# track_a_drift"
   ]
  },
  {
   "cell_type": "code",
   "execution_count": null,
   "id": "802fc720-0c08-4f46-b9ed-78deea47decb",
   "metadata": {},
   "outputs": [],
   "source": [
    "def make_track_a_drift(lib):\n",
    "    \"\"\"\n",
    "    Makes track_a_drift given the library lib\n",
    "    \"\"\"\n",
    "    \n",
    "    sqrt = lib.sqrt\n",
    "    \n",
    "    def track_a_drift(orb, L):\n",
    "        \"\"\"\n",
    "        Tracks the incoming Particle tuple p_in though a drift of length params.L\n",
    "        and returns the outgoing Particle. See eqs 24.58 in bmad manual\n",
    "        \"\"\"\n",
    "        L = params.L\n",
    "        p0c = params.p0c\n",
    "        \n",
    "        x = p_in.x\n",
    "        px = p_in.px #Particle's 'x' momentum over reference momentum P0\n",
    "        y = p_in.y\n",
    "        py = p_in.py #Particle's 'y' momentum over P0\n",
    "        z = p_in.z\n",
    "        pz = p_in.pz #Delta over P0\n",
    "        \n",
    "        P = 1 + pz #Particle's total momentum over P0\n",
    "        Px = px / P #Particle's 'x' momentum over total momentum\n",
    "        Py = py / P #Particle's 'y' momentum over total momentum\n",
    "        Pxy2 = Px**2 + Py**2 #Particle's transverse mometun over total momentum (squared)\n",
    "        Pl = sqrt(1-Pxy2)  #Particle's longitudinal momentum over total momentum\n",
    "        \n",
    "        x = x + L * px / ((1+pz)*Pl)\n",
    "        y = y + L * Py / Pl\n",
    "        z = z - L *( - 1.0/Pl) #should fix by taking the effect of include_ref_motion (see eq 24.58)\n",
    "        \n",
    "        return Particle(x, px, y, py, z, pz)\n",
    "    \n",
    "    return track_a_drift\n",
    "\n",
    "# Specialized functions\n",
    "track_a_drift_torch = make_track_a_drift(lib=torch)"
   ]
  }
 ],
 "metadata": {
  "kernelspec": {
   "display_name": "Python 3 (ipykernel)",
   "language": "python",
   "name": "python3"
  },
  "language_info": {
   "codemirror_mode": {
    "name": "ipython",
    "version": 3
   },
   "file_extension": ".py",
   "mimetype": "text/x-python",
   "name": "python",
   "nbconvert_exporter": "python",
   "pygments_lexer": "ipython3",
   "version": "3.9.7"
  }
 },
 "nbformat": 4,
 "nbformat_minor": 5
}
