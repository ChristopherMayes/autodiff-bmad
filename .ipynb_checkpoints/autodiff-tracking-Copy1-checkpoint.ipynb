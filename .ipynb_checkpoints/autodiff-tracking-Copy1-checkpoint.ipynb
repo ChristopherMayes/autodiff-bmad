{
 "cells": [
  {
   "cell_type": "markdown",
   "id": "cfe2f3e6-ab7f-4493-8ca4-acd56731bc0b",
   "metadata": {
    "jp-MarkdownHeadingCollapsed": true,
    "tags": []
   },
   "source": [
    "# Tracking through elements with autodiff"
   ]
  },
  {
   "cell_type": "code",
   "execution_count": 1,
   "id": "8af3d886-d3bd-4e34-9556-d645ee9f761e",
   "metadata": {
    "tags": []
   },
   "outputs": [
    {
     "data": {
      "text/plain": [
       "('1.10.2', '1.22.2')"
      ]
     },
     "execution_count": 1,
     "metadata": {},
     "output_type": "execute_result"
    }
   ],
   "source": [
    "import numpy as np\n",
    "import torch\n",
    "from torch.autograd.functional import jacobian\n",
    "from torch.autograd.functional import hessian\n",
    "from pytao import Tao\n",
    "import matplotlib.pyplot as plt\n",
    "import numdifftools as nd\n",
    "from track import *\n",
    "tkwargs = {\n",
    "    \"dtype\" : torch.double\n",
    "}\n",
    "import time\n",
    "np.set_printoptions(precision= 16, suppress=False)\n",
    "torch.set_printoptions(precision= 16, sci_mode=True)\n",
    "torch.__version__, np.__version__"
   ]
  },
  {
   "cell_type": "markdown",
   "id": "4195b788-22c6-4f75-bb00-a417cf041292",
   "metadata": {
    "jp-MarkdownHeadingCollapsed": true,
    "tags": [],
    "toc-hr-collapsed": true
   },
   "source": [
    "# Constants"
   ]
  },
  {
   "cell_type": "code",
   "execution_count": 2,
   "id": "c3f66538-b1d3-448d-a15b-82cae88067f6",
   "metadata": {
    "tags": []
   },
   "outputs": [],
   "source": [
    "c_light = 2.99792458e8 #speed of light in m/s\n",
    "m_e = 0.510998950e6 #electron mass in eV"
   ]
  },
  {
   "cell_type": "markdown",
   "id": "7638cac6-72c7-4e95-ae44-6ff97b375ae3",
   "metadata": {
    "jp-MarkdownHeadingCollapsed": true,
    "tags": []
   },
   "source": [
    "# Drift test"
   ]
  },
  {
   "cell_type": "code",
   "execution_count": 3,
   "id": "ee6fdf69-c492-4bc0-83c9-9b6a0400ef1f",
   "metadata": {
    "tags": []
   },
   "outputs": [
    {
     "data": {
      "text/plain": [
       "Drift(L=tensor(1.0000000000000000e+00, dtype=torch.float64))"
      ]
     },
     "execution_count": 3,
     "metadata": {},
     "output_type": "execute_result"
    }
   ],
   "source": [
    "# Create drift\n",
    "L=1.0 # Drift length in m\n",
    "d1 = Drift(torch.tensor(L, **tkwargs)) #named tuple is in track.py module\n",
    "d1"
   ]
  },
  {
   "cell_type": "markdown",
   "id": "f47cc1d4-c514-4f23-a70b-b692e4a0c4dc",
   "metadata": {
    "tags": []
   },
   "source": [
    "## One particle test"
   ]
  },
  {
   "cell_type": "code",
   "execution_count": 4,
   "id": "22f5b59f-a16b-4e85-bc07-d9a6022c9dc2",
   "metadata": {
    "tags": []
   },
   "outputs": [
    {
     "data": {
      "text/plain": [
       "tensor([2.0000000000000000e-03, 3.0000000000000001e-03, -3.0000000000000001e-03,\n",
       "        -1.0000000000000000e-03, 2.0000000000000000e-03, -2.0000000000000000e-03],\n",
       "       dtype=torch.float64, requires_grad=True)"
      ]
     },
     "execution_count": 4,
     "metadata": {},
     "output_type": "execute_result"
    }
   ],
   "source": [
    "# Incoming particle\n",
    "s = 0.0 #initial s\n",
    "p0c = 4.0E+07 #Reference particle momentum in eV\n",
    "mc2 = 1*m_e # electron mass in eV\n",
    "ts = torch.tensor(s, **tkwargs)\n",
    "tp0c = torch.tensor(p0c, **tkwargs)\n",
    "tmc2 = torch.tensor(mc2, **tkwargs)\n",
    "pvec1 = [2e-3,3e-3,-3e-3,-1e-3,2e-3,-2e-3] \n",
    "tvec1 = torch.tensor(pvec1, requires_grad=True, **tkwargs)\n",
    "tvec1"
   ]
  },
  {
   "cell_type": "code",
   "execution_count": 5,
   "id": "2f852ced-da43-4f95-8578-779f46d15eb1",
   "metadata": {},
   "outputs": [
    {
     "data": {
      "text/plain": [
       "tensor([5.0060271145229325e-03, 3.0000000000000001e-03, -4.0020090381743109e-03,\n",
       "        -1.0000000000000000e-03, 1.9946525738924175e-03, -2.0000000000000000e-03],\n",
       "       dtype=torch.float64)"
      ]
     },
     "execution_count": 5,
     "metadata": {},
     "output_type": "execute_result"
    }
   ],
   "source": [
    "#create track_a_drift_torch\n",
    "track_a_drift_torch = make_track_a_drift(torch)\n",
    "# Outgoing particle\n",
    "p_out = track_a_drift_torch(Particle(*tvec1,ts, tp0c, tmc2), d1)\n",
    "x_py = torch.hstack([p_out.x,p_out.px,p_out.y,p_out.py,p_out.z,p_out.pz]).detach()\n",
    "x_py"
   ]
  },
  {
   "cell_type": "code",
   "execution_count": 6,
   "id": "7a6c2d68-8d1e-4eaa-9fd0-aa67111276da",
   "metadata": {
    "tags": []
   },
   "outputs": [],
   "source": [
    "# bmad lattice for comparison\n",
    "tao = Tao('-lat test_drift.bmad -noplot')\n",
    "tao.cmd('set particle_start x='+str(pvec1[0]))\n",
    "tao.cmd('set particle_start px='+str(pvec1[1]))\n",
    "tao.cmd('set particle_start y='+str(pvec1[2]))\n",
    "tao.cmd('set particle_start py='+str(pvec1[3]))\n",
    "tao.cmd('set particle_start z='+str(pvec1[4]))\n",
    "tao.cmd('set particle_start pz='+str(pvec1[5]))\n",
    "orbit_out=tao.orbit_at_s(ele=1)\n",
    "#orbit_out"
   ]
  },
  {
   "cell_type": "code",
   "execution_count": 7,
   "id": "f986a53a-edc8-48cc-93b7-28911872bc94",
   "metadata": {},
   "outputs": [
    {
     "data": {
      "text/plain": [
       "tensor([5.0060271145229299e-03, 3.0000000000000001e-03, -4.0020090381743100e-03,\n",
       "        -1.0000000000000000e-03, 1.9946525738923598e-03, -2.0000000000000000e-03],\n",
       "       dtype=torch.float64)"
      ]
     },
     "execution_count": 7,
     "metadata": {},
     "output_type": "execute_result"
    }
   ],
   "source": [
    "# bmad outgoing particle\n",
    "x_tao = torch.tensor([orbit_out['x'],orbit_out['px'],orbit_out['y'],orbit_out['py'],orbit_out['z'],orbit_out['pz']],**tkwargs)\n",
    "x_tao"
   ]
  },
  {
   "cell_type": "code",
   "execution_count": 8,
   "id": "729e2c24-ee37-4d5b-8b76-81d1f5107dbf",
   "metadata": {},
   "outputs": [
    {
     "data": {
      "text/plain": [
       "True"
      ]
     },
     "execution_count": 8,
     "metadata": {},
     "output_type": "execute_result"
    }
   ],
   "source": [
    "torch.allclose(x_py, x_tao)"
   ]
  },
  {
   "cell_type": "markdown",
   "id": "d8fae022-eda1-4b37-89a3-48d9c9fc3ddb",
   "metadata": {
    "tags": []
   },
   "source": [
    "## Jacobian test"
   ]
  },
  {
   "cell_type": "code",
   "execution_count": 9,
   "id": "062c3a71-b3b9-48b5-85a3-d332f716496d",
   "metadata": {},
   "outputs": [],
   "source": [
    "f_drift = lambda x: track_a_drift_torch(Particle(*x, ts, tp0c, tmc2), d1)[:6]\n",
    "J = jacobian(f_drift, tvec1)"
   ]
  },
  {
   "cell_type": "code",
   "execution_count": 10,
   "id": "2f3a581f-157b-44bd-b596-185155a9c972",
   "metadata": {
    "tags": []
   },
   "outputs": [
    {
     "data": {
      "text/plain": [
       "tensor([[ 1.0000000000000000e+00,  1.0020180925273929e+00,\n",
       "          0.0000000000000000e+00, -3.0181176940051169e-06,\n",
       "          0.0000000000000000e+00, -3.0120814586171068e-03],\n",
       "        [ 0.0000000000000000e+00,  1.0000000000000000e+00,\n",
       "          0.0000000000000000e+00,  0.0000000000000000e+00,\n",
       "          0.0000000000000000e+00,  0.0000000000000000e+00],\n",
       "        [ 0.0000000000000000e+00, -3.0181176940051169e-06,\n",
       "          1.0000000000000000e+00,  1.0020100442135422e+00,\n",
       "          0.0000000000000000e+00,  1.0040271528723688e-03],\n",
       "        [ 0.0000000000000000e+00,  0.0000000000000000e+00,\n",
       "          0.0000000000000000e+00,  1.0000000000000000e+00,\n",
       "          0.0000000000000000e+00,  0.0000000000000000e+00],\n",
       "        [ 0.0000000000000000e+00, -3.0120814586171063e-03,\n",
       "          0.0000000000000000e+00,  1.0040271528723688e-03,\n",
       "          1.0000000000000000e+00,  1.7421652474771806e-04],\n",
       "        [ 0.0000000000000000e+00,  0.0000000000000000e+00,\n",
       "          0.0000000000000000e+00,  0.0000000000000000e+00,\n",
       "          0.0000000000000000e+00,  1.0000000000000000e+00]],\n",
       "       dtype=torch.float64)"
      ]
     },
     "execution_count": 10,
     "metadata": {},
     "output_type": "execute_result"
    }
   ],
   "source": [
    "# Jacobian matrix\n",
    "mat_py = torch.vstack(J)\n",
    "mat_py"
   ]
  },
  {
   "cell_type": "code",
   "execution_count": 11,
   "id": "9f168d28-5c4a-4db0-a649-c8bde823496c",
   "metadata": {},
   "outputs": [
    {
     "data": {
      "text/plain": [
       "tensor([[ 1.0000000000000000e+00,  1.0020180925273900e+00,\n",
       "          0.0000000000000000e+00, -3.0181176940051199e-06,\n",
       "          0.0000000000000000e+00, -3.0120814586171098e-03],\n",
       "        [ 0.0000000000000000e+00,  1.0000000000000000e+00,\n",
       "          0.0000000000000000e+00,  0.0000000000000000e+00,\n",
       "          0.0000000000000000e+00,  0.0000000000000000e+00],\n",
       "        [ 0.0000000000000000e+00, -3.0181176940051199e-06,\n",
       "          1.0000000000000000e+00,  1.0020100442135400e+00,\n",
       "          0.0000000000000000e+00,  1.0040271528723699e-03],\n",
       "        [ 0.0000000000000000e+00,  0.0000000000000000e+00,\n",
       "          0.0000000000000000e+00,  1.0000000000000000e+00,\n",
       "          0.0000000000000000e+00,  0.0000000000000000e+00],\n",
       "        [ 0.0000000000000000e+00, -3.0120814586171098e-03,\n",
       "          0.0000000000000000e+00,  1.0040271528723699e-03,\n",
       "          1.0000000000000000e+00,  1.7421652474810300e-04],\n",
       "        [ 0.0000000000000000e+00,  0.0000000000000000e+00,\n",
       "          0.0000000000000000e+00,  0.0000000000000000e+00,\n",
       "          0.0000000000000000e+00,  1.0000000000000000e+00]],\n",
       "       dtype=torch.float64)"
      ]
     },
     "execution_count": 11,
     "metadata": {},
     "output_type": "execute_result"
    }
   ],
   "source": [
    "# Tao Jacobian\n",
    "drift_tao = tao.matrix(0,1)\n",
    "mat_tao = torch.tensor(drift_tao['mat6'], **tkwargs)\n",
    "mat_tao"
   ]
  },
  {
   "cell_type": "code",
   "execution_count": 12,
   "id": "4707f2f9-3e23-4497-9dda-78205b54965f",
   "metadata": {},
   "outputs": [
    {
     "data": {
      "text/plain": [
       "True"
      ]
     },
     "execution_count": 12,
     "metadata": {},
     "output_type": "execute_result"
    }
   ],
   "source": [
    "# is it close to Tao result?\n",
    "torch.allclose(mat_py, mat_tao)"
   ]
  },
  {
   "cell_type": "markdown",
   "id": "c3f3188a-39d8-4d68-bb0e-131a8dbb22a6",
   "metadata": {
    "jp-MarkdownHeadingCollapsed": true,
    "tags": []
   },
   "source": [
    "# Quadrupole"
   ]
  },
  {
   "cell_type": "code",
   "execution_count": 13,
   "id": "23c5b99c-f531-4b2f-83bc-65df4409a93d",
   "metadata": {},
   "outputs": [],
   "source": [
    "def make_track_a_quadrupole(lib):\n",
    "    \"\"\"\n",
    "    Makes track_a_quadrupole given the library lib\n",
    "    \"\"\"\n",
    "    sqrt = lib.sqrt\n",
    "    absolute = lib.abs\n",
    "    sin = lib.sin\n",
    "    cos = lib.cos\n",
    "    sinh = lib.sinh\n",
    "    cosh = lib.cosh\n",
    "    ones = lib.ones\n",
    "    \n",
    "    def quad_mat2_calc(k1, length, rel_p):\n",
    "        \"\"\"\n",
    "        Returns 2x2 transfer matrix elements aij and the coefficients to calculate \n",
    "        the change in z position.\n",
    "        Input: \n",
    "            k1_ref -- Quad strength: k1 > 0 ==> defocus\n",
    "            length -- Quad length\n",
    "            rel_p -- Relative momentum P/P0\n",
    "        Output:\n",
    "            a11, a12, a21, a22 -- transfer matrix elements\n",
    "            c1, c2, c3 -- second order derivatives of z such that \n",
    "                        z = c1 * x_0^2 + c2 * x_0 * px_0 + c3* px_0^2\n",
    "        \"\"\" \n",
    "        \n",
    "        eps = 2.220446049250313e-16 #machine epsilon\n",
    "        \n",
    "        sqrt_k = sqrt(absolute(k1)+eps)\n",
    "        sk_l = sqrt_k * length\n",
    "        \n",
    "        cx = cos(sk_l) * (k1<=0) + cosh(sk_l) * (k1>0)\n",
    "        sx = (sin(sk_l)/(sqrt_k))*(k1<0) + (sinh(sk_l)/(sqrt_k))*(k1>=0)\n",
    "        \n",
    "        a11 = cx\n",
    "        a12 = sx / rel_p\n",
    "        a21 = k1 * sx * rel_p\n",
    "        a22 = cx\n",
    "            \n",
    "        c1 = k1 * (-cx * sx + length) / 4\n",
    "        c2 = -k1 * sx**2 / (2 * rel_p)\n",
    "        c3 = -(cx * sx + length) / (4 * rel_p**2)\n",
    "\n",
    "        return a11, a12, a21, a22, c1, c2, c3\n",
    "    \n",
    "    \n",
    "    def low_energy_z_correction(pz, p0c, mass, ds):\n",
    "        \"\"\"\n",
    "        Corrects the change in z-coordinate due to speed < c_light. \n",
    "        Input:\n",
    "            p0c -- reference particle momentum in eV\n",
    "            mass -- particle mass in eV\n",
    "        Output: \n",
    "            dz -- dz = (ds - d_particle) + ds * (beta - beta_ref) / beta_ref\n",
    "        \"\"\"\n",
    "        beta = (1+pz) * p0c / sqrt(((1+pz)*p0c)**2 + mc2**2)\n",
    "        beta0 = p0c / sqrt( p0c**2 + mc2**2)\n",
    "        e_tot = sqrt(p0c**2+mass**2)\n",
    "        \n",
    "        evaluation = mass * (beta0*pz)**2\n",
    "        dz = (ds*pz*(1-3*(pz*beta0**2)/2+pz**2*beta0**2*(2*beta0**2-(mass/e_tot)**2/2))*(mass/e_tot)**2)*(evaluation<3e-7*e_tot) + (ds*(beta-beta0)/beta0)*(evaluation>=3e-7*e_tot)\n",
    "        return dz\n",
    "    \n",
    "    \n",
    "    def track_a_quadrupole(p_in, quad):\n",
    "        \"\"\"\n",
    "        Tracks the incoming Particle p_in though quad element\n",
    "        and returns the outgoing particle.\n",
    "        \"\"\"\n",
    "        l = quad.L\n",
    "        k1 = quad.K1\n",
    "        n_step = quad.NUM_STEPS #number of divisions\n",
    "        step_len = l/n_step #length of division\n",
    "        \n",
    "        b1=k1*l\n",
    "        \n",
    "        s = p_in.s\n",
    "        p0c = p_in.p0c\n",
    "        mc2 = p_in.mc2\n",
    "        \n",
    "        x = p_in.x\n",
    "        px = p_in.px\n",
    "        y = p_in.y\n",
    "        py = p_in.py\n",
    "        z = p_in.z\n",
    "        pz = p_in.pz\n",
    "        \n",
    "        for i in range(n_step):\n",
    "            rel_p = 1 + pz #Particle's relative momentum (P/P0)\n",
    "            k1 = b1/(l*rel_p)\n",
    "            \n",
    "            tx11, tx12, tx21, tx22, dz_x1, dz_x2, dz_x3 = quad_mat2_calc(-k1, step_len, rel_p)\n",
    "            ty11, ty12, ty21, ty22, dz_y1, dz_y2, dz_y3 = quad_mat2_calc( k1, step_len, rel_p)\n",
    "            \n",
    "            z = ( z +\n",
    "                dz_x1 * x**2 + dz_x2 * x * px + dz_x3 * px**2 +\n",
    "                dz_y1 * y**2 + dz_y2 * y * py + dz_y3 * py**2 )\n",
    "            x_next = tx11 * x + tx12 * px\n",
    "            px_next = tx21 * x + tx22 * px\n",
    "            y_next = ty11 * y + ty12 * py\n",
    "            py_next = ty21 * y + ty22 * py\n",
    "            x = x_next\n",
    "            px = px_next\n",
    "            y = y_next\n",
    "            py = py_next\n",
    "            \n",
    "            z = z + low_energy_z_correction(pz, p0c, mc2, step_len)\n",
    "        \n",
    "        s = s + l\n",
    "        \n",
    "        return Particle(x, px, y, py, z, pz, s, p0c, mc2)\n",
    "    \n",
    "    return track_a_quadrupole\n",
    "\n",
    "# Specialized functions\n",
    "track_a_quadrupole_torch = make_track_a_quadrupole(lib=torch)"
   ]
  },
  {
   "cell_type": "code",
   "execution_count": 14,
   "id": "5dcd7b1a-ba3f-4b45-a5e6-455650fd6598",
   "metadata": {
    "tags": []
   },
   "outputs": [
    {
     "data": {
      "text/plain": [
       "Quadrupole(L=tensor(1.0000000000000001e-01, dtype=torch.float64), K1=tensor(0., dtype=torch.float64), NUM_STEPS=1)"
      ]
     },
     "execution_count": 14,
     "metadata": {},
     "output_type": "execute_result"
    }
   ],
   "source": [
    "# Create quad\n",
    "L = 0.1 #Length in m\n",
    "K1 = 0 #Quad focusing strength. Positive is focusing in x\n",
    "NUM_STEPS = 1 #number of divisions for tracking. 1 is bmad default when there are no other multipoles\n",
    "q1 = Quadrupole(torch.tensor(L, **tkwargs), torch.tensor(K1, **tkwargs), NUM_STEPS)\n",
    "q1"
   ]
  },
  {
   "cell_type": "markdown",
   "id": "b73fdb87-f4bd-4b42-8ad9-6eb54030ad99",
   "metadata": {
    "tags": []
   },
   "source": [
    "## One particle test"
   ]
  },
  {
   "cell_type": "code",
   "execution_count": 15,
   "id": "7ef8b038-c06f-4474-b98b-79592da924f0",
   "metadata": {},
   "outputs": [
    {
     "data": {
      "text/plain": [
       "tensor([2.0000000000000000e-03, 3.0000000000000001e-03, -3.0000000000000001e-03,\n",
       "        -1.0000000000000000e-03, 2.0000000000000000e-03, -2.0000000000000000e-03],\n",
       "       dtype=torch.float64, requires_grad=True)"
      ]
     },
     "execution_count": 15,
     "metadata": {},
     "output_type": "execute_result"
    }
   ],
   "source": [
    "# Incoming particle\n",
    "s = 0.0 #initial s\n",
    "p0c = 4.0E+07 #Reference particle momentum in eV\n",
    "mc2 = 1*m_e # electron mass in eV\n",
    "ts = torch.tensor(s, **tkwargs)\n",
    "tp0c = torch.tensor(p0c, **tkwargs)\n",
    "tmc2 = torch.tensor(mc2, **tkwargs) \n",
    "pvec1 = [2e-3,3e-3,-3e-3,-1e-3,2e-3,-2e-3] \n",
    "tvec1 = torch.tensor(pvec1, requires_grad=True, **tkwargs)\n",
    "tvec1"
   ]
  },
  {
   "cell_type": "code",
   "execution_count": 16,
   "id": "0d16dea9-7c66-4c92-bd7e-b0bca1097b8f",
   "metadata": {},
   "outputs": [
    {
     "data": {
      "text/plain": [
       "tensor([2.3006012024048097e-03, 3.0000000000000001e-03, -3.1002004008016033e-03,\n",
       "        -1.0000000000000000e-03, 1.9994652611700723e-03, -2.0000000000000000e-03],\n",
       "       dtype=torch.float64)"
      ]
     },
     "execution_count": 16,
     "metadata": {},
     "output_type": "execute_result"
    }
   ],
   "source": [
    "# create track_a_quadrupole_torch\n",
    "track_a_quadrupole_torch = make_track_a_quadrupole(torch)\n",
    "# Outgoing particle\n",
    "p_out = track_a_quadrupole_torch(Particle(*tvec1,ts, tp0c, tmc2), q1)\n",
    "x_py = torch.hstack(p_out[:6]).detach()\n",
    "x_py"
   ]
  },
  {
   "cell_type": "code",
   "execution_count": 17,
   "id": "7670ad81-5961-41bc-8719-1e23e97fb9a0",
   "metadata": {},
   "outputs": [],
   "source": [
    "# Bmad lattice to compare\n",
    "tao = Tao('-lat test_quad.bmad -noplot')\n",
    "tao.cmd('set particle_start x='+str(pvec1[0]))\n",
    "tao.cmd('set particle_start px='+str(pvec1[1]))\n",
    "tao.cmd('set particle_start y='+str(pvec1[2]))\n",
    "tao.cmd('set particle_start py='+str(pvec1[3]))\n",
    "tao.cmd('set particle_start z='+str(pvec1[4]))\n",
    "tao.cmd('set particle_start pz='+str(pvec1[5]))\n",
    "orbit_out = tao.orbit_at_s(ele=1)"
   ]
  },
  {
   "cell_type": "code",
   "execution_count": 18,
   "id": "82aa9e17-97ec-4556-93d1-2f54163d7f35",
   "metadata": {},
   "outputs": [
    {
     "data": {
      "text/plain": [
       "tensor([2.3006012024048101e-03, 3.0000000000000001e-03, -3.1002004008015998e-03,\n",
       "        -1.0000000000000000e-03, 1.9994652611700701e-03, -2.0000000000000000e-03],\n",
       "       dtype=torch.float64)"
      ]
     },
     "execution_count": 18,
     "metadata": {},
     "output_type": "execute_result"
    }
   ],
   "source": [
    "# Bmad outgoing particle\n",
    "x_tao = torch.tensor([orbit_out['x'],orbit_out['px'],orbit_out['y'],orbit_out['py'],orbit_out['z'],orbit_out['pz']],**tkwargs)\n",
    "x_tao"
   ]
  },
  {
   "cell_type": "code",
   "execution_count": 19,
   "id": "0174f8be-14cc-4aab-8b10-cecb0f044eb3",
   "metadata": {},
   "outputs": [
    {
     "data": {
      "text/plain": [
       "True"
      ]
     },
     "execution_count": 19,
     "metadata": {},
     "output_type": "execute_result"
    }
   ],
   "source": [
    "# close to Tao result?\n",
    "torch.allclose(x_py, x_tao)"
   ]
  },
  {
   "cell_type": "markdown",
   "id": "18d8ab23-f846-44e9-88c9-987b2267f9a1",
   "metadata": {
    "tags": []
   },
   "source": [
    "## Jacobian test"
   ]
  },
  {
   "cell_type": "code",
   "execution_count": 20,
   "id": "ea343dea-8c1f-4ce8-8d5c-3aa0f89d9812",
   "metadata": {},
   "outputs": [],
   "source": [
    "f_quadrupole = lambda x: track_a_quadrupole_torch(Particle(*x,ts, tp0c, tmc2), q1)[:6]\n",
    "J = jacobian(f_quadrupole, tvec1)"
   ]
  },
  {
   "cell_type": "code",
   "execution_count": 21,
   "id": "f0f45bf6-e8a9-469d-9883-76e85edb777b",
   "metadata": {},
   "outputs": [
    {
     "data": {
      "text/plain": [
       "tensor([[ 1.0000000000000000e+00,  1.0020040080160321e-01,\n",
       "          0.0000000000000000e+00,  0.0000000000000000e+00,\n",
       "          0.0000000000000000e+00, -3.0120360962405777e-04],\n",
       "        [-0.0000000000000000e+00,  1.0000000000000000e+00,\n",
       "          0.0000000000000000e+00,  0.0000000000000000e+00,\n",
       "          0.0000000000000000e+00,  0.0000000000000000e+00],\n",
       "        [ 0.0000000000000000e+00,  0.0000000000000000e+00,\n",
       "          1.0000000000000000e+00,  1.0020040080160321e-01,\n",
       "          0.0000000000000000e+00,  1.0040120320801925e-04],\n",
       "        [ 0.0000000000000000e+00,  0.0000000000000000e+00,\n",
       "          0.0000000000000000e+00,  1.0000000000000000e+00,\n",
       "          0.0000000000000000e+00,  0.0000000000000000e+00],\n",
       "        [ 0.0000000000000000e+00, -3.0120360962405777e-04,\n",
       "          0.0000000000000000e+00,  1.0040120320801925e-04,\n",
       "          1.0000000000000000e+00,  1.7421636015204266e-05],\n",
       "        [ 0.0000000000000000e+00,  0.0000000000000000e+00,\n",
       "          0.0000000000000000e+00,  0.0000000000000000e+00,\n",
       "          0.0000000000000000e+00,  1.0000000000000000e+00]],\n",
       "       dtype=torch.float64)"
      ]
     },
     "execution_count": 21,
     "metadata": {},
     "output_type": "execute_result"
    }
   ],
   "source": [
    "# Jacobian matrix\n",
    "mat_py = torch.vstack(J)\n",
    "mat_py"
   ]
  },
  {
   "cell_type": "code",
   "execution_count": 22,
   "id": "9e6cd8cc-4f9d-4072-a48b-b27961ad5762",
   "metadata": {},
   "outputs": [
    {
     "data": {
      "text/plain": [
       "tensor([[ 1.0000000000000000e+00,  1.0020040080160300e-01,\n",
       "          0.0000000000000000e+00,  0.0000000000000000e+00,\n",
       "          0.0000000000000000e+00, -3.0120360962405799e-04],\n",
       "        [ 0.0000000000000000e+00,  1.0000000000000000e+00,\n",
       "          0.0000000000000000e+00,  0.0000000000000000e+00,\n",
       "          0.0000000000000000e+00,  0.0000000000000000e+00],\n",
       "        [ 0.0000000000000000e+00,  0.0000000000000000e+00,\n",
       "          1.0000000000000000e+00,  1.0020040080160300e-01,\n",
       "          0.0000000000000000e+00,  1.0040120320801900e-04],\n",
       "        [ 0.0000000000000000e+00,  0.0000000000000000e+00,\n",
       "          0.0000000000000000e+00,  1.0000000000000000e+00,\n",
       "          0.0000000000000000e+00,  0.0000000000000000e+00],\n",
       "        [ 0.0000000000000000e+00, -3.0120360962405799e-04,\n",
       "          0.0000000000000000e+00,  1.0040120320801900e-04,\n",
       "          1.0000000000000000e+00,  1.7421636015204300e-05],\n",
       "        [ 0.0000000000000000e+00,  0.0000000000000000e+00,\n",
       "          0.0000000000000000e+00,  0.0000000000000000e+00,\n",
       "          0.0000000000000000e+00,  1.0000000000000000e+00]],\n",
       "       dtype=torch.float64)"
      ]
     },
     "execution_count": 22,
     "metadata": {},
     "output_type": "execute_result"
    }
   ],
   "source": [
    "# Bmad Jacobian\n",
    "quad_tao = tao.matrix(0,1)\n",
    "mat_tao = torch.tensor(quad_tao['mat6'], **tkwargs)\n",
    "mat_tao"
   ]
  },
  {
   "cell_type": "code",
   "execution_count": 23,
   "id": "daea008b-7368-4f75-9fe0-fb3de156d68f",
   "metadata": {},
   "outputs": [
    {
     "data": {
      "text/plain": [
       "True"
      ]
     },
     "execution_count": 23,
     "metadata": {},
     "output_type": "execute_result"
    }
   ],
   "source": [
    "# close to Tao result?\n",
    "torch.allclose(mat_py, mat_tao)"
   ]
  },
  {
   "cell_type": "markdown",
   "id": "491331ff-7285-470a-85fe-b795668e5d13",
   "metadata": {
    "tags": [],
    "toc-hr-collapsed": true
   },
   "source": [
    "# Lattice tracking"
   ]
  },
  {
   "cell_type": "markdown",
   "id": "0c8ca256-7abd-466c-976a-9c754ac22571",
   "metadata": {
    "tags": []
   },
   "source": [
    "## One particle lattice test"
   ]
  },
  {
   "cell_type": "code",
   "execution_count": 24,
   "id": "e382de98-ca91-4511-9ff0-190dba00655b",
   "metadata": {
    "tags": []
   },
   "outputs": [
    {
     "data": {
      "text/plain": [
       "(Drift(L=tensor(1.0000000000000000e+00, dtype=torch.float64)),\n",
       " Quadrupole(L=tensor(1.0000000000000001e-01, dtype=torch.float64), K1=tensor(1.0000000000000000e+01, dtype=torch.float64), NUM_STEPS=1))"
      ]
     },
     "execution_count": 24,
     "metadata": {},
     "output_type": "execute_result"
    }
   ],
   "source": [
    "# Create drift\n",
    "L=1.0 # Drift length in m\n",
    "d1 = Drift(torch.tensor(L, **tkwargs))\n",
    "d1\n",
    "# Create quad\n",
    "L = 0.1  # quad length in m\n",
    "K1 = 10  # Quad focusing strength. Positive is focusing in x\n",
    "NUM_STEPS = 1  # number of divisions for tracking. 1 is bmad default when there are no other multipoles\n",
    "q1 = Quadrupole(torch.tensor(L, **tkwargs), torch.tensor(K1, **tkwargs), NUM_STEPS)\n",
    "d1,q1"
   ]
  },
  {
   "cell_type": "code",
   "execution_count": 25,
   "id": "a9fad1a8-13d6-45ce-b38a-3c9fd27e39c6",
   "metadata": {},
   "outputs": [
    {
     "data": {
      "text/plain": [
       "Particle(x=tensor(2.0000000000000000e-03, dtype=torch.float64, grad_fn=<UnbindBackward0>), px=tensor(3.0000000000000001e-03, dtype=torch.float64, grad_fn=<UnbindBackward0>), y=tensor(-3.0000000000000001e-03, dtype=torch.float64, grad_fn=<UnbindBackward0>), py=tensor(-1.0000000000000000e-03, dtype=torch.float64, grad_fn=<UnbindBackward0>), z=tensor(2.0000000000000000e-03, dtype=torch.float64, grad_fn=<UnbindBackward0>), pz=tensor(-2.0000000000000000e-03, dtype=torch.float64, grad_fn=<UnbindBackward0>), s=tensor(0., dtype=torch.float64), p0c=tensor(4.0000000000000000e+07, dtype=torch.float64), mc2=tensor( 5.1099895000000001e+05, dtype=torch.float64))"
      ]
     },
     "execution_count": 25,
     "metadata": {},
     "output_type": "execute_result"
    }
   ],
   "source": [
    "# Incoming particle\n",
    "s = 0.0 #initial s\n",
    "p0c = 4.0E+07  # Reference particle momentum in eV\n",
    "mc2 = 1*m_e  # electron mass in eV\n",
    "ts = torch.tensor(s, **tkwargs)\n",
    "tp0c = torch.tensor(p0c, **tkwargs)\n",
    "tmc2 = torch.tensor(mc2, **tkwargs)\n",
    "pvec1 = [2e-3,3e-3,-3e-3,-1e-3,2e-3,-2e-3] \n",
    "tvec1 = torch.tensor(pvec1, requires_grad=True, **tkwargs)\n",
    "p_in = Particle(*tvec1, ts, tp0c, tmc2)\n",
    "p_in"
   ]
  },
  {
   "cell_type": "code",
   "execution_count": 26,
   "id": "5c8e5ad9-3309-4323-bfeb-a57209658750",
   "metadata": {},
   "outputs": [
    {
     "data": {
      "text/plain": [
       "tensor([-2.2819679612099907e-03, -4.8963303496563082e-03, -2.5439131659086591e-02,\n",
       "        -1.4972829678474660e-02, 1.8473246819740532e-03, -2.0000000000000000e-03],\n",
       "       dtype=torch.float64)"
      ]
     },
     "execution_count": 26,
     "metadata": {},
     "output_type": "execute_result"
    }
   ],
   "source": [
    "# Lattice example\n",
    "lattice = [d1, q1, d1, q1, d1]  # lattice is a list of elements\n",
    "# Outgoing particle after lattice\n",
    "x_py = torch.hstack(track_a_lattice(p_in, lattice)[-1][:6]).detach()\n",
    "x_py"
   ]
  },
  {
   "cell_type": "code",
   "execution_count": 27,
   "id": "9723f930-5c64-4fdc-a94c-df2a816bfe0a",
   "metadata": {},
   "outputs": [],
   "source": [
    "# Bmad lattice to compare\n",
    "tao = Tao('-lat test_drift_quad.bmad -noplot')\n",
    "tao.cmd('set particle_start x='+str(pvec1[0]))\n",
    "tao.cmd('set particle_start px='+str(pvec1[1]))\n",
    "tao.cmd('set particle_start y='+str(pvec1[2]))\n",
    "tao.cmd('set particle_start py='+str(pvec1[3]))\n",
    "tao.cmd('set particle_start z='+str(pvec1[4]))\n",
    "tao.cmd('set particle_start pz='+str(pvec1[5]))\n",
    "orbit_out = tao.orbit_at_s(ele=5)"
   ]
  },
  {
   "cell_type": "code",
   "execution_count": 28,
   "id": "d3911c94-0464-4b62-ad7a-55e197ed22be",
   "metadata": {},
   "outputs": [
    {
     "data": {
      "text/plain": [
       "tensor([-2.2819679612099898e-03, -4.8963303496563099e-03, -2.5439131659086602e-02,\n",
       "        -1.4972829678474700e-02, 1.8473246819741701e-03, -2.0000000000000000e-03],\n",
       "       dtype=torch.float64)"
      ]
     },
     "execution_count": 28,
     "metadata": {},
     "output_type": "execute_result"
    }
   ],
   "source": [
    "# Bmad outgoing particle\n",
    "x_tao = torch.tensor([orbit_out['x'],orbit_out['px'],orbit_out['y'],orbit_out['py'],orbit_out['z'],orbit_out['pz']],**tkwargs)\n",
    "x_tao"
   ]
  },
  {
   "cell_type": "code",
   "execution_count": 29,
   "id": "09dfa314-fd81-443b-9084-970a0ee22e1f",
   "metadata": {},
   "outputs": [
    {
     "data": {
      "text/plain": [
       "True"
      ]
     },
     "execution_count": 29,
     "metadata": {},
     "output_type": "execute_result"
    }
   ],
   "source": [
    "# close to Tao result?\n",
    "torch.allclose(x_py, x_tao)"
   ]
  },
  {
   "cell_type": "markdown",
   "id": "f9ba321b-16ba-4616-b64a-86a0fab6df3f",
   "metadata": {
    "tags": []
   },
   "source": [
    "## Lattice Jacobian test"
   ]
  },
  {
   "cell_type": "code",
   "execution_count": 30,
   "id": "dc9d30da-be29-4072-a9fa-b982030531de",
   "metadata": {
    "tags": []
   },
   "outputs": [],
   "source": [
    "f_driftquadrupole = lambda x: track_a_lattice(Particle(*x, ts, tp0c, tmc2), lattice)[-1][:6]\n",
    "J = jacobian(f_driftquadrupole, tvec1)"
   ]
  },
  {
   "cell_type": "code",
   "execution_count": 31,
   "id": "a15024cb-8d00-434c-9642-3cf3105db844",
   "metadata": {},
   "outputs": [
    {
     "data": {
      "text/plain": [
       "tensor([[-1.0322023903174575e+00, -7.2569681151011811e-02,\n",
       "          2.3367174796365382e-04,  4.0490038958197793e-04,\n",
       "          0.0000000000000000e+00,  8.2182839451539688e-03],\n",
       "        [-9.0005153171126384e-01, -1.0320809782928480e+00,\n",
       "         -1.0670671153299335e-05, -1.9000372936436179e-05,\n",
       "          0.0000000000000000e+00,  5.5475642315005796e-04],\n",
       "        [-8.8127328798467028e-05, -9.3392943713694148e-05,\n",
       "          5.4572583903073202e+00,  9.0710195783967222e+00,\n",
       "          0.0000000000000000e+00,  3.3612658955446149e-02],\n",
       "        [-1.0670671153299331e-05, -9.9546185436680993e-06,\n",
       "          3.1722681310803358e+00,  5.4561657512786770e+00,\n",
       "          0.0000000000000000e+00,  9.3914704183099551e-03],\n",
       "        [-6.8237891712833116e-03, -8.4411335413884098e-03,\n",
       "          5.5376468742080333e-02,  9.8205645796140759e-02,\n",
       "          1.0000000000000000e+00,  9.9199631964399224e-04],\n",
       "        [ 0.0000000000000000e+00,  0.0000000000000000e+00,\n",
       "          0.0000000000000000e+00,  0.0000000000000000e+00,\n",
       "          0.0000000000000000e+00,  1.0000000000000000e+00]],\n",
       "       dtype=torch.float64)"
      ]
     },
     "execution_count": 31,
     "metadata": {},
     "output_type": "execute_result"
    }
   ],
   "source": [
    "# Jacobian matrix\n",
    "mat_py = torch.vstack(J)\n",
    "mat_py"
   ]
  },
  {
   "cell_type": "code",
   "execution_count": 32,
   "id": "3649facd-33ea-46e7-9a4c-b561dd5e5388",
   "metadata": {},
   "outputs": [
    {
     "data": {
      "text/plain": [
       "tensor([[-1.0322023903174600e+00, -7.2569681151011395e-02,\n",
       "          2.3367174796365400e-04,  4.0490038958197798e-04,\n",
       "          0.0000000000000000e+00,  8.2182839451539601e-03],\n",
       "        [-9.0005153171126395e-01, -1.0320809782928499e+00,\n",
       "         -1.0670671153299301e-05, -1.9000372936436199e-05,\n",
       "          0.0000000000000000e+00,  5.5475642315005796e-04],\n",
       "        [-8.8127328798467001e-05, -9.3392943713694094e-05,\n",
       "          5.4572583903073202e+00,  9.0710195783967205e+00,\n",
       "          0.0000000000000000e+00,  3.3612658955446101e-02],\n",
       "        [-1.0670671153299301e-05, -9.9546185436680993e-06,\n",
       "          3.1722681310803398e+00,  5.4561657512786796e+00,\n",
       "          0.0000000000000000e+00,  9.3914704183099499e-03],\n",
       "        [-6.8237891712833098e-03, -8.4411335413884098e-03,\n",
       "          5.5376468742080298e-02,  9.8205645796140703e-02,\n",
       "          1.0000000000000000e+00,  9.9199631964514605e-04],\n",
       "        [ 0.0000000000000000e+00,  0.0000000000000000e+00,\n",
       "          0.0000000000000000e+00,  0.0000000000000000e+00,\n",
       "          0.0000000000000000e+00,  1.0000000000000000e+00]],\n",
       "       dtype=torch.float64)"
      ]
     },
     "execution_count": 32,
     "metadata": {},
     "output_type": "execute_result"
    }
   ],
   "source": [
    "# Bmad Jacobian\n",
    "quad_tao = tao.matrix(0,6)\n",
    "mat_tao = torch.tensor(quad_tao['mat6'], **tkwargs)\n",
    "mat_tao"
   ]
  },
  {
   "cell_type": "code",
   "execution_count": 33,
   "id": "35e3965b-95d8-4f25-87f2-675435b7fa49",
   "metadata": {},
   "outputs": [
    {
     "data": {
      "text/plain": [
       "True"
      ]
     },
     "execution_count": 33,
     "metadata": {},
     "output_type": "execute_result"
    }
   ],
   "source": [
    "# close to Tao result?\n",
    "torch.allclose(mat_py, mat_tao)"
   ]
  },
  {
   "cell_type": "markdown",
   "id": "abd7f307-4e0e-4530-99ec-3ca70109d3f0",
   "metadata": {
    "tags": []
   },
   "source": [
    "## Multi-particle propagation through lattice"
   ]
  },
  {
   "cell_type": "code",
   "execution_count": 34,
   "id": "6429e104-311c-444b-98dd-5075a05e9bdd",
   "metadata": {
    "tags": []
   },
   "outputs": [],
   "source": [
    "# Particle bunch with Gaussian distribution\n",
    "sample_size = 1000\n",
    "mean = torch.zeros(6, **tkwargs)\n",
    "cov = torch.diag(torch.tensor([1e-6, 2e-6, 1e-6, 2e-6, 1e-6, 2e-6],**tkwargs))\n",
    "dist = torch.distributions.multivariate_normal.MultivariateNormal(mean, cov)\n",
    "sample = dist.sample(torch.Size([sample_size]))\n",
    "p_in = Particle(*sample.T, ts, tp0c, tmc2)"
   ]
  },
  {
   "cell_type": "code",
   "execution_count": 35,
   "id": "c89db535-74b8-4afd-82b6-f70e52f98723",
   "metadata": {},
   "outputs": [],
   "source": [
    "p_out = track_a_lattice(p_in, lattice)"
   ]
  },
  {
   "cell_type": "code",
   "execution_count": 36,
   "id": "aca6346f-c4bf-4e62-9274-76dcf6a05b40",
   "metadata": {},
   "outputs": [
    {
     "data": {
      "text/plain": [
       "(tensor(9.8832721318098718e-04, dtype=torch.float64),\n",
       " tensor(1.3717237793110456e-02, dtype=torch.float64))"
      ]
     },
     "execution_count": 36,
     "metadata": {},
     "output_type": "execute_result"
    }
   ],
   "source": [
    "# some beam properties up and downstream\n",
    "torch.std(p_out[0].y),torch.std(p_out[-1].y)"
   ]
  },
  {
   "cell_type": "markdown",
   "id": "a35d4b34-6c23-48d8-af4c-7daad3055b20",
   "metadata": {
    "tags": []
   },
   "source": [
    "## Stub element test"
   ]
  },
  {
   "cell_type": "code",
   "execution_count": 37,
   "id": "62fc1a71-37f7-4651-8b4b-2168581ebf0d",
   "metadata": {},
   "outputs": [
    {
     "data": {
      "text/plain": [
       "[Quadrupole(L=tensor(1.0000000000000000e-02, dtype=torch.float64), K1=tensor(1.0000000000000000e+01, dtype=torch.float64), NUM_STEPS=1),\n",
       " Quadrupole(L=tensor(1.0000000000000000e-02, dtype=torch.float64), K1=tensor(1.0000000000000000e+01, dtype=torch.float64), NUM_STEPS=1),\n",
       " Quadrupole(L=tensor(1.0000000000000000e-02, dtype=torch.float64), K1=tensor(1.0000000000000000e+01, dtype=torch.float64), NUM_STEPS=1),\n",
       " Quadrupole(L=tensor(1.0000000000000000e-02, dtype=torch.float64), K1=tensor(1.0000000000000000e+01, dtype=torch.float64), NUM_STEPS=1),\n",
       " Quadrupole(L=tensor(1.0000000000000000e-02, dtype=torch.float64), K1=tensor(1.0000000000000000e+01, dtype=torch.float64), NUM_STEPS=1),\n",
       " Quadrupole(L=tensor(1.0000000000000000e-02, dtype=torch.float64), K1=tensor(1.0000000000000000e+01, dtype=torch.float64), NUM_STEPS=1),\n",
       " Quadrupole(L=tensor(1.0000000000000000e-02, dtype=torch.float64), K1=tensor(1.0000000000000000e+01, dtype=torch.float64), NUM_STEPS=1),\n",
       " Quadrupole(L=tensor(1.0000000000000000e-02, dtype=torch.float64), K1=tensor(1.0000000000000000e+01, dtype=torch.float64), NUM_STEPS=1),\n",
       " Quadrupole(L=tensor(1.0000000000000000e-02, dtype=torch.float64), K1=tensor(1.0000000000000000e+01, dtype=torch.float64), NUM_STEPS=1),\n",
       " Quadrupole(L=tensor(1.0000000000000000e-02, dtype=torch.float64), K1=tensor(1.0000000000000000e+01, dtype=torch.float64), NUM_STEPS=1)]"
      ]
     },
     "execution_count": 37,
     "metadata": {},
     "output_type": "execute_result"
    }
   ],
   "source": [
    "# divide a quad into 10 parts\n",
    "divided_quad = stub_element(q1, 10)\n",
    "divided_quad"
   ]
  },
  {
   "cell_type": "markdown",
   "id": "08840928-57b7-49f3-8dcc-7cf4bb94d265",
   "metadata": {},
   "source": [
    "## Plotting using stub_element"
   ]
  },
  {
   "cell_type": "code",
   "execution_count": 38,
   "id": "b4421345-df0c-4db4-817c-fc2954492414",
   "metadata": {},
   "outputs": [],
   "source": [
    "# make a quadrupole triplet\n",
    "L_d = 1.0  # Drift length in m\n",
    "d1 = Drift(torch.tensor(L_d, **tkwargs)) #drift\n",
    "L_q = 0.1  # Quadrupole length in m\n",
    "K1 = 10  # Quadrupole strengths\n",
    "NUM_STEPS = 1\n",
    "q1 = Quadrupole(torch.tensor(L_q,**tkwargs), torch.tensor(K1, **tkwargs), NUM_STEPS)  # x-focusing\n",
    "q2 = Quadrupole(torch.tensor(L_q,**tkwargs), torch.tensor(-K1, **tkwargs), NUM_STEPS)  # y-focusing\n",
    "lattice = [d1, q1, d1, q2, d1, q1, d1]\n",
    "\n",
    "# stub each element into n equal parts each\n",
    "n=50\n",
    "stub_lattice = []\n",
    "for ele in lattice:\n",
    "    stub_lattice.extend(stub_element(ele, n))"
   ]
  },
  {
   "cell_type": "code",
   "execution_count": 39,
   "id": "ded144f0-a02a-4bd2-8bb3-1878929eab80",
   "metadata": {},
   "outputs": [
    {
     "data": {
      "text/plain": [
       "Text(0, 0.5, '$\\\\sigma_x$')"
      ]
     },
     "execution_count": 39,
     "metadata": {},
     "output_type": "execute_result"
    },
    {
     "data": {
      "image/png": "[encoded data removed]",
      "text/plain": [
       "<Figure size 432x288 with 1 Axes>"
      ]
     },
     "metadata": {
      "needs_background": "light"
     },
     "output_type": "display_data"
    }
   ],
   "source": [
    "all_p = track_a_lattice(p_in, stub_lattice)\n",
    "stdx, s = [torch.std(par.x) for par in all_p], [par.s for par in all_p]\n",
    "plt.plot(s, stdx)\n",
    "plt.xlabel(r'$s$')\n",
    "plt.ylabel(r'$\\sigma_x$')"
   ]
  },
  {
   "cell_type": "markdown",
   "id": "eb16025c-6d9c-4fa0-bb5b-32684c107898",
   "metadata": {
    "tags": []
   },
   "source": [
    "# Hessian Matrix example"
   ]
  },
  {
   "cell_type": "code",
   "execution_count": 40,
   "id": "a2d0abb8-7d84-464a-a1c1-a687e1fe62d8",
   "metadata": {},
   "outputs": [],
   "source": [
    "# Particle bunch with Gaussian distribution\n",
    "sample_size = 1000\n",
    "mean = torch.zeros(6, **tkwargs)\n",
    "cov = torch.diag(torch.tensor([1e-6, 2e-6, 1e-6, 2e-6, 1e-6, 2e-6],**tkwargs))\n",
    "dist = torch.distributions.multivariate_normal.MultivariateNormal(mean, cov)\n",
    "sample = dist.sample(torch.Size([sample_size]))\n",
    "p_in = Particle(*sample.T, ts, tp0c, tmc2)\n",
    "\n",
    "L_d = 1.00 # Drift length\n",
    "L_q = 0.1 # Quad length \n",
    "drift = Drift(torch.tensor(L_d, **tkwargs))\n",
    "\n",
    "def sigmax_end(k1s):\n",
    "    \"\"\"returns x beamsize after lattice composed by len(k1s)+1 drifts with len(k1s) quadrupoles in between\n",
    "    \"\"\"\n",
    "    lattice = [drift]\n",
    "    for k1 in k1s:\n",
    "        lattice.append(Quadrupole(torch.tensor(L_q, **tkwargs), k1, NUM_STEPS))\n",
    "        lattice.append(drift)\n",
    "\n",
    "    p_out = track_a_lattice(p_in, lattice)[-1]\n",
    "    return torch.std(p_out.x)\n",
    "\n",
    "#k1s = torch.tensor([10,-10,10,-10,10,-10,10,-10,10,-10], **tkwargs)\n",
    "k1s = torch.zeros(10, **tkwargs)"
   ]
  },
  {
   "cell_type": "code",
   "execution_count": 41,
   "id": "09322973-50ab-454e-a711-75a87572f6c4",
   "metadata": {},
   "outputs": [
    {
     "name": "stdout",
     "output_type": "stream",
     "text": [
      "CPU times: user 419 ms, sys: 140 ms, total: 559 ms\n",
      "Wall time: 341 ms\n"
     ]
    },
    {
     "data": {
      "text/plain": [
       "tensor([[6.0255737794568398e-05, 1.9590326668700184e-04, 3.1279716759332688e-04,\n",
       "         3.9457123196991531e-04, 4.4122545981676746e-04, 4.5275985113388300e-04,\n",
       "         4.2917440592126193e-04, 3.7046912417890436e-04, 2.7664400590681040e-04,\n",
       "         1.4769905110497978e-04],\n",
       "        [1.9590326668700189e-04, 3.9455759527076264e-05, 3.0080942900686776e-04,\n",
       "         5.1851108197510263e-04, 6.6218420808015002e-04, 7.3182880732200961e-04,\n",
       "         7.2744487970068192e-04, 6.4903242521616644e-04, 4.9659144386846336e-04,\n",
       "         2.7012193565757270e-04],\n",
       "        [3.1279716759332688e-04, 3.0080942900686755e-04, 2.4579749479036988e-05,\n",
       "         3.7583062215353378e-04, 6.5503974390982420e-04, 8.2133624728856461e-04,\n",
       "         8.7472013228975473e-04, 8.1519139891339488e-04, 6.4275004715948474e-04,\n",
       "         3.5739607702802453e-04],\n",
       "        [3.9457123196991542e-04, 5.1851108197510252e-04, 3.7583062215353394e-04,\n",
       "         1.4379132371976016e-05, 4.1979206730579098e-04, 7.2128217103354828e-04,\n",
       "         8.7100016368848142e-04, 8.6894604527059023e-04, 7.1511981577987503e-04,\n",
       "         4.0952147521633551e-04],\n",
       "        [4.4122545981676746e-04, 6.6218420808014970e-04, 6.5503974390982420e-04,\n",
       "         4.1979206730579071e-04, 7.7529258419484236e-06, 4.3166657855695992e-04,\n",
       "         7.1628497389686081e-04, 8.1029636428775205e-04, 7.1370074972963357e-04,\n",
       "         4.2649813022250529e-04],\n",
       "        [4.5275985113388283e-04, 7.3182880732200950e-04, 8.2133624728856461e-04,\n",
       "         7.2128217103354785e-04, 4.3166657855695981e-04, 3.7477404395418215e-06,\n",
       "         4.1057456291489382e-04, 6.3924235596488066e-04, 6.3849284900876081e-04,\n",
       "         4.0832604204653415e-04],\n",
       "        [4.2917440592126193e-04, 7.2744487970068171e-04, 8.7472013228975473e-04,\n",
       "         8.7100016368848109e-04, 7.1628497389686092e-04, 4.1057456291489387e-04,\n",
       "         1.5577796298742549e-06, 3.5578402030197613e-04, 4.8949611361725673e-04,\n",
       "         3.5500521068842215e-04],\n",
       "        [3.7046912417890442e-04, 6.4903242521616633e-04, 8.1519139891339488e-04,\n",
       "         8.6894604527059023e-04, 8.1029636428775215e-04, 6.3924235596488099e-04,\n",
       "         3.5578402030197629e-04, 5.2483979259460767e-07, 2.6671054355512135e-04,\n",
       "         2.6653563614816906e-04],\n",
       "        [2.7664400590681035e-04, 4.9659144386846336e-04, 6.4275004715948474e-04,\n",
       "         7.1511981577987481e-04, 7.1370074972963368e-04, 6.3849284900876092e-04,\n",
       "         4.8949611361725684e-04, 2.6671054355512130e-04, 1.3831022188279122e-07,\n",
       "         1.4291731842577498e-04],\n",
       "        [1.4769905110497981e-04, 2.7012193565757270e-04, 3.5739607702802459e-04,\n",
       "         4.0952147521633540e-04, 4.2649813022250534e-04, 4.0832604204653415e-04,\n",
       "         3.5500521068842209e-04, 2.6653563614816906e-04, 1.4291731842577495e-04,\n",
       "         3.5173126450318271e-08]], dtype=torch.float64)"
      ]
     },
     "execution_count": 41,
     "metadata": {},
     "output_type": "execute_result"
    }
   ],
   "source": [
    "%%time\n",
    "hessian_py = hessian(sigmax_end,k1s)\n",
    "hessian_py"
   ]
  },
  {
   "cell_type": "code",
   "execution_count": 42,
   "id": "c720fe84-b5a2-4bcf-831c-caf194a12146",
   "metadata": {},
   "outputs": [
    {
     "data": {
      "text/plain": [
       "<matplotlib.colorbar.Colorbar at 0x7f1ba5dfa700>"
      ]
     },
     "execution_count": 42,
     "metadata": {},
     "output_type": "execute_result"
    },
    {
     "data": {
      "image/png": "[encoded data removed]",
      "text/plain": [
       "<Figure size 432x288 with 2 Axes>"
      ]
     },
     "metadata": {
      "needs_background": "light"
     },
     "output_type": "display_data"
    }
   ],
   "source": [
    "plt.imshow(hessian_py.detach().numpy())\n",
    "plt.colorbar()"
   ]
  },
  {
   "cell_type": "code",
   "execution_count": 43,
   "id": "90145244-6aca-43ad-aed3-d444a8f11706",
   "metadata": {},
   "outputs": [],
   "source": [
    "p_in = Particle(*sample.detach().numpy().T, 0, p0c, mc2)\n",
    "\n",
    "L_d = 1.00 # Drift length\n",
    "L_q = 0.1 # Quad length \n",
    "drift = Drift(L_d)\n",
    "def sigmax_end2(k1s):\n",
    "    \"\"\"returns x beamsize after lattice composed by len(k1s)+1 drifts with len(k1s) quadrupoles in between\n",
    "    \"\"\"\n",
    "    lattice = [drift]\n",
    "    for k1 in k1s:\n",
    "        lattice.append(Quadrupole(L_q, k1, 1))\n",
    "        lattice.append(drift)\n",
    "\n",
    "    p_out = track_a_lattice(p_in, lattice)[-1]\n",
    "    return np.std(p_out.x)\n",
    "\n",
    "#k1s = np.array([10,-10,10,-10,10,-10,10,-10,10,-10])\n",
    "k1s = np.zeros(10)"
   ]
  },
  {
   "cell_type": "code",
   "execution_count": 44,
   "id": "ec5b71f2-cc0c-43d3-b40b-d77b89b75579",
   "metadata": {},
   "outputs": [
    {
     "name": "stdout",
     "output_type": "stream",
     "text": [
      "CPU times: user 7.11 s, sys: 10.4 ms, total: 7.12 s\n",
      "Wall time: 7.14 s\n"
     ]
    },
    {
     "data": {
      "text/plain": [
       "array([[6.5826136293097023e-05, 2.1907565781381468e-04,\n",
       "        3.4120874900648955e-04, 4.2648246631976807e-04,\n",
       "        4.7489680975362064e-04, 4.8645177929323600e-04,\n",
       "        4.6114737496324521e-04, 3.9898359674540922e-04,\n",
       "        2.9996044464630165e-04, 1.6407791866583353e-04],\n",
       "       [2.1907565781381468e-04, 4.9704019328296962e-05,\n",
       "        3.3617522738868392e-04, 5.5730853876172258e-04,\n",
       "        7.0269324512834644e-04, 7.7232934649657534e-04,\n",
       "        7.6621684285756489e-04, 6.8435573421757160e-04,\n",
       "        5.2674602056979741e-04, 2.9338770192206858e-04],\n",
       "       [3.4120874900648955e-04, 3.3617522738868392e-04,\n",
       "        3.8331509083992826e-05, 4.1989058437675875e-04,\n",
       "        7.0074348771707179e-04, 8.6698314144942736e-04,\n",
       "        9.1860954556562179e-04, 8.5562270007935105e-04,\n",
       "        6.7802260498119060e-04, 3.8580926027189700e-04],\n",
       "       [4.2648246631976807e-04, 5.5730853876172258e-04,\n",
       "        4.1989058437675875e-04, 3.0460654734361758e-05,\n",
       "        4.6904753751570794e-04, 7.7041316415093824e-04,\n",
       "        9.1832548309292970e-04, 9.1278449433076147e-04,\n",
       "        7.5379019787255651e-04, 4.4134259371653585e-04],\n",
       "       [4.7489680975362064e-04, 7.0269324512834644e-04,\n",
       "        7.0074348771707179e-04, 4.6904753751570794e-04,\n",
       "        2.4991024540328152e-05, 4.8261941460620472e-04,\n",
       "        7.6536465543136341e-04, 8.5584111697157921e-04,\n",
       "        7.5404879924932861e-04, 4.5998770225748835e-04],\n",
       "       [4.8645177929323600e-04, 7.7232934649657534e-04,\n",
       "        8.6698314144942736e-04, 7.7041316415093824e-04,\n",
       "        4.8261941460620472e-04, 2.0969705876306413e-05,\n",
       "        4.5972706256673353e-04, 6.8479256800236740e-04,\n",
       "        6.7879840910909262e-04, 4.4174458589028983e-04],\n",
       "       [4.6114737496324521e-04, 7.6621684285756489e-04,\n",
       "        9.1860954556562179e-04, 9.1832548309292970e-04,\n",
       "        7.6536465543136341e-04, 4.5972706256673353e-04,\n",
       "        1.7591305203946990e-05, 3.9963884742151183e-04,\n",
       "        5.2803902745101423e-04, 3.8661324461794358e-04],\n",
       "       [3.9898359674540922e-04, 6.8435573421757160e-04,\n",
       "        8.5562270007935105e-04, 9.1278449433076147e-04,\n",
       "        8.5584111697157921e-04, 6.8479256800236740e-04,\n",
       "        3.9963884742151183e-04, 1.4197948087196165e-05,\n",
       "        3.0177065427521607e-04, 2.9459367843965055e-04],\n",
       "       [2.9996044464630165e-04, 5.2674602056979741e-04,\n",
       "        6.7802260498119060e-04, 7.5379019787255651e-04,\n",
       "        7.5404879924932861e-04, 6.7879840910909262e-04,\n",
       "        5.2803902745101423e-04, 3.0177065427521607e-04,\n",
       "        1.0279279201773708e-05, 1.6568588735646269e-04],\n",
       "       [1.6407791866583353e-04, 2.9338770192206858e-04,\n",
       "        3.8580926027189700e-04, 4.4134259371653585e-04,\n",
       "        4.5998770225748835e-04, 4.4174458589028983e-04,\n",
       "        3.8661324461794358e-04, 2.9459367843965055e-04,\n",
       "        1.6568588735646269e-04, 5.4724623037791872e-06]])"
      ]
     },
     "execution_count": 44,
     "metadata": {},
     "output_type": "execute_result"
    }
   ],
   "source": [
    "%%time\n",
    "hessian_nd = nd.Hessian(sigmax_end2)(k1s)\n",
    "hessian_nd"
   ]
  },
  {
   "cell_type": "code",
   "execution_count": 45,
   "id": "9ffa33a1-b971-491b-a120-18c46b854892",
   "metadata": {},
   "outputs": [
    {
     "data": {
      "text/plain": [
       "<matplotlib.colorbar.Colorbar at 0x7f1ba5d52cd0>"
      ]
     },
     "execution_count": 45,
     "metadata": {},
     "output_type": "execute_result"
    },
    {
     "data": {
      "image/png": "[encoded data removed]",
      "text/plain": [
       "<Figure size 432x288 with 2 Axes>"
      ]
     },
     "metadata": {
      "needs_background": "light"
     },
     "output_type": "display_data"
    }
   ],
   "source": [
    "plt.imshow(hessian_nd)\n",
    "plt.colorbar()"
   ]
  },
  {
   "cell_type": "code",
   "execution_count": 46,
   "id": "8748858c-daa8-4408-9c3f-6e0a794130ae",
   "metadata": {},
   "outputs": [
    {
     "data": {
      "text/plain": [
       "False"
      ]
     },
     "execution_count": 46,
     "metadata": {},
     "output_type": "execute_result"
    }
   ],
   "source": [
    "np.allclose(hessian_nd, hessian_py.detach().numpy())"
   ]
  },
  {
   "cell_type": "code",
   "execution_count": 47,
   "id": "8191b91e-d26d-4528-bad0-e24b759094a4",
   "metadata": {},
   "outputs": [
    {
     "data": {
      "text/plain": [
       "<matplotlib.colorbar.Colorbar at 0x7f1ba5bfba00>"
      ]
     },
     "execution_count": 47,
     "metadata": {},
     "output_type": "execute_result"
    },
    {
     "data": {
      "image/png": "[encoded data removed]",
      "text/plain": [
       "<Figure size 720x720 with 4 Axes>"
      ]
     },
     "metadata": {
      "needs_background": "light"
     },
     "output_type": "display_data"
    }
   ],
   "source": [
    "fig, axs = plt.subplots(2, figsize=(10,10))\n",
    "cm = axs[0].imshow(hessian_py.detach().numpy())\n",
    "fig.colorbar(cm,ax=axs[0])\n",
    "#ax.imshow(hessian_py.detach().numpy())\n",
    "#ax = axs[1]\n",
    "#ax.imshow(1-hessian_nd)\n",
    "cm = axs[1].imshow(hessian_nd)\n",
    "fig.colorbar(cm,ax=axs[1])"
   ]
  },
  {
   "cell_type": "code",
   "execution_count": 48,
   "id": "64679611-403a-4dd4-9cd6-b2987a439ed4",
   "metadata": {},
   "outputs": [
    {
     "data": {
      "text/plain": [
       "(154.58646205389195, 0.04959731079087544)"
      ]
     },
     "execution_count": 48,
     "metadata": {},
     "output_type": "execute_result"
    }
   ],
   "source": [
    "dif = np.abs((hessian_py.detach().numpy()-hessian_nd)/hessian_py.detach().numpy())\n",
    "np.max(dif),np.min(dif)"
   ]
  },
  {
   "cell_type": "markdown",
   "id": "a5a33da7-8ba3-4051-8ab9-8b150ea409d6",
   "metadata": {
    "tags": []
   },
   "source": [
    "# Optimization examples"
   ]
  },
  {
   "cell_type": "code",
   "execution_count": 49,
   "id": "88753105-000b-4871-96da-0691d925305e",
   "metadata": {
    "tags": []
   },
   "outputs": [],
   "source": [
    "#initial beam distribution\n",
    "sample_size = 1000\n",
    "mean = torch.zeros(6, **tkwargs)\n",
    "cov = torch.diag(torch.tensor([1e-6, 2e-6, 1e-6, 2e-6, 1e-6, 2e-6],**tkwargs))\n",
    "dist = torch.distributions.multivariate_normal.MultivariateNormal(mean, cov)\n",
    "sample = dist.sample(torch.Size([sample_size]))\n",
    "p_in = Particle(*sample.T, ts, tp0c, tmc2)\n",
    "\n",
    "L_d = 1.00 # Drift length\n",
    "L_q = 0.1 # Quad length \n",
    "drift = Drift(torch.tensor(L_d, **tkwargs))\n",
    "\n",
    "#objective function\n",
    "def beamsize(k1s):\n",
    "    \"\"\"\n",
    "    returns std(sqrt(x^2+y^2)) after lattice composed by len(k1s)+1 drifts with len(k1s) quadrupoles in between\n",
    "    \"\"\"\n",
    "    lattice = [drift]\n",
    "    for k1 in k1s:\n",
    "        lattice.append(Quadrupole(torch.tensor(L_q, **tkwargs), k1, NUM_STEPS))\n",
    "        lattice.append(drift)\n",
    "\n",
    "    p_out = track_a_lattice(p_in, lattice)[-1]\n",
    "    return torch.std(torch.sqrt(p_out.x**2+p_out.y**2))\n",
    "\n",
    "k1s = torch.zeros(10, **tkwargs)    "
   ]
  },
  {
   "cell_type": "code",
   "execution_count": 50,
   "id": "b21de3db-6210-4dab-9cc2-511203a808ff",
   "metadata": {
    "tags": []
   },
   "outputs": [],
   "source": [
    "#hessian\n",
    "#hessian_beamsize = hessian(beamsize,k1s)\n",
    "#plt.imshow(hessian_beamsize.detach().numpy())\n",
    "#plt.colorbar()"
   ]
  },
  {
   "cell_type": "code",
   "execution_count": 51,
   "id": "e3dbf7e0-ac94-419e-84f1-10c0d077dd42",
   "metadata": {
    "tags": []
   },
   "outputs": [
    {
     "name": "stdout",
     "output_type": "stream",
     "text": [
      "CPU times: user 3 µs, sys: 0 ns, total: 3 µs\n",
      "Wall time: 5.96 µs\n"
     ]
    }
   ],
   "source": [
    "%%time\n",
    "def gradient_descent(X0, function, alpha=0.1, n_iterations=100):\n",
    "    \"\"\"\n",
    "    Performs 100 iterations of gradient descent\n",
    "    \n",
    "    Inputs:\n",
    "    X0: a pytorch tensor to be modified in-place by the gradient descent algorithm\n",
    "    function: a callable, that takes X0 as input\n",
    "    alpha: step size for the gradient descent algorithm\n",
    "    n_iterations: number of iterations of gradient descent\n",
    "    \n",
    "    Returns:\n",
    "    history_X: array of values of X\n",
    "    history_f: array of values of f\n",
    "    \"\"\"\n",
    "    history_X = []\n",
    "    history_f = []\n",
    "    for iteration in range(n_iterations): # iterations of gradient descent\n",
    "        f = function(X0)\n",
    "        f.backward()\n",
    "        with torch.no_grad():\n",
    "            X0 -= alpha*X0.grad\n",
    "        X0.grad.zero_()\n",
    "        \n",
    "        history_X.append( X0.detach().numpy().copy() ) \n",
    "        history_f.append( f.detach().numpy().copy() )\n",
    "        \n",
    "    return np.array(history_X), np.array(history_f)\n",
    "\n",
    "#optimization\n",
    "#k1s = torch.zeros(10, **tkwargs, requires_grad=True)    \n",
    "#alpha = 10\n",
    "#history_X, history_f = gradient_descent(k1s, beamsize, alpha, n_iterations=10000)"
   ]
  },
  {
   "cell_type": "code",
   "execution_count": 52,
   "id": "10514c5d-4702-4509-a669-d0a89f21ef0b",
   "metadata": {},
   "outputs": [],
   "source": [
    "#optimization\n",
    "#k1s = torch.zeros(10, **tkwargs, requires_grad=True)    \n",
    "#alpha = 10\n",
    "#history_X, history_f = gradient_descent(k1s, beamsize, alpha, n_iterations=10000)"
   ]
  },
  {
   "cell_type": "code",
   "execution_count": 53,
   "id": "2bc48538-75be-4d19-8308-2830ec0f7d6c",
   "metadata": {
    "tags": []
   },
   "outputs": [],
   "source": [
    "#for i in range(len(k1s)-1):\n",
    "#    for j in range(i+1,len(k1s)):\n",
    "#        plt.scatter( history_X[:,i], history_X[:,j], c=np.arange(len(history_X)))\n",
    "#        plt.figure()\n",
    "#plt.plot(history_f)"
   ]
  },
  {
   "cell_type": "code",
   "execution_count": 54,
   "id": "bda39e6e-dc06-4c85-9f71-c91bade374a8",
   "metadata": {},
   "outputs": [],
   "source": [
    "#history_X[-1,:]"
   ]
  },
  {
   "cell_type": "code",
   "execution_count": 55,
   "id": "e14d8c7f-3478-4799-a0c4-86615779b494",
   "metadata": {
    "tags": []
   },
   "outputs": [],
   "source": [
    "#%%time\n",
    "#k1s = torch.zeros(3, **tkwargs, requires_grad=True)    \n",
    "#alpha = 0.5\n",
    "#history_X, history_f = gradient_descent(k1s, beamsize, alpha, n_iterations=10000)"
   ]
  },
  {
   "cell_type": "markdown",
   "id": "b2cb6170-7acc-4a0a-b5b9-159f5d4fe8a8",
   "metadata": {
    "tags": []
   },
   "source": [
    "# misc"
   ]
  },
  {
   "cell_type": "code",
   "execution_count": null,
   "id": "e85f8b52-1838-4157-a0c0-fa4789aa2834",
   "metadata": {},
   "outputs": [],
   "source": []
  },
  {
   "cell_type": "code",
   "execution_count": 56,
   "id": "2d70b825-cfd9-4814-87bd-1fbcd44f57ea",
   "metadata": {},
   "outputs": [
    {
     "data": {
      "text/plain": [
       "2.220446049250313e-16"
      ]
     },
     "execution_count": 56,
     "metadata": {},
     "output_type": "execute_result"
    }
   ],
   "source": [
    "np.finfo(np.float64).eps"
   ]
  },
  {
   "cell_type": "code",
   "execution_count": 57,
   "id": "ac894fa2-fa16-4850-a01a-a2508492bc35",
   "metadata": {},
   "outputs": [
    {
     "data": {
      "text/plain": [
       "2.220446049250313e-16"
      ]
     },
     "execution_count": 57,
     "metadata": {},
     "output_type": "execute_result"
    }
   ],
   "source": [
    "torch.finfo(torch.float64).eps"
   ]
  },
  {
   "cell_type": "code",
   "execution_count": 58,
   "id": "219b688b-7205-43ab-97af-ea186d9bcf7c",
   "metadata": {},
   "outputs": [
    {
     "data": {
      "text/plain": [
       "1.1920929e-07"
      ]
     },
     "execution_count": 58,
     "metadata": {},
     "output_type": "execute_result"
    }
   ],
   "source": [
    "np.finfo(np.float32).eps"
   ]
  },
  {
   "cell_type": "code",
   "execution_count": 59,
   "id": "29bf5c8c-9e16-4c02-b265-1c78d802e6cc",
   "metadata": {},
   "outputs": [
    {
     "data": {
      "text/plain": [
       "1.1920928955078125e-07"
      ]
     },
     "execution_count": 59,
     "metadata": {},
     "output_type": "execute_result"
    }
   ],
   "source": [
    "torch.finfo(torch.float32).eps"
   ]
  },
  {
   "cell_type": "code",
   "execution_count": 60,
   "id": "8b492a8e-eb61-452b-a83b-cf6356ff7997",
   "metadata": {},
   "outputs": [],
   "source": [
    "a = [1,2,3]"
   ]
  },
  {
   "cell_type": "code",
   "execution_count": 61,
   "id": "938db82a-5739-4cd3-bf92-69f5647ecdbc",
   "metadata": {},
   "outputs": [
    {
     "data": {
      "text/plain": [
       "[1, 2, 3, 4]"
      ]
     },
     "execution_count": 61,
     "metadata": {},
     "output_type": "execute_result"
    }
   ],
   "source": [
    "a.append(4)\n",
    "a"
   ]
  },
  {
   "cell_type": "code",
   "execution_count": 62,
   "id": "3dc471a9-07c3-4d96-a805-ea488abafede",
   "metadata": {},
   "outputs": [
    {
     "data": {
      "text/plain": [
       "[]"
      ]
     },
     "execution_count": 62,
     "metadata": {},
     "output_type": "execute_result"
    }
   ],
   "source": [
    "a[len(a):]"
   ]
  },
  {
   "cell_type": "code",
   "execution_count": 63,
   "id": "c711b98a-503c-4a74-b5c0-e759ddffe7ca",
   "metadata": {},
   "outputs": [],
   "source": [
    "a.extend([5,6])"
   ]
  },
  {
   "cell_type": "code",
   "execution_count": 64,
   "id": "d8a68e4d-6407-44be-8e17-b223c0702288",
   "metadata": {},
   "outputs": [],
   "source": [
    "a = [[1,2],[3,4],[5,6]]"
   ]
  },
  {
   "cell_type": "code",
   "execution_count": 65,
   "id": "f4b6dc23-e779-433a-a79c-3f86c437d389",
   "metadata": {},
   "outputs": [
    {
     "data": {
      "text/plain": [
       "[3, 4]"
      ]
     },
     "execution_count": 65,
     "metadata": {},
     "output_type": "execute_result"
    }
   ],
   "source": [
    "a[:][1]"
   ]
  },
  {
   "cell_type": "code",
   "execution_count": null,
   "id": "346df757-8efd-4bc9-a5df-8aeaa0920a75",
   "metadata": {},
   "outputs": [],
   "source": []
  }
 ],
 "metadata": {
  "kernelspec": {
   "display_name": "Python 3 (ipykernel)",
   "language": "python",
   "name": "python3"
  },
  "language_info": {
   "codemirror_mode": {
    "name": "ipython",
    "version": 3
   },
   "file_extension": ".py",
   "mimetype": "text/x-python",
   "name": "python",
   "nbconvert_exporter": "python",
   "pygments_lexer": "ipython3",
   "version": "3.9.10"
  },
  "toc-autonumbering": true,
  "toc-showcode": false,
  "toc-showmarkdowntxt": false,
  "toc-showtags": false
 },
 "nbformat": 4,
 "nbformat_minor": 5
}
