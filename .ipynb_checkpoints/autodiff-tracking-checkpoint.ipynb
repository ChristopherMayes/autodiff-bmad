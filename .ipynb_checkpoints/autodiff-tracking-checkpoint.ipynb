{
 "cells": [
  {
   "cell_type": "markdown",
   "id": "cfe2f3e6-ab7f-4493-8ca4-acd56731bc0b",
   "metadata": {
    "tags": []
   },
   "source": [
    "# Tracking through elements with autodiff"
   ]
  },
  {
   "cell_type": "code",
   "execution_count": 1,
   "id": "8af3d886-d3bd-4e34-9556-d645ee9f761e",
   "metadata": {
    "tags": []
   },
   "outputs": [],
   "source": [
    "import numpy as np\n",
    "import torch\n",
    "from collections import namedtuple\n",
    "from torch.autograd.functional import jacobian\n",
    "from torch.autograd.functional import hessian\n",
    "from pytao import Tao\n",
    "import matplotlib.pyplot as plt\n",
    "import numdifftools as nd\n",
    "\n",
    "np.set_printoptions(precision= 16, suppress=False)\n",
    "torch.set_printoptions(precision= 16, sci_mode=True)\n",
    "torch.__version__, np.__version__\n",
    "import sys\n",
    "tkwargs = {\n",
    "    \"dtype\" : torch.double\n",
    "}\n",
    "import time"
   ]
  },
  {
   "cell_type": "markdown",
   "id": "4195b788-22c6-4f75-bb00-a417cf041292",
   "metadata": {
    "tags": [],
    "toc-hr-collapsed": true
   },
   "source": [
    "# Constants"
   ]
  },
  {
   "cell_type": "code",
   "execution_count": 2,
   "id": "c3f66538-b1d3-448d-a15b-82cae88067f6",
   "metadata": {
    "tags": []
   },
   "outputs": [],
   "source": [
    "c_light = 2.99792458e8 #speed of light in m/s\n",
    "m_e = 0.510998950e6 #electron mass in eV"
   ]
  },
  {
   "cell_type": "markdown",
   "id": "a68663f4-da28-42bf-8d55-1069efade5ec",
   "metadata": {
    "tags": [],
    "toc-hr-collapsed": true
   },
   "source": [
    "# Tuples"
   ]
  },
  {
   "cell_type": "code",
   "execution_count": 3,
   "id": "3165f10b-e4e3-49cb-ac73-b4a069b350c0",
   "metadata": {},
   "outputs": [],
   "source": [
    "Drift = namedtuple('Drift', 'L')\n",
    "Quadrupole = namedtuple('Quadrupole', 'L K1 NUM_STEPS')\n",
    "Particle = namedtuple('Particle', 'x px y py z pz s p0c mc2')\n",
    "#Canonical phase space coordinates as defined in Bmad manual section 15.4.2. Added s t p0c and mc2 = 0"
   ]
  },
  {
   "cell_type": "markdown",
   "id": "ab86fb73-eb64-4da6-bd68-94d12a6c772e",
   "metadata": {
    "tags": []
   },
   "source": [
    "## PyTorch tensor test Particle:"
   ]
  },
  {
   "cell_type": "code",
   "execution_count": 4,
   "id": "6718d33a-8008-4ad6-8c43-1652c48abbd1",
   "metadata": {
    "tags": []
   },
   "outputs": [
    {
     "data": {
      "text/plain": [
       "Particle(x=tensor([5.4881350392732475e-01, 4.3758721126269251e-01, 5.6804456109393231e-01,\n",
       "         ..., 1.6739176591167459e-01, 8.2838659877820775e-01,\n",
       "        4.2741875758117731e-01], dtype=torch.float64,\n",
       "       grad_fn=<UnbindBackward0>), px=tensor([7.1518936637241948e-01, 8.9177300078207977e-01, 9.2559663829266103e-01,\n",
       "         ..., 3.5145149927123487e-01, 3.5342664838276150e-01,\n",
       "        8.8324715311888191e-01], dtype=torch.float64,\n",
       "       grad_fn=<UnbindBackward0>), y=tensor([6.0276337607164387e-01, 9.6366276050102928e-01, 7.1036058197886942e-02,\n",
       "         ..., 2.7008431955854806e-01, 9.2013387734489693e-01,\n",
       "        3.8008122694143009e-01], dtype=torch.float64,\n",
       "       grad_fn=<UnbindBackward0>), py=tensor([5.4488318299689686e-01, 3.8344151882577771e-01, 8.7129299701540708e-02,\n",
       "         ..., 8.7026390127975972e-02, 8.1374798653759683e-01,\n",
       "        1.6900412983681179e-01], dtype=torch.float64,\n",
       "       grad_fn=<UnbindBackward0>), z=tensor([4.2365479933890471e-01, 7.9172503808266459e-01, 2.0218397440325719e-02,\n",
       "         ..., 3.0485812108087229e-01, 6.8327108847887053e-01,\n",
       "        2.6393066558620570e-01], dtype=torch.float64,\n",
       "       grad_fn=<UnbindBackward0>), pz=tensor([6.4589411306665612e-01, 5.2889491975290448e-01, 8.3261984554793800e-01,\n",
       "         ..., 1.3144231130711859e-01, 8.6909734341370770e-01,\n",
       "        3.0116676284982702e-01], dtype=torch.float64,\n",
       "       grad_fn=<UnbindBackward0>), s=tensor(0., dtype=torch.float64), p0c=tensor(4.0000000000000000e+07, dtype=torch.float64), mc2=tensor( 5.1099895000000001e+05, dtype=torch.float64))"
      ]
     },
     "execution_count": 4,
     "metadata": {},
     "output_type": "execute_result"
    }
   ],
   "source": [
    "np.random.seed(0)\n",
    "pvec = np.random.rand(10_000, 6) #test particles\n",
    "s = 0.0\n",
    "p0c = 4.0E+07 #Reference particle momentum in eV\n",
    "mc2 = 1*m_e # electron mass in eV\n",
    "ts = torch.tensor(s, **tkwargs)\n",
    "tp0c = torch.tensor(p0c, **tkwargs)\n",
    "tmc2 = torch.tensor(mc2, **tkwargs) #necessary? \n",
    "tpvec = torch.tensor(pvec, requires_grad=True, **tkwargs)\n",
    "p_torch = Particle(*tpvec.T, ts, tp0c, tmc2)\n",
    "p_torch"
   ]
  },
  {
   "cell_type": "markdown",
   "id": "7638cac6-72c7-4e95-ae44-6ff97b375ae3",
   "metadata": {
    "tags": []
   },
   "source": [
    "# Drift"
   ]
  },
  {
   "cell_type": "markdown",
   "id": "cc600822-3b8b-49da-92cb-7307efbca625",
   "metadata": {
    "tags": [],
    "toc-hr-collapsed": true
   },
   "source": [
    "## `track_a_drift`"
   ]
  },
  {
   "cell_type": "code",
   "execution_count": 5,
   "id": "802fc720-0c08-4f46-b9ed-78deea47decb",
   "metadata": {
    "tags": []
   },
   "outputs": [],
   "source": [
    "def make_track_a_drift(lib):\n",
    "    \"\"\"\n",
    "    Makes track_a_drift given the library lib\n",
    "    \"\"\"\n",
    "    \n",
    "    sqrt = lib.sqrt\n",
    "    \n",
    "    def track_a_drift(p_in, drift):\n",
    "        \"\"\"\n",
    "        Tracks the incoming Particle p_in though drift element\n",
    "        and returns the outgoing particle. See eqs 24.58 in bmad manual\n",
    "        \"\"\"\n",
    "        L = drift.L\n",
    "        \n",
    "        s = p_in.s\n",
    "        p0c = p_in.p0c\n",
    "        mc2 = p_in.mc2\n",
    "        \n",
    "        x = p_in.x\n",
    "        px = p_in.px\n",
    "        y = p_in.y\n",
    "        py = p_in.py\n",
    "        z = p_in.z\n",
    "        pz = p_in.pz\n",
    "        \n",
    "        P = 1 + pz #Particle's total momentum over p0\n",
    "        Px = px / P #Particle's 'x' momentum over p0\n",
    "        Py = py / P #Particle's 'y' momentum over p0\n",
    "        Pxy2 = Px**2 + Py**2 #Particle's transverse mometum^2 over p0^2\n",
    "        Pl = sqrt(1-Pxy2)  #Particle's longitudinal momentum over p0\n",
    "        \n",
    "        x = x + L * Px / Pl\n",
    "        y = y + L * Py / Pl\n",
    "        \n",
    "        beta = P * p0c / sqrt( (P*p0c)**2 + mc2**2) # hypot\n",
    "        beta_ref = p0c / sqrt( p0c**2 + mc2**2)\n",
    "        z = z + L * ( beta/beta_ref - 1.0/Pl )\n",
    "        s = s + L\n",
    "        \n",
    "        return Particle(x, px, y, py, z, pz, s, p0c, mc2)\n",
    "    \n",
    "    return track_a_drift\n",
    "\n",
    "# Specialized functions\n",
    "track_a_drift_torch = make_track_a_drift(lib=torch)"
   ]
  },
  {
   "cell_type": "markdown",
   "id": "3e43fa07-c14f-4374-8bb0-25d0d9eb3d8b",
   "metadata": {
    "tags": [],
    "toc-hr-collapsed": true
   },
   "source": [
    "## drift test"
   ]
  },
  {
   "cell_type": "code",
   "execution_count": 6,
   "id": "ee6fdf69-c492-4bc0-83c9-9b6a0400ef1f",
   "metadata": {
    "tags": []
   },
   "outputs": [
    {
     "data": {
      "text/plain": [
       "'Drift'"
      ]
     },
     "execution_count": 6,
     "metadata": {},
     "output_type": "execute_result"
    }
   ],
   "source": [
    "# Create drift\n",
    "L=1.0 # Drift length in m\n",
    "d1 = Drift(torch.tensor(L, **tkwargs))\n",
    "type(d1).__name__"
   ]
  },
  {
   "cell_type": "markdown",
   "id": "f47cc1d4-c514-4f23-a70b-b692e4a0c4dc",
   "metadata": {
    "tags": []
   },
   "source": [
    "### One particle test"
   ]
  },
  {
   "cell_type": "code",
   "execution_count": 7,
   "id": "22f5b59f-a16b-4e85-bc07-d9a6022c9dc2",
   "metadata": {
    "tags": []
   },
   "outputs": [
    {
     "data": {
      "text/plain": [
       "tensor([2.0000000000000000e-03, 3.0000000000000001e-03, -3.0000000000000001e-03,\n",
       "        -1.0000000000000000e-03, 2.0000000000000000e-03, -2.0000000000000000e-03],\n",
       "       dtype=torch.float64, requires_grad=True)"
      ]
     },
     "execution_count": 7,
     "metadata": {},
     "output_type": "execute_result"
    }
   ],
   "source": [
    "# Incoming particle\n",
    "s = 0.0 #initial s\n",
    "p0c = 4.0E+07 #Reference particle momentum in eV\n",
    "mc2 = 1*m_e # electron mass in eV\n",
    "ts = torch.tensor(s, **tkwargs)\n",
    "tp0c = torch.tensor(p0c, **tkwargs)\n",
    "tmc2 = torch.tensor(mc2, **tkwargs)\n",
    "pvec1 = [2e-3,3e-3,-3e-3,-1e-3,2e-3,-2e-3] \n",
    "tvec1 = torch.tensor(pvec1, requires_grad=True, **tkwargs)\n",
    "tvec1"
   ]
  },
  {
   "cell_type": "code",
   "execution_count": 8,
   "id": "2f852ced-da43-4f95-8578-779f46d15eb1",
   "metadata": {},
   "outputs": [
    {
     "data": {
      "text/plain": [
       "tensor([5.0060271145229325e-03, 3.0000000000000001e-03, -4.0020090381743109e-03,\n",
       "        -1.0000000000000000e-03, 1.9946525738924175e-03, -2.0000000000000000e-03],\n",
       "       dtype=torch.float64)"
      ]
     },
     "execution_count": 8,
     "metadata": {},
     "output_type": "execute_result"
    }
   ],
   "source": [
    "# Outgoing particle\n",
    "p_out = track_a_drift_torch(Particle(*tvec1,ts, tp0c, tmc2), d1)\n",
    "x_me = torch.hstack([p_out.x,p_out.px,p_out.y,p_out.py,p_out.z,p_out.pz]).detach()\n",
    "x_me"
   ]
  },
  {
   "cell_type": "code",
   "execution_count": 9,
   "id": "7a6c2d68-8d1e-4eaa-9fd0-aa67111276da",
   "metadata": {
    "tags": []
   },
   "outputs": [],
   "source": [
    "# bmad lattice for comparison\n",
    "tao = Tao('-lat test_drift.bmad -noplot')\n",
    "tao.cmd('set particle_start x='+str(pvec1[0]))\n",
    "tao.cmd('set particle_start px='+str(pvec1[1]))\n",
    "tao.cmd('set particle_start y='+str(pvec1[2]))\n",
    "tao.cmd('set particle_start py='+str(pvec1[3]))\n",
    "tao.cmd('set particle_start z='+str(pvec1[4]))\n",
    "tao.cmd('set particle_start pz='+str(pvec1[5]))\n",
    "orbit_out=tao.orbit_at_s(ele=1)\n",
    "#orbit_out"
   ]
  },
  {
   "cell_type": "code",
   "execution_count": 10,
   "id": "f986a53a-edc8-48cc-93b7-28911872bc94",
   "metadata": {},
   "outputs": [
    {
     "data": {
      "text/plain": [
       "tensor([5.0060271145229299e-03, 3.0000000000000001e-03, -4.0020090381743100e-03,\n",
       "        -1.0000000000000000e-03, 1.9946525738923598e-03, -2.0000000000000000e-03],\n",
       "       dtype=torch.float64)"
      ]
     },
     "execution_count": 10,
     "metadata": {},
     "output_type": "execute_result"
    }
   ],
   "source": [
    "# bmad outgoing particle\n",
    "x_tao = torch.tensor([orbit_out['x'],orbit_out['px'],orbit_out['y'],orbit_out['py'],orbit_out['z'],orbit_out['pz']],**tkwargs)\n",
    "x_tao"
   ]
  },
  {
   "cell_type": "code",
   "execution_count": 11,
   "id": "729e2c24-ee37-4d5b-8b76-81d1f5107dbf",
   "metadata": {},
   "outputs": [
    {
     "data": {
      "text/plain": [
       "True"
      ]
     },
     "execution_count": 11,
     "metadata": {},
     "output_type": "execute_result"
    }
   ],
   "source": [
    "torch.allclose(x_me, x_tao)"
   ]
  },
  {
   "cell_type": "markdown",
   "id": "d8fae022-eda1-4b37-89a3-48d9c9fc3ddb",
   "metadata": {
    "tags": []
   },
   "source": [
    "### Jacobian test"
   ]
  },
  {
   "cell_type": "code",
   "execution_count": 12,
   "id": "062c3a71-b3b9-48b5-85a3-d332f716496d",
   "metadata": {},
   "outputs": [],
   "source": [
    "f_drift = lambda x: track_a_drift_torch(Particle(*x, ts, tp0c, tmc2), d1)[:6]\n",
    "J = jacobian(f_drift, tvec1)"
   ]
  },
  {
   "cell_type": "code",
   "execution_count": 13,
   "id": "2f3a581f-157b-44bd-b596-185155a9c972",
   "metadata": {
    "tags": []
   },
   "outputs": [
    {
     "data": {
      "text/plain": [
       "tensor([[ 1.0000000000000000e+00,  1.0020180925273929e+00,\n",
       "          0.0000000000000000e+00, -3.0181176940051169e-06,\n",
       "          0.0000000000000000e+00, -3.0120814586171068e-03],\n",
       "        [ 0.0000000000000000e+00,  1.0000000000000000e+00,\n",
       "          0.0000000000000000e+00,  0.0000000000000000e+00,\n",
       "          0.0000000000000000e+00,  0.0000000000000000e+00],\n",
       "        [ 0.0000000000000000e+00, -3.0181176940051169e-06,\n",
       "          1.0000000000000000e+00,  1.0020100442135422e+00,\n",
       "          0.0000000000000000e+00,  1.0040271528723688e-03],\n",
       "        [ 0.0000000000000000e+00,  0.0000000000000000e+00,\n",
       "          0.0000000000000000e+00,  1.0000000000000000e+00,\n",
       "          0.0000000000000000e+00,  0.0000000000000000e+00],\n",
       "        [ 0.0000000000000000e+00, -3.0120814586171063e-03,\n",
       "          0.0000000000000000e+00,  1.0040271528723688e-03,\n",
       "          1.0000000000000000e+00,  1.7421652474771806e-04],\n",
       "        [ 0.0000000000000000e+00,  0.0000000000000000e+00,\n",
       "          0.0000000000000000e+00,  0.0000000000000000e+00,\n",
       "          0.0000000000000000e+00,  1.0000000000000000e+00]],\n",
       "       dtype=torch.float64)"
      ]
     },
     "execution_count": 13,
     "metadata": {},
     "output_type": "execute_result"
    }
   ],
   "source": [
    "# Jacobian matrix\n",
    "mat_me = torch.vstack(J)\n",
    "mat_me"
   ]
  },
  {
   "cell_type": "code",
   "execution_count": 14,
   "id": "9f168d28-5c4a-4db0-a649-c8bde823496c",
   "metadata": {},
   "outputs": [
    {
     "data": {
      "text/plain": [
       "tensor([[ 1.0000000000000000e+00,  1.0020180925273900e+00,\n",
       "          0.0000000000000000e+00, -3.0181176940051199e-06,\n",
       "          0.0000000000000000e+00, -3.0120814586171098e-03],\n",
       "        [ 0.0000000000000000e+00,  1.0000000000000000e+00,\n",
       "          0.0000000000000000e+00,  0.0000000000000000e+00,\n",
       "          0.0000000000000000e+00,  0.0000000000000000e+00],\n",
       "        [ 0.0000000000000000e+00, -3.0181176940051199e-06,\n",
       "          1.0000000000000000e+00,  1.0020100442135400e+00,\n",
       "          0.0000000000000000e+00,  1.0040271528723699e-03],\n",
       "        [ 0.0000000000000000e+00,  0.0000000000000000e+00,\n",
       "          0.0000000000000000e+00,  1.0000000000000000e+00,\n",
       "          0.0000000000000000e+00,  0.0000000000000000e+00],\n",
       "        [ 0.0000000000000000e+00, -3.0120814586171098e-03,\n",
       "          0.0000000000000000e+00,  1.0040271528723699e-03,\n",
       "          1.0000000000000000e+00,  1.7421652474810300e-04],\n",
       "        [ 0.0000000000000000e+00,  0.0000000000000000e+00,\n",
       "          0.0000000000000000e+00,  0.0000000000000000e+00,\n",
       "          0.0000000000000000e+00,  1.0000000000000000e+00]],\n",
       "       dtype=torch.float64)"
      ]
     },
     "execution_count": 14,
     "metadata": {},
     "output_type": "execute_result"
    }
   ],
   "source": [
    "# Bmad Jacobian\n",
    "drift_tao = tao.matrix(0,1)\n",
    "mat_tao = torch.tensor(drift_tao['mat6'], **tkwargs)\n",
    "mat_tao"
   ]
  },
  {
   "cell_type": "code",
   "execution_count": 15,
   "id": "4707f2f9-3e23-4497-9dda-78205b54965f",
   "metadata": {},
   "outputs": [
    {
     "data": {
      "text/plain": [
       "True"
      ]
     },
     "execution_count": 15,
     "metadata": {},
     "output_type": "execute_result"
    }
   ],
   "source": [
    "torch.allclose(mat_me, mat_tao)"
   ]
  },
  {
   "cell_type": "markdown",
   "id": "c3f3188a-39d8-4d68-bb0e-131a8dbb22a6",
   "metadata": {
    "tags": []
   },
   "source": [
    "# Quadrupole"
   ]
  },
  {
   "cell_type": "markdown",
   "id": "131a4d7a-51fc-4020-8a04-bb0fa8c435ae",
   "metadata": {
    "tags": [],
    "toc-hr-collapsed": true
   },
   "source": [
    "## `track_a_quadrupole`"
   ]
  },
  {
   "cell_type": "code",
   "execution_count": 16,
   "id": "23c5b99c-f531-4b2f-83bc-65df4409a93d",
   "metadata": {},
   "outputs": [],
   "source": [
    "def make_track_a_quadrupole(lib):\n",
    "    \"\"\"\n",
    "    Makes track_a_quadrupole given the library lib\n",
    "    \"\"\"\n",
    "    sqrt = lib.sqrt\n",
    "    absolute = lib.abs\n",
    "    sin = lib.sin\n",
    "    cos = lib.cos\n",
    "    sinh = lib.sinh\n",
    "    cosh = lib.cosh\n",
    "    ones = lib.ones\n",
    "    \n",
    "    def quad_mat2_calc(k1, length, rel_p):\n",
    "        \"\"\"\n",
    "        Returns 2x2 transfer matrix elements aij and the coefficients to calculate \n",
    "        the change in z position.\n",
    "        Input: \n",
    "            k1_ref -- Quad strength: k1 > 0 ==> defocus\n",
    "            length -- Quad length\n",
    "            rel_p -- Relative momentum P/P0\n",
    "        Output:\n",
    "            a11, a12, a21, a22 -- transfer matrix elements\n",
    "            c1, c2, c3 -- second order derivatives of z such that \n",
    "                        z = c1 * x_0^2 + c2 * x_0 * px_0 + c3* px_0^2\n",
    "        \"\"\" \n",
    "        \n",
    "        eps = 2.220446049250313e-16 #machine epsilon\n",
    "        \n",
    "        sqrt_k = sqrt(absolute(k1)+eps)\n",
    "        sk_l = sqrt_k * length\n",
    "        \n",
    "        cx = cos(sk_l) * (k1<=0) + cosh(sk_l) * (k1>0)\n",
    "        sx = (sin(sk_l)/(sqrt_k))*(k1<0) + (sinh(sk_l)/(sqrt_k))*(k1>=0)\n",
    "        \n",
    "        a11 = cx\n",
    "        a12 = sx / rel_p\n",
    "        a21 = k1 * sx * rel_p\n",
    "        a22 = cx\n",
    "            \n",
    "        c1 = k1 * (-cx * sx + length) / 4\n",
    "        c2 = -k1 * sx**2 / (2 * rel_p)\n",
    "        c3 = -(cx * sx + length) / (4 * rel_p**2)\n",
    "\n",
    "        return a11, a12, a21, a22, c1, c2, c3\n",
    "    \n",
    "    \n",
    "    def low_energy_z_correction(pz, p0c, mass, ds):\n",
    "        \"\"\"\n",
    "        Corrects the change in z-coordinate due to speed < c_light. \n",
    "        Input:\n",
    "            p0c -- reference particle momentum in eV\n",
    "            mass -- particle mass in eV\n",
    "        Output: \n",
    "            dz -- dz = (ds - d_particle) + ds * (beta - beta_ref) / beta_ref\n",
    "        \"\"\"\n",
    "        beta = (1+pz) * p0c / sqrt(((1+pz)*p0c)**2 + mc2**2)\n",
    "        beta0 = p0c / sqrt( p0c**2 + mc2**2)\n",
    "        e_tot = sqrt(p0c**2+mass**2)\n",
    "        \n",
    "        evaluation = mass * (beta0*pz)**2\n",
    "        dz = (ds*pz*(1-3*(pz*beta0**2)/2+pz**2*beta0**2*(2*beta0**2-(mass/e_tot)**2/2))*(mass/e_tot)**2)*(evaluation<3e-7*e_tot) + (ds*(beta-beta0)/beta0)*(evaluation>=3e-7*e_tot)\n",
    "        #dz=0\n",
    "        return dz\n",
    "    \n",
    "    \n",
    "    def track_a_quadrupole(p_in, quad):\n",
    "        \"\"\"\n",
    "        Tracks the incoming Particle p_in though quad element\n",
    "        and returns the outgoing particle.\n",
    "        \"\"\"\n",
    "        l = quad.L\n",
    "        k1 = quad.K1\n",
    "        n_step = quad.NUM_STEPS #number of divisions\n",
    "        step_len = l/n_step #length of division\n",
    "        \n",
    "        b1=k1*l\n",
    "        \n",
    "        s = p_in.s\n",
    "        p0c = p_in.p0c\n",
    "        mc2 = p_in.mc2\n",
    "        \n",
    "        x = p_in.x\n",
    "        px = p_in.px\n",
    "        y = p_in.y\n",
    "        py = p_in.py\n",
    "        z = p_in.z\n",
    "        pz = p_in.pz\n",
    "        \n",
    "        for i in range(n_step):\n",
    "            rel_p = 1 + pz #Particle's relative momentum (P/P0)\n",
    "            k1 = b1/(l*rel_p)\n",
    "            \n",
    "            tx11, tx12, tx21, tx22, dz_x1, dz_x2, dz_x3 = quad_mat2_calc(-k1, step_len, rel_p)\n",
    "            ty11, ty12, ty21, ty22, dz_y1, dz_y2, dz_y3 = quad_mat2_calc( k1, step_len, rel_p)\n",
    "            \n",
    "            z = ( z +\n",
    "                dz_x1 * x**2 + dz_x2 * x * px + dz_x3 * px**2 +\n",
    "                dz_y1 * y**2 + dz_y2 * y * py + dz_y3 * py**2 )\n",
    "            x_next = tx11 * x + tx12 * px\n",
    "            px_next = tx21 * x + tx22 * px\n",
    "            y_next = ty11 * y + ty12 * py\n",
    "            py_next = ty21 * y + ty22 * py\n",
    "            x = x_next\n",
    "            px = px_next\n",
    "            y = y_next\n",
    "            py = py_next\n",
    "            \n",
    "            z = z + low_energy_z_correction(pz, p0c, mc2, step_len)\n",
    "        \n",
    "        s = s + l\n",
    "        \n",
    "        return Particle(x, px, y, py, z, pz, s, p0c, mc2)\n",
    "    \n",
    "    return track_a_quadrupole\n",
    "\n",
    "# Specialized functions\n",
    "track_a_quadrupole_torch = make_track_a_quadrupole(lib=torch)"
   ]
  },
  {
   "cell_type": "markdown",
   "id": "b36b7b45-0c9e-483a-a4af-7320c173a308",
   "metadata": {
    "tags": [],
    "toc-hr-collapsed": true
   },
   "source": [
    "## quadrupole test"
   ]
  },
  {
   "cell_type": "code",
   "execution_count": 17,
   "id": "5dcd7b1a-ba3f-4b45-a5e6-455650fd6598",
   "metadata": {},
   "outputs": [
    {
     "data": {
      "text/plain": [
       "Quadrupole(L=tensor(1.0000000000000001e-01, dtype=torch.float64), K1=tensor(0., dtype=torch.float64), NUM_STEPS=1)"
      ]
     },
     "execution_count": 17,
     "metadata": {},
     "output_type": "execute_result"
    }
   ],
   "source": [
    "# Create quad\n",
    "L = 0.1 #Length in m\n",
    "K1 = 0 #Quad focusing strength. Positive is focusing in x\n",
    "NUM_STEPS = 1 #number of divisions for tracking. 1 is bmad default when there are no other multipoles\n",
    "q1 = Quadrupole(torch.tensor(L, **tkwargs), torch.tensor(K1, **tkwargs), NUM_STEPS)\n",
    "q1"
   ]
  },
  {
   "cell_type": "markdown",
   "id": "b73fdb87-f4bd-4b42-8ad9-6eb54030ad99",
   "metadata": {},
   "source": [
    "### One particle test"
   ]
  },
  {
   "cell_type": "code",
   "execution_count": 18,
   "id": "7ef8b038-c06f-4474-b98b-79592da924f0",
   "metadata": {},
   "outputs": [
    {
     "data": {
      "text/plain": [
       "tensor([2.0000000000000000e-03, 3.0000000000000001e-03, -3.0000000000000001e-03,\n",
       "        -1.0000000000000000e-03, 2.0000000000000000e-03, -2.0000000000000000e-03],\n",
       "       dtype=torch.float64, requires_grad=True)"
      ]
     },
     "execution_count": 18,
     "metadata": {},
     "output_type": "execute_result"
    }
   ],
   "source": [
    "# Incoming particle\n",
    "s = 0.0 #initial s\n",
    "p0c = 4.0E+07 #Reference particle momentum in eV\n",
    "mc2 = 1*m_e # electron mass in eV\n",
    "ts = torch.tensor(s, **tkwargs)\n",
    "tp0c = torch.tensor(p0c, **tkwargs)\n",
    "tmc2 = torch.tensor(mc2, **tkwargs) \n",
    "pvec1 = [2e-3,3e-3,-3e-3,-1e-3,2e-3,-2e-3] \n",
    "tvec1 = torch.tensor(pvec1, requires_grad=True, **tkwargs)\n",
    "tvec1"
   ]
  },
  {
   "cell_type": "code",
   "execution_count": 19,
   "id": "0d16dea9-7c66-4c92-bd7e-b0bca1097b8f",
   "metadata": {},
   "outputs": [
    {
     "data": {
      "text/plain": [
       "tensor([2.3006012024048097e-03, 3.0000000000000001e-03, -3.1002004008016033e-03,\n",
       "        -1.0000000000000000e-03, 1.9994652611700723e-03, -2.0000000000000000e-03],\n",
       "       dtype=torch.float64)"
      ]
     },
     "execution_count": 19,
     "metadata": {},
     "output_type": "execute_result"
    }
   ],
   "source": [
    "# Outgoing particle\n",
    "p_out = track_a_quadrupole_torch(Particle(*tvec1,ts, tp0c, tmc2), q1)\n",
    "x_me = torch.hstack(p_out[:6]).detach()\n",
    "x_me"
   ]
  },
  {
   "cell_type": "code",
   "execution_count": 20,
   "id": "7670ad81-5961-41bc-8719-1e23e97fb9a0",
   "metadata": {},
   "outputs": [],
   "source": [
    "# Bmad lattice to compare\n",
    "tao = Tao('-lat test_quad.bmad -noplot')\n",
    "tao.cmd('set particle_start x='+str(pvec1[0]))\n",
    "tao.cmd('set particle_start px='+str(pvec1[1]))\n",
    "tao.cmd('set particle_start y='+str(pvec1[2]))\n",
    "tao.cmd('set particle_start py='+str(pvec1[3]))\n",
    "tao.cmd('set particle_start z='+str(pvec1[4]))\n",
    "tao.cmd('set particle_start pz='+str(pvec1[5]))\n",
    "orbit_out = tao.orbit_at_s(ele=1)"
   ]
  },
  {
   "cell_type": "code",
   "execution_count": 21,
   "id": "cfc1852e-89e0-4033-b1ba-06eaef09b20c",
   "metadata": {
    "tags": []
   },
   "outputs": [],
   "source": [
    "#%%tao\n",
    "#show ele 1"
   ]
  },
  {
   "cell_type": "code",
   "execution_count": 22,
   "id": "82aa9e17-97ec-4556-93d1-2f54163d7f35",
   "metadata": {},
   "outputs": [
    {
     "data": {
      "text/plain": [
       "tensor([2.3006012024048101e-03, 3.0000000000000001e-03, -3.1002004008015998e-03,\n",
       "        -1.0000000000000000e-03, 1.9994652611700701e-03, -2.0000000000000000e-03],\n",
       "       dtype=torch.float64)"
      ]
     },
     "execution_count": 22,
     "metadata": {},
     "output_type": "execute_result"
    }
   ],
   "source": [
    "# Bmad outgoing particle\n",
    "x_tao = torch.tensor([orbit_out['x'],orbit_out['px'],orbit_out['y'],orbit_out['py'],orbit_out['z'],orbit_out['pz']],**tkwargs)\n",
    "x_tao"
   ]
  },
  {
   "cell_type": "code",
   "execution_count": 23,
   "id": "0174f8be-14cc-4aab-8b10-cecb0f044eb3",
   "metadata": {},
   "outputs": [
    {
     "data": {
      "text/plain": [
       "True"
      ]
     },
     "execution_count": 23,
     "metadata": {},
     "output_type": "execute_result"
    }
   ],
   "source": [
    "torch.allclose(x_me, x_tao)"
   ]
  },
  {
   "cell_type": "markdown",
   "id": "18d8ab23-f846-44e9-88c9-987b2267f9a1",
   "metadata": {
    "tags": []
   },
   "source": [
    "### Jacobian test"
   ]
  },
  {
   "cell_type": "code",
   "execution_count": 24,
   "id": "ea343dea-8c1f-4ce8-8d5c-3aa0f89d9812",
   "metadata": {},
   "outputs": [],
   "source": [
    "f_quadrupole = lambda x: track_a_quadrupole_torch(Particle(*x,ts, tp0c, tmc2), q1)[:6]\n",
    "J = jacobian(f_quadrupole, tvec1)"
   ]
  },
  {
   "cell_type": "code",
   "execution_count": 25,
   "id": "f0f45bf6-e8a9-469d-9883-76e85edb777b",
   "metadata": {},
   "outputs": [
    {
     "data": {
      "text/plain": [
       "tensor([[ 1.0000000000000000e+00,  1.0020040080160321e-01,\n",
       "          0.0000000000000000e+00,  0.0000000000000000e+00,\n",
       "          0.0000000000000000e+00, -3.0120360962405777e-04],\n",
       "        [-0.0000000000000000e+00,  1.0000000000000000e+00,\n",
       "          0.0000000000000000e+00,  0.0000000000000000e+00,\n",
       "          0.0000000000000000e+00,  0.0000000000000000e+00],\n",
       "        [ 0.0000000000000000e+00,  0.0000000000000000e+00,\n",
       "          1.0000000000000000e+00,  1.0020040080160321e-01,\n",
       "          0.0000000000000000e+00,  1.0040120320801925e-04],\n",
       "        [ 0.0000000000000000e+00,  0.0000000000000000e+00,\n",
       "          0.0000000000000000e+00,  1.0000000000000000e+00,\n",
       "          0.0000000000000000e+00,  0.0000000000000000e+00],\n",
       "        [ 0.0000000000000000e+00, -3.0120360962405777e-04,\n",
       "          0.0000000000000000e+00,  1.0040120320801925e-04,\n",
       "          1.0000000000000000e+00,  1.7421636015204266e-05],\n",
       "        [ 0.0000000000000000e+00,  0.0000000000000000e+00,\n",
       "          0.0000000000000000e+00,  0.0000000000000000e+00,\n",
       "          0.0000000000000000e+00,  1.0000000000000000e+00]],\n",
       "       dtype=torch.float64)"
      ]
     },
     "execution_count": 25,
     "metadata": {},
     "output_type": "execute_result"
    }
   ],
   "source": [
    "# Jacobian matrix\n",
    "mat_me = torch.vstack(J)\n",
    "mat_me"
   ]
  },
  {
   "cell_type": "code",
   "execution_count": 26,
   "id": "9e6cd8cc-4f9d-4072-a48b-b27961ad5762",
   "metadata": {},
   "outputs": [
    {
     "data": {
      "text/plain": [
       "tensor([[ 1.0000000000000000e+00,  1.0020040080160300e-01,\n",
       "          0.0000000000000000e+00,  0.0000000000000000e+00,\n",
       "          0.0000000000000000e+00, -3.0120360962405799e-04],\n",
       "        [ 0.0000000000000000e+00,  1.0000000000000000e+00,\n",
       "          0.0000000000000000e+00,  0.0000000000000000e+00,\n",
       "          0.0000000000000000e+00,  0.0000000000000000e+00],\n",
       "        [ 0.0000000000000000e+00,  0.0000000000000000e+00,\n",
       "          1.0000000000000000e+00,  1.0020040080160300e-01,\n",
       "          0.0000000000000000e+00,  1.0040120320801900e-04],\n",
       "        [ 0.0000000000000000e+00,  0.0000000000000000e+00,\n",
       "          0.0000000000000000e+00,  1.0000000000000000e+00,\n",
       "          0.0000000000000000e+00,  0.0000000000000000e+00],\n",
       "        [ 0.0000000000000000e+00, -3.0120360962405799e-04,\n",
       "          0.0000000000000000e+00,  1.0040120320801900e-04,\n",
       "          1.0000000000000000e+00,  1.7421636015204300e-05],\n",
       "        [ 0.0000000000000000e+00,  0.0000000000000000e+00,\n",
       "          0.0000000000000000e+00,  0.0000000000000000e+00,\n",
       "          0.0000000000000000e+00,  1.0000000000000000e+00]],\n",
       "       dtype=torch.float64)"
      ]
     },
     "execution_count": 26,
     "metadata": {},
     "output_type": "execute_result"
    }
   ],
   "source": [
    "# Bmad Jacobian\n",
    "quad_tao = tao.matrix(0,1)\n",
    "mat_tao = torch.tensor(quad_tao['mat6'], **tkwargs)\n",
    "mat_tao"
   ]
  },
  {
   "cell_type": "code",
   "execution_count": 27,
   "id": "daea008b-7368-4f75-9fe0-fb3de156d68f",
   "metadata": {},
   "outputs": [
    {
     "data": {
      "text/plain": [
       "True"
      ]
     },
     "execution_count": 27,
     "metadata": {},
     "output_type": "execute_result"
    }
   ],
   "source": [
    "torch.allclose(mat_me, mat_tao)"
   ]
  },
  {
   "cell_type": "markdown",
   "id": "491331ff-7285-470a-85fe-b795668e5d13",
   "metadata": {
    "tags": [],
    "toc-hr-collapsed": true
   },
   "source": [
    "# Lattice"
   ]
  },
  {
   "cell_type": "markdown",
   "id": "5845b823-d05d-4f3b-89ca-02700f7b2181",
   "metadata": {},
   "source": [
    "## `track_a_lattice`"
   ]
  },
  {
   "cell_type": "code",
   "execution_count": 28,
   "id": "6c6e16e1-32f8-4510-ab70-bfbce5bd340d",
   "metadata": {},
   "outputs": [],
   "source": [
    "def track_a_lattice(p_in,lattice):\n",
    "    lib = sys.modules[type(p_in.x).__module__]\n",
    "    tracking_function_dict = {\n",
    "        \"Drift\" : make_track_a_drift(lib),\n",
    "        \"Quadrupole\" : make_track_a_quadrupole(lib)\n",
    "    }\n",
    "    p_out = p_in \n",
    "    for ele in lattice:\n",
    "        track_f = tracking_function_dict[type(ele).__name__]\n",
    "        p_out = track_f(p_out,ele)\n",
    "    return p_out"
   ]
  },
  {
   "cell_type": "markdown",
   "id": "0ac9763c-045b-4de3-bf0d-f7d9eb3ceb63",
   "metadata": {
    "tags": []
   },
   "source": [
    "## test `track_a_lattice`"
   ]
  },
  {
   "cell_type": "code",
   "execution_count": 29,
   "id": "e382de98-ca91-4511-9ff0-190dba00655b",
   "metadata": {},
   "outputs": [
    {
     "data": {
      "text/plain": [
       "(Drift(L=tensor(1.0000000000000000e+00, dtype=torch.float64)),\n",
       " Quadrupole(L=tensor(1.0000000000000001e-01, dtype=torch.float64), K1=tensor(1.0000000000000000e+01, dtype=torch.float64), NUM_STEPS=1))"
      ]
     },
     "execution_count": 29,
     "metadata": {},
     "output_type": "execute_result"
    }
   ],
   "source": [
    "# Create drift\n",
    "L=1.0 # Drift length in m\n",
    "d1 = Drift(torch.tensor(L, **tkwargs))\n",
    "d1\n",
    "# Create quad\n",
    "L = 0.1 #Length in m\n",
    "K1 = 10 #Quad focusing strength. Positive is focusing in x\n",
    "NUM_STEPS = 1 #number of divisions for tracking. 1 is bmad default when there are no other multipoles\n",
    "q1 = Quadrupole(torch.tensor(L, **tkwargs), torch.tensor(K1, **tkwargs), NUM_STEPS)\n",
    "d1,q1"
   ]
  },
  {
   "cell_type": "code",
   "execution_count": 30,
   "id": "a9fad1a8-13d6-45ce-b38a-3c9fd27e39c6",
   "metadata": {},
   "outputs": [
    {
     "data": {
      "text/plain": [
       "Particle(x=tensor(2.0000000000000000e-03, dtype=torch.float64, grad_fn=<UnbindBackward0>), px=tensor(3.0000000000000001e-03, dtype=torch.float64, grad_fn=<UnbindBackward0>), y=tensor(-3.0000000000000001e-03, dtype=torch.float64, grad_fn=<UnbindBackward0>), py=tensor(-1.0000000000000000e-03, dtype=torch.float64, grad_fn=<UnbindBackward0>), z=tensor(2.0000000000000000e-03, dtype=torch.float64, grad_fn=<UnbindBackward0>), pz=tensor(-2.0000000000000000e-03, dtype=torch.float64, grad_fn=<UnbindBackward0>), s=tensor(0., dtype=torch.float64), p0c=tensor(4.0000000000000000e+07, dtype=torch.float64), mc2=tensor( 5.1099895000000001e+05, dtype=torch.float64))"
      ]
     },
     "execution_count": 30,
     "metadata": {},
     "output_type": "execute_result"
    }
   ],
   "source": [
    "# Incoming particle\n",
    "s = 0.0 #initial s\n",
    "p0c = 4.0E+07 #Reference particle momentum in eV\n",
    "mc2 = 1*m_e # electron mass in eV\n",
    "ts = torch.tensor(s, **tkwargs)\n",
    "tp0c = torch.tensor(p0c, **tkwargs)\n",
    "tmc2 = torch.tensor(mc2, **tkwargs)\n",
    "pvec1 = [2e-3,3e-3,-3e-3,-1e-3,2e-3,-2e-3] \n",
    "tvec1 = torch.tensor(pvec1, requires_grad=True, **tkwargs)\n",
    "p_in = Particle(*tvec1, ts, tp0c, tmc2)\n",
    "p_in"
   ]
  },
  {
   "cell_type": "code",
   "execution_count": 31,
   "id": "5c8e5ad9-3309-4323-bfeb-a57209658750",
   "metadata": {},
   "outputs": [
    {
     "data": {
      "text/plain": [
       "tensor([-2.2819679612099907e-03, -4.8963303496563082e-03, -2.5439131659086591e-02,\n",
       "        -1.4972829678474660e-02, 1.8473246819740532e-03, -2.0000000000000000e-03],\n",
       "       dtype=torch.float64)"
      ]
     },
     "execution_count": 31,
     "metadata": {},
     "output_type": "execute_result"
    }
   ],
   "source": [
    "#example\n",
    "lattice = (d1, q1, d1, q1, d1)\n",
    "x_me = torch.hstack(track_a_lattice(p_in, lattice)[:6]).detach()\n",
    "x_me"
   ]
  },
  {
   "cell_type": "code",
   "execution_count": 32,
   "id": "9723f930-5c64-4fdc-a94c-df2a816bfe0a",
   "metadata": {},
   "outputs": [],
   "source": [
    "# Bmad lattice to compare\n",
    "tao = Tao('-lat test_drift_quad.bmad -noplot')\n",
    "tao.cmd('set particle_start x='+str(pvec1[0]))\n",
    "tao.cmd('set particle_start px='+str(pvec1[1]))\n",
    "tao.cmd('set particle_start y='+str(pvec1[2]))\n",
    "tao.cmd('set particle_start py='+str(pvec1[3]))\n",
    "tao.cmd('set particle_start z='+str(pvec1[4]))\n",
    "tao.cmd('set particle_start pz='+str(pvec1[5]))\n",
    "orbit_out = tao.orbit_at_s(ele=5)"
   ]
  },
  {
   "cell_type": "code",
   "execution_count": 33,
   "id": "d3911c94-0464-4b62-ad7a-55e197ed22be",
   "metadata": {},
   "outputs": [
    {
     "data": {
      "text/plain": [
       "tensor([-2.2819679612099898e-03, -4.8963303496563099e-03, -2.5439131659086602e-02,\n",
       "        -1.4972829678474700e-02, 1.8473246819741701e-03, -2.0000000000000000e-03],\n",
       "       dtype=torch.float64)"
      ]
     },
     "execution_count": 33,
     "metadata": {},
     "output_type": "execute_result"
    }
   ],
   "source": [
    "# Bmad outgoing particle\n",
    "x_tao = torch.tensor([orbit_out['x'],orbit_out['px'],orbit_out['y'],orbit_out['py'],orbit_out['z'],orbit_out['pz']],**tkwargs)\n",
    "x_tao"
   ]
  },
  {
   "cell_type": "code",
   "execution_count": 34,
   "id": "09dfa314-fd81-443b-9084-970a0ee22e1f",
   "metadata": {},
   "outputs": [
    {
     "data": {
      "text/plain": [
       "True"
      ]
     },
     "execution_count": 34,
     "metadata": {},
     "output_type": "execute_result"
    }
   ],
   "source": [
    "torch.allclose(x_me, x_tao)"
   ]
  },
  {
   "cell_type": "code",
   "execution_count": 35,
   "id": "dc9d30da-be29-4072-a9fa-b982030531de",
   "metadata": {
    "tags": []
   },
   "outputs": [],
   "source": [
    "f_driftquadrupole = lambda x: track_a_lattice(Particle(*x, ts, tp0c, tmc2), lattice)[:6]\n",
    "J = jacobian(f_driftquadrupole, tvec1)"
   ]
  },
  {
   "cell_type": "code",
   "execution_count": 36,
   "id": "a15024cb-8d00-434c-9642-3cf3105db844",
   "metadata": {},
   "outputs": [
    {
     "data": {
      "text/plain": [
       "tensor([[-1.0322023903174575e+00, -7.2569681151011811e-02,\n",
       "          2.3367174796365382e-04,  4.0490038958197793e-04,\n",
       "          0.0000000000000000e+00,  8.2182839451539688e-03],\n",
       "        [-9.0005153171126384e-01, -1.0320809782928480e+00,\n",
       "         -1.0670671153299335e-05, -1.9000372936436179e-05,\n",
       "          0.0000000000000000e+00,  5.5475642315005796e-04],\n",
       "        [-8.8127328798467028e-05, -9.3392943713694148e-05,\n",
       "          5.4572583903073202e+00,  9.0710195783967222e+00,\n",
       "          0.0000000000000000e+00,  3.3612658955446149e-02],\n",
       "        [-1.0670671153299331e-05, -9.9546185436680993e-06,\n",
       "          3.1722681310803358e+00,  5.4561657512786770e+00,\n",
       "          0.0000000000000000e+00,  9.3914704183099551e-03],\n",
       "        [-6.8237891712833116e-03, -8.4411335413884098e-03,\n",
       "          5.5376468742080333e-02,  9.8205645796140759e-02,\n",
       "          1.0000000000000000e+00,  9.9199631964399224e-04],\n",
       "        [ 0.0000000000000000e+00,  0.0000000000000000e+00,\n",
       "          0.0000000000000000e+00,  0.0000000000000000e+00,\n",
       "          0.0000000000000000e+00,  1.0000000000000000e+00]],\n",
       "       dtype=torch.float64)"
      ]
     },
     "execution_count": 36,
     "metadata": {},
     "output_type": "execute_result"
    }
   ],
   "source": [
    "# Jacobian matrix\n",
    "mat_me = torch.vstack(J)\n",
    "mat_me"
   ]
  },
  {
   "cell_type": "code",
   "execution_count": 37,
   "id": "3649facd-33ea-46e7-9a4c-b561dd5e5388",
   "metadata": {},
   "outputs": [
    {
     "data": {
      "text/plain": [
       "tensor([[-1.0322023903174600e+00, -7.2569681151011395e-02,\n",
       "          2.3367174796365400e-04,  4.0490038958197798e-04,\n",
       "          0.0000000000000000e+00,  8.2182839451539601e-03],\n",
       "        [-9.0005153171126395e-01, -1.0320809782928499e+00,\n",
       "         -1.0670671153299301e-05, -1.9000372936436199e-05,\n",
       "          0.0000000000000000e+00,  5.5475642315005796e-04],\n",
       "        [-8.8127328798467001e-05, -9.3392943713694094e-05,\n",
       "          5.4572583903073202e+00,  9.0710195783967205e+00,\n",
       "          0.0000000000000000e+00,  3.3612658955446101e-02],\n",
       "        [-1.0670671153299301e-05, -9.9546185436680993e-06,\n",
       "          3.1722681310803398e+00,  5.4561657512786796e+00,\n",
       "          0.0000000000000000e+00,  9.3914704183099499e-03],\n",
       "        [-6.8237891712833098e-03, -8.4411335413884098e-03,\n",
       "          5.5376468742080298e-02,  9.8205645796140703e-02,\n",
       "          1.0000000000000000e+00,  9.9199631964514605e-04],\n",
       "        [ 0.0000000000000000e+00,  0.0000000000000000e+00,\n",
       "          0.0000000000000000e+00,  0.0000000000000000e+00,\n",
       "          0.0000000000000000e+00,  1.0000000000000000e+00]],\n",
       "       dtype=torch.float64)"
      ]
     },
     "execution_count": 37,
     "metadata": {},
     "output_type": "execute_result"
    }
   ],
   "source": [
    "# Bmad Jacobian\n",
    "quad_tao = tao.matrix(0,6)\n",
    "mat_tao = torch.tensor(quad_tao['mat6'], **tkwargs)\n",
    "mat_tao"
   ]
  },
  {
   "cell_type": "code",
   "execution_count": 38,
   "id": "35e3965b-95d8-4f25-87f2-675435b7fa49",
   "metadata": {},
   "outputs": [
    {
     "data": {
      "text/plain": [
       "True"
      ]
     },
     "execution_count": 38,
     "metadata": {},
     "output_type": "execute_result"
    }
   ],
   "source": [
    "torch.allclose(mat_me, mat_tao)"
   ]
  },
  {
   "cell_type": "markdown",
   "id": "abd7f307-4e0e-4530-99ec-3ca70109d3f0",
   "metadata": {
    "tags": []
   },
   "source": [
    "# Multi-particle propagation through lattice"
   ]
  },
  {
   "cell_type": "code",
   "execution_count": 39,
   "id": "6429e104-311c-444b-98dd-5075a05e9bdd",
   "metadata": {
    "tags": []
   },
   "outputs": [],
   "source": [
    "# Particle bunch with Gaussian distribution\n",
    "sample_size = 1000\n",
    "mean = torch.zeros(6, **tkwargs)\n",
    "cov = torch.diag(torch.tensor([1e-6, 2e-6, 1e-6, 2e-6, 1e-6, 2e-6],**tkwargs))\n",
    "dist = torch.distributions.multivariate_normal.MultivariateNormal(mean, cov)\n",
    "sample = dist.sample(torch.Size([sample_size]))\n",
    "p_in = Particle(*sample.T, ts, tp0c, tmc2)"
   ]
  },
  {
   "cell_type": "code",
   "execution_count": 40,
   "id": "c89db535-74b8-4afd-82b6-f70e52f98723",
   "metadata": {},
   "outputs": [],
   "source": [
    "p_out = track_a_lattice(p_in, lattice)"
   ]
  },
  {
   "cell_type": "code",
   "execution_count": 41,
   "id": "aca6346f-c4bf-4e62-9274-76dcf6a05b40",
   "metadata": {},
   "outputs": [
    {
     "data": {
      "text/plain": [
       "(tensor(1.0177199713218917e-03, dtype=torch.float64),\n",
       " tensor(1.3871710446657413e-02, dtype=torch.float64))"
      ]
     },
     "execution_count": 41,
     "metadata": {},
     "output_type": "execute_result"
    }
   ],
   "source": [
    "torch.std(p_in.y),torch.std(p_out.y)"
   ]
  },
  {
   "cell_type": "markdown",
   "id": "eb16025c-6d9c-4fa0-bb5b-32684c107898",
   "metadata": {},
   "source": [
    "# Hessian Matrix"
   ]
  },
  {
   "cell_type": "code",
   "execution_count": 42,
   "id": "a2d0abb8-7d84-464a-a1c1-a687e1fe62d8",
   "metadata": {},
   "outputs": [],
   "source": [
    "# Particle bunch with Gaussian distribution\n",
    "sample_size = 1000\n",
    "mean = torch.zeros(6, **tkwargs)\n",
    "cov = torch.diag(torch.tensor([1e-6, 2e-6, 1e-6, 2e-6, 1e-6, 2e-6],**tkwargs))\n",
    "dist = torch.distributions.multivariate_normal.MultivariateNormal(mean, cov)\n",
    "sample = dist.sample(torch.Size([sample_size]))\n",
    "p_in = Particle(*sample.T, ts, tp0c, tmc2)\n",
    "\n",
    "L_d = 1.00 # Drift length\n",
    "L_q = 0.1 # Quad length \n",
    "drift = Drift(torch.tensor(L_d, **tkwargs))\n",
    "\n",
    "def sigmax_end(k1s):\n",
    "    \"\"\"\n",
    "    returns x beamsize after lattice composed by len(k1s)+1 drifts with len(k1s) quadrupoles in between\n",
    "    \"\"\"\n",
    "    lattice = [drift]\n",
    "    for k1 in k1s:\n",
    "        lattice.append(Quadrupole(torch.tensor(L_q, **tkwargs), k1, NUM_STEPS))\n",
    "        lattice.append(drift)\n",
    "\n",
    "    p_out = track_a_lattice(p_in, lattice)\n",
    "    return torch.std(p_out.x)\n",
    "\n",
    "#k1s = torch.tensor([10,-10,10,-10,10,-10,10,-10,10,-10], **tkwargs)\n",
    "k1s = torch.zeros(10, **tkwargs)"
   ]
  },
  {
   "cell_type": "code",
   "execution_count": 43,
   "id": "09322973-50ab-454e-a711-75a87572f6c4",
   "metadata": {},
   "outputs": [
    {
     "name": "stdout",
     "output_type": "stream",
     "text": [
      "CPU times: user 454 ms, sys: 156 ms, total: 610 ms\n",
      "Wall time: 389 ms\n"
     ]
    },
    {
     "data": {
      "text/plain": [
       "tensor([[6.1243378920841789e-05, 1.9221317572555322e-04, 3.0505822583733037e-04,\n",
       "         3.8391202310255067e-04, 4.2877456752121425e-04, 4.3964585909332085e-04,\n",
       "         4.1652589781887063e-04, 3.5941468369786363e-04, 2.6831221673029977e-04,\n",
       "         1.4321849691617894e-04],\n",
       "        [1.9221317572555314e-04, 4.0107709303484478e-05, 2.8918213430083935e-04,\n",
       "         4.9663029790571970e-04, 6.3344360463951231e-04, 6.9962205450221698e-04,\n",
       "         6.9516564749383413e-04, 6.2007438361436323e-04, 4.7434826286380449e-04,\n",
       "         2.5798728524215807e-04],\n",
       "        [3.0505822583733037e-04, 2.8918213430083952e-04, 2.4988503719437535e-05,\n",
       "         3.5841122942491726e-04, 6.2342142157179666e-04, 7.8117811457030452e-04,\n",
       "         8.3168130842044090e-04, 7.7493100312220570e-04, 6.1092719867559913e-04,\n",
       "         3.3966989508062108e-04],\n",
       "        [3.8391202310255078e-04, 4.9663029790572002e-04, 3.5841122942491732e-04,\n",
       "         1.4618434147239056e-05, 3.9870801831806669e-04, 6.8431403929758265e-04,\n",
       "         8.2607288059869082e-04, 8.2398454222139088e-04, 6.7804902416568336e-04,\n",
       "         3.8826632643156782e-04],\n",
       "        [4.2877456752121414e-04, 6.3344360463951242e-04, 6.2342142157179644e-04,\n",
       "         3.9870801831806642e-04, 7.8799430489106604e-06, 4.0902982868405127e-04,\n",
       "         6.7834036402858336e-04, 7.6723500091191866e-04, 6.7571373933405685e-04,\n",
       "         4.0377657929499815e-04],\n",
       "        [4.3964585909332080e-04, 6.9962205450221720e-04, 7.8117811457030441e-04,\n",
       "         6.8431403929758254e-04, 4.0902982868405127e-04, 3.8052433699590091e-06,\n",
       "         3.8848375871011943e-04, 6.0468237919378905e-04, 6.0392134418072016e-04,\n",
       "         3.8620065367091233e-04],\n",
       "        [4.1652589781887052e-04, 6.9516564749383413e-04, 8.3168130842044068e-04,\n",
       "         8.2607288059869061e-04, 6.7834036402858358e-04, 3.8848375871011938e-04,\n",
       "         1.5763185393732381e-06, 3.3632667706700231e-04, 4.6267183870567289e-04,\n",
       "         3.3553854955931025e-04],\n",
       "        [3.5941468369786358e-04, 6.2007438361436334e-04, 7.7493100312220581e-04,\n",
       "         8.2398454222139088e-04, 7.6723500091191877e-04, 6.0468237919378926e-04,\n",
       "         3.3632667706700236e-04, 5.2492246962694396e-07, 2.5196522290891528e-04,\n",
       "         2.5179026696019196e-04],\n",
       "        [2.6831221673029966e-04, 4.7434826286380460e-04, 6.1092719867559913e-04,\n",
       "         6.7804902416568303e-04, 6.7571373933405674e-04, 6.0392134418071994e-04,\n",
       "         4.6267183870567273e-04, 2.5196522290891511e-04, 1.3257955667701082e-07,\n",
       "         1.3495580587355731e-04],\n",
       "        [1.4321849691617899e-04, 2.5798728524215818e-04, 3.3966989508062118e-04,\n",
       "         3.8826632643156788e-04, 4.0377657929499826e-04, 3.8620065367091249e-04,\n",
       "         3.3553854955931030e-04, 2.5179026696019202e-04, 1.3495580587355745e-04,\n",
       "         3.0584679964876273e-08]], dtype=torch.float64)"
      ]
     },
     "execution_count": 43,
     "metadata": {},
     "output_type": "execute_result"
    }
   ],
   "source": [
    "%%time\n",
    "hessian_me = hessian(sigmax_end,k1s)\n",
    "hessian_me"
   ]
  },
  {
   "cell_type": "code",
   "execution_count": 44,
   "id": "c720fe84-b5a2-4bcf-831c-caf194a12146",
   "metadata": {},
   "outputs": [
    {
     "data": {
      "text/plain": [
       "<matplotlib.colorbar.Colorbar at 0x7fec225e6850>"
      ]
     },
     "execution_count": 44,
     "metadata": {},
     "output_type": "execute_result"
    },
    {
     "data": {
      "image/png": "[encoded data removed]",
      "text/plain": [
       "<Figure size 432x288 with 2 Axes>"
      ]
     },
     "metadata": {
      "needs_background": "light"
     },
     "output_type": "display_data"
    }
   ],
   "source": [
    "plt.imshow(hessian_me.detach().numpy())\n",
    "plt.colorbar()"
   ]
  },
  {
   "cell_type": "code",
   "execution_count": 45,
   "id": "90145244-6aca-43ad-aed3-d444a8f11706",
   "metadata": {},
   "outputs": [],
   "source": [
    "p_in = Particle(*sample.detach().numpy().T, s, p0c, mc2)\n",
    "\n",
    "L_d = 1.00 # Drift length\n",
    "L_q = 0.1 # Quad length \n",
    "drift = Drift(L_d)\n",
    "def sigmax_end2(k1s):\n",
    "    \"\"\"\n",
    "    returns x beamsize after lattice composed by len(k1s)+1 drifts with len(k1s) quadrupoles in between\n",
    "    \"\"\"\n",
    "    lattice = [drift]\n",
    "    for k1 in k1s:\n",
    "        lattice.append(Quadrupole(L_q, k1, 1))\n",
    "        lattice.append(drift)\n",
    "\n",
    "    p_out = track_a_lattice(p_in, lattice)\n",
    "    return np.std(p_out.x)\n",
    "\n",
    "#k1s = np.array([10,-10,10,-10,10,-10,10,-10,10,-10])\n",
    "k1s = np.zeros(10)"
   ]
  },
  {
   "cell_type": "code",
   "execution_count": 46,
   "id": "ec5b71f2-cc0c-43d3-b40b-d77b89b75579",
   "metadata": {},
   "outputs": [
    {
     "name": "stdout",
     "output_type": "stream",
     "text": [
      "CPU times: user 7.32 s, sys: 0 ns, total: 7.32 s\n",
      "Wall time: 7.34 s\n"
     ]
    },
    {
     "data": {
      "text/plain": [
       "array([[6.6639098744521915e-05, 2.1445950347693391e-04,\n",
       "        3.3221176260056642e-04, 4.1433573872188216e-04,\n",
       "        4.6083143184509341e-04, 4.7169884196994211e-04,\n",
       "        4.4693796909129458e-04, 3.8654881321622419e-04,\n",
       "        2.9053137433844616e-04, 1.5888565246120989e-04],\n",
       "       [2.1445950347693391e-04, 4.9892070212285363e-05,\n",
       "        3.2286100592511914e-04, 5.3351502377809053e-04,\n",
       "        6.7191548097570353e-04, 7.3806237754377722e-04,\n",
       "        7.3195571347388388e-04, 6.5359548876754627e-04,\n",
       "        5.0298170342711202e-04, 2.8011435745058636e-04],\n",
       "       [3.3221176260056642e-04, 3.2286100592511914e-04,\n",
       "        3.8055824421588858e-05, 4.0022846999949834e-04,\n",
       "        6.6676168681753794e-04, 8.2444101459293155e-04,\n",
       "        8.7326645336650616e-04, 8.1323800313010239e-04,\n",
       "        6.4435566388283639e-04, 3.6661943562687815e-04],\n",
       "       [4.1433573872188216e-04, 5.3351502377809053e-04,\n",
       "        4.0022846999949834e-04, 2.9863667043727561e-05,\n",
       "        4.4537004933948741e-04, 7.3083475312130314e-04,\n",
       "        8.7087018876617136e-04, 8.6547635630025114e-04,\n",
       "        7.1465325570547805e-04, 4.1840088699441729e-04],\n",
       "       [4.6083143184509341e-04, 6.7191548097570353e-04,\n",
       "        6.6676168681753794e-04, 4.4537004933948741e-04,\n",
       "        2.4198599614651057e-05, 4.5724359312693372e-04,\n",
       "        7.2476691968649564e-04, 8.1031054826675303e-04,\n",
       "        7.1387447889766325e-04, 4.3545871155356558e-04],\n",
       "       [4.7169884196994211e-04, 7.3806237754377722e-04,\n",
       "        8.2444101459293155e-04, 7.3083475312130314e-04,\n",
       "        4.5724359312693372e-04, 2.0093319075983123e-05,\n",
       "        4.3495664610917144e-04, 6.4774057903900647e-04,\n",
       "        6.4201933345241929e-04, 4.1779290930649468e-04],\n",
       "       [4.4693796909129458e-04, 7.3195571347388388e-04,\n",
       "        8.7326645336650616e-04, 8.7087018876617136e-04,\n",
       "        7.2476691968649564e-04, 4.3495664610917144e-04,\n",
       "        1.6730217973202561e-05, 3.7776644865040781e-04,\n",
       "        4.9908781937989114e-04, 3.6540348024035273e-04],\n",
       "       [3.8654881321622419e-04, 6.5359548876754627e-04,\n",
       "        8.1323800313010239e-04, 8.6547635630025114e-04,\n",
       "        8.1031054826675303e-04, 6.4774057903900647e-04,\n",
       "        3.7776644865040781e-04, 1.3441384479289656e-05,\n",
       "        2.8507993667177290e-04, 2.7829042436910322e-04],\n",
       "       [2.9053137433844616e-04, 5.0298170342711202e-04,\n",
       "        6.4435566388283639e-04, 7.1465325570547805e-04,\n",
       "        7.1387447889766325e-04, 6.4201933345241929e-04,\n",
       "        4.9908781937989114e-04, 2.8507993667177290e-04,\n",
       "        9.7086022719542317e-06, 1.5645374168766837e-04],\n",
       "       [1.5888565246120989e-04, 2.8011435745058636e-04,\n",
       "        3.6661943562687815e-04, 4.1840088699441729e-04,\n",
       "        4.3545871155356558e-04, 4.1779290930649468e-04,\n",
       "        3.6540348024035273e-04, 2.7829042436910322e-04,\n",
       "        1.5645374168766837e-04, 5.1633506710346952e-06]])"
      ]
     },
     "execution_count": 46,
     "metadata": {},
     "output_type": "execute_result"
    }
   ],
   "source": [
    "%%time\n",
    "hessian_nd = nd.Hessian(sigmax_end2)(k1s)\n",
    "hessian_nd"
   ]
  },
  {
   "cell_type": "code",
   "execution_count": 47,
   "id": "9ffa33a1-b971-491b-a120-18c46b854892",
   "metadata": {},
   "outputs": [
    {
     "data": {
      "text/plain": [
       "<matplotlib.colorbar.Colorbar at 0x7fec0f43e730>"
      ]
     },
     "execution_count": 47,
     "metadata": {},
     "output_type": "execute_result"
    },
    {
     "data": {
      "image/png": "[encoded data removed]",
      "text/plain": [
       "<Figure size 432x288 with 2 Axes>"
      ]
     },
     "metadata": {
      "needs_background": "light"
     },
     "output_type": "display_data"
    }
   ],
   "source": [
    "plt.imshow(hessian_nd)\n",
    "plt.colorbar()"
   ]
  },
  {
   "cell_type": "code",
   "execution_count": 48,
   "id": "8748858c-daa8-4408-9c3f-6e0a794130ae",
   "metadata": {},
   "outputs": [
    {
     "data": {
      "text/plain": [
       "False"
      ]
     },
     "execution_count": 48,
     "metadata": {},
     "output_type": "execute_result"
    }
   ],
   "source": [
    "np.allclose(hessian_nd, hessian_me.detach().numpy())"
   ]
  },
  {
   "cell_type": "code",
   "execution_count": 49,
   "id": "8191b91e-d26d-4528-bad0-e24b759094a4",
   "metadata": {},
   "outputs": [
    {
     "data": {
      "text/plain": [
       "<matplotlib.colorbar.Colorbar at 0x7fec0f39d340>"
      ]
     },
     "execution_count": 49,
     "metadata": {},
     "output_type": "execute_result"
    },
    {
     "data": {
      "image/png": "[encoded data removed]",
      "text/plain": [
       "<Figure size 720x720 with 3 Axes>"
      ]
     },
     "metadata": {
      "needs_background": "light"
     },
     "output_type": "display_data"
    }
   ],
   "source": [
    "fig, axs = plt.subplots(2, figsize=(10,10))\n",
    "axs[0].imshow(hessian_me.detach().numpy())\n",
    "axs[1].imshow(hessian_nd)\n",
    "fig.colorbar(axs[1].imshow(hessian_me.detach().numpy()),ax=axs)"
   ]
  },
  {
   "cell_type": "code",
   "execution_count": 50,
   "id": "64679611-403a-4dd4-9cd6-b2987a439ed4",
   "metadata": {},
   "outputs": [
    {
     "data": {
      "text/plain": [
       "(167.82147130407557, 0.049432788020555694)"
      ]
     },
     "execution_count": 50,
     "metadata": {},
     "output_type": "execute_result"
    }
   ],
   "source": [
    "dif = np.abs((hessian_me.detach().numpy()-hessian_nd)/hessian_me.detach().numpy())\n",
    "np.max(dif),np.min(dif)"
   ]
  },
  {
   "cell_type": "markdown",
   "id": "b2cb6170-7acc-4a0a-b5b9-159f5d4fe8a8",
   "metadata": {
    "tags": []
   },
   "source": [
    "# misc"
   ]
  },
  {
   "cell_type": "code",
   "execution_count": 51,
   "id": "2d70b825-cfd9-4814-87bd-1fbcd44f57ea",
   "metadata": {},
   "outputs": [
    {
     "data": {
      "text/plain": [
       "2.220446049250313e-16"
      ]
     },
     "execution_count": 51,
     "metadata": {},
     "output_type": "execute_result"
    }
   ],
   "source": [
    "np.finfo(np.float64).eps"
   ]
  },
  {
   "cell_type": "code",
   "execution_count": 52,
   "id": "ac894fa2-fa16-4850-a01a-a2508492bc35",
   "metadata": {},
   "outputs": [
    {
     "data": {
      "text/plain": [
       "2.220446049250313e-16"
      ]
     },
     "execution_count": 52,
     "metadata": {},
     "output_type": "execute_result"
    }
   ],
   "source": [
    "torch.finfo(torch.float64).eps"
   ]
  },
  {
   "cell_type": "code",
   "execution_count": 53,
   "id": "219b688b-7205-43ab-97af-ea186d9bcf7c",
   "metadata": {},
   "outputs": [
    {
     "data": {
      "text/plain": [
       "1.1920929e-07"
      ]
     },
     "execution_count": 53,
     "metadata": {},
     "output_type": "execute_result"
    }
   ],
   "source": [
    "np.finfo(np.float32).eps"
   ]
  },
  {
   "cell_type": "code",
   "execution_count": 55,
   "id": "29bf5c8c-9e16-4c02-b265-1c78d802e6cc",
   "metadata": {},
   "outputs": [
    {
     "data": {
      "text/plain": [
       "1.1920928955078125e-07"
      ]
     },
     "execution_count": 55,
     "metadata": {},
     "output_type": "execute_result"
    }
   ],
   "source": [
    "torch.finfo(torch.float32).eps"
   ]
  },
  {
   "cell_type": "code",
   "execution_count": null,
   "id": "e6bcaef5-de5c-43fc-9fc5-5c949330791f",
   "metadata": {},
   "outputs": [],
   "source": []
  }
 ],
 "metadata": {
  "kernelspec": {
   "display_name": "Python 3 (ipykernel)",
   "language": "python",
   "name": "python3"
  },
  "language_info": {
   "codemirror_mode": {
    "name": "ipython",
    "version": 3
   },
   "file_extension": ".py",
   "mimetype": "text/x-python",
   "name": "python",
   "nbconvert_exporter": "python",
   "pygments_lexer": "ipython3",
   "version": "3.9.10"
  },
  "toc-autonumbering": true,
  "toc-showcode": false,
  "toc-showmarkdowntxt": false,
  "toc-showtags": false
 },
 "nbformat": 4,
 "nbformat_minor": 5
}
