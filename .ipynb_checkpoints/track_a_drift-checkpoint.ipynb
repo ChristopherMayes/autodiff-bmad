{
 "cells": [
  {
   "cell_type": "code",
   "execution_count": 1,
   "id": "8af3d886-d3bd-4e34-9556-d645ee9f761e",
   "metadata": {},
   "outputs": [
    {
     "data": {
      "text/plain": [
       "('1.10.0', '1.21.4')"
      ]
     },
     "execution_count": 1,
     "metadata": {},
     "output_type": "execute_result"
    }
   ],
   "source": [
    "import numpy as np\n",
    "import torch\n",
    "from collections import namedtuple\n",
    "\n",
    "torch.__version__, np.__version__"
   ]
  },
  {
   "cell_type": "markdown",
   "id": "4195b788-22c6-4f75-bb00-a417cf041292",
   "metadata": {},
   "source": [
    "## Constants"
   ]
  },
  {
   "cell_type": "code",
   "execution_count": 2,
   "id": "c3f66538-b1d3-448d-a15b-82cae88067f6",
   "metadata": {
    "tags": []
   },
   "outputs": [],
   "source": [
    "c_light = 2.99792458e8 #speed of light in m/s\n",
    "m_e = 0.510998950e6 #electron mass in eV"
   ]
  },
  {
   "cell_type": "markdown",
   "id": "a68663f4-da28-42bf-8d55-1069efade5ec",
   "metadata": {},
   "source": [
    "# Drift element tuple"
   ]
  },
  {
   "cell_type": "code",
   "execution_count": 3,
   "id": "3165f10b-e4e3-49cb-ac73-b4a069b350c0",
   "metadata": {},
   "outputs": [
    {
     "data": {
      "text/plain": [
       "1.0"
      ]
     },
     "execution_count": 3,
     "metadata": {},
     "output_type": "execute_result"
    }
   ],
   "source": [
    "Drift = namedtuple('Drift', 'L')\n",
    "L=1.000\n",
    "d1 = Drift(L)\n",
    "d1.L"
   ]
  },
  {
   "cell_type": "markdown",
   "id": "fc7196a6-ed64-40d1-a58f-10d8edb553ab",
   "metadata": {
    "tags": []
   },
   "source": [
    "# Particle named tuple"
   ]
  },
  {
   "cell_type": "code",
   "execution_count": 4,
   "id": "22f5b59f-a16b-4e85-bc07-d9a6022c9dc2",
   "metadata": {},
   "outputs": [],
   "source": [
    "Particle = namedtuple('Particle', 'x px y py z pz s t p0c mc2')\n",
    "#Canonical phase space coordinates as defined in Bmad manual section 15.4.2. Added s p0c and mc2s = 0\n",
    "s = 0.0\n",
    "t = 0.0\n",
    "p0c = 10.0e6 #Reference particle momentum in eV\n",
    "mc2 = 1*m_e # electron mass in eV"
   ]
  },
  {
   "cell_type": "code",
   "execution_count": 5,
   "id": "34449579-880c-451b-9c1e-f9003a2e2861",
   "metadata": {},
   "outputs": [],
   "source": [
    "np.random.seed(0)\n",
    "pvec = np.random.rand(10_000, 6) #test particles"
   ]
  },
  {
   "cell_type": "markdown",
   "id": "07cd773e-584b-488c-9b9b-41d31e81f336",
   "metadata": {},
   "source": [
    "## NumPy array test Particle"
   ]
  },
  {
   "cell_type": "code",
   "execution_count": 6,
   "id": "3587f13a-766c-4ef7-974f-b8c671fec2c2",
   "metadata": {
    "tags": []
   },
   "outputs": [
    {
     "data": {
      "text/plain": [
       "Particle(x=array([0.5488135 , 0.43758721, 0.56804456, ..., 0.16739177, 0.8283866 ,\n",
       "       0.42741876]), px=array([0.71518937, 0.891773  , 0.92559664, ..., 0.3514515 , 0.35342665,\n",
       "       0.88324715]), y=array([0.60276338, 0.96366276, 0.07103606, ..., 0.27008432, 0.92013388,\n",
       "       0.38008123]), py=array([0.54488318, 0.38344152, 0.0871293 , ..., 0.08702639, 0.81374799,\n",
       "       0.16900413]), z=array([0.4236548 , 0.79172504, 0.0202184 , ..., 0.30485812, 0.68327109,\n",
       "       0.26393067]), pz=array([0.64589411, 0.52889492, 0.83261985, ..., 0.13144231, 0.86909734,\n",
       "       0.30116676]), s=0.0, t=0.0, p0c=10000000.0, mc2=510998.95)"
      ]
     },
     "execution_count": 6,
     "metadata": {},
     "output_type": "execute_result"
    }
   ],
   "source": [
    "p_np = Particle(*pvec.T, s, t, p0c, mc2)\n",
    "p_np"
   ]
  },
  {
   "cell_type": "markdown",
   "id": "ab86fb73-eb64-4da6-bd68-94d12a6c772e",
   "metadata": {
    "tags": []
   },
   "source": [
    "## PyTorch tensor test Particle"
   ]
  },
  {
   "cell_type": "code",
   "execution_count": 7,
   "id": "6718d33a-8008-4ad6-8c43-1652c48abbd1",
   "metadata": {},
   "outputs": [
    {
     "data": {
      "text/plain": [
       "Particle(x=tensor([0.5488, 0.4376, 0.5680,  ..., 0.1674, 0.8284, 0.4274],\n",
       "       dtype=torch.float64, grad_fn=<UnbindBackward0>), px=tensor([0.7152, 0.8918, 0.9256,  ..., 0.3515, 0.3534, 0.8832],\n",
       "       dtype=torch.float64, grad_fn=<UnbindBackward0>), y=tensor([0.6028, 0.9637, 0.0710,  ..., 0.2701, 0.9201, 0.3801],\n",
       "       dtype=torch.float64, grad_fn=<UnbindBackward0>), py=tensor([0.5449, 0.3834, 0.0871,  ..., 0.0870, 0.8137, 0.1690],\n",
       "       dtype=torch.float64, grad_fn=<UnbindBackward0>), z=tensor([0.4237, 0.7917, 0.0202,  ..., 0.3049, 0.6833, 0.2639],\n",
       "       dtype=torch.float64, grad_fn=<UnbindBackward0>), pz=tensor([0.6459, 0.5289, 0.8326,  ..., 0.1314, 0.8691, 0.3012],\n",
       "       dtype=torch.float64, grad_fn=<UnbindBackward0>), s=tensor(0., dtype=torch.float64), t=tensor(0., dtype=torch.float64), p0c=tensor(10000000., dtype=torch.float64), mc2=tensor(510998.9500, dtype=torch.float64))"
      ]
     },
     "execution_count": 7,
     "metadata": {},
     "output_type": "execute_result"
    }
   ],
   "source": [
    "ts = torch.tensor(s, dtype=torch.float64)\n",
    "tt = torch.tensor(t, dtype=torch.float64)\n",
    "tp0c = torch.tensor(p0c, dtype=torch.float64)\n",
    "tmc2 = torch.tensor(mc2, dtype=torch.float64) #necessary? \n",
    "tpvec = torch.tensor(pvec, requires_grad=True, dtype=torch.float64)\n",
    "p_torch = Particle(*tpvec.T, ts, tt, tp0c, tmc2)\n",
    "p_torch"
   ]
  },
  {
   "cell_type": "markdown",
   "id": "7638cac6-72c7-4e95-ae44-6ff97b375ae3",
   "metadata": {
    "tags": []
   },
   "source": [
    "# track_a_drift"
   ]
  },
  {
   "cell_type": "code",
   "execution_count": 40,
   "id": "802fc720-0c08-4f46-b9ed-78deea47decb",
   "metadata": {},
   "outputs": [],
   "source": [
    "def make_track_a_drift(lib):\n",
    "    \"\"\"\n",
    "    Makes track_a_drift given the library lib\n",
    "    \"\"\"\n",
    "    \n",
    "    sqrt = lib.sqrt\n",
    "    \n",
    "    def track_a_drift(p_in, drift):\n",
    "        \"\"\"\n",
    "        Tracks the incoming Particle p_in though drift element\n",
    "        and returns the outgoing particle. See eqs 24.58 in bmad manual\n",
    "        \"\"\"\n",
    "        L = drift.L\n",
    "        \n",
    "        s = p_in.s\n",
    "        t = p_in.t\n",
    "        p0c = p_in.p0c\n",
    "        mc2 = p_in.mc2\n",
    "        \n",
    "        x = p_in.x\n",
    "        px = p_in.px\n",
    "        y = p_in.y\n",
    "        py = p_in.py\n",
    "        z = p_in.z\n",
    "        pz = p_in.pz\n",
    "        \n",
    "        P = 1 + pz #Particle's total momentum over p0\n",
    "        Px = px / P #Particle's 'x' momentum over p0\n",
    "        Py = py / P #Particle's 'y' momentum over p0\n",
    "        Pxy2 = Px**2 + Py**2 #Particle's transverse mometum^2 over p0^2\n",
    "        Pl = sqrt(1-Pxy2)  #Particle's longitudinal momentum over p0\n",
    "        \n",
    "        x = x + L * Px / Pl\n",
    "        y = y + L * Py / Pl\n",
    "        \n",
    "        beta = sqrt( 1 - 1 /( 1 + (P*p0c/mc2)**2 ) )\n",
    "        beta_ref = sqrt( 1 - 1 /( 1 + (p0c/mc2)**2 ) )\n",
    "        z = z + L * ( beta/beta_ref - 1.0/Pl ) #should fix by taking the effect of include_ref_motion (see eq 24.58)\n",
    "        s = s + L\n",
    "        t = t + L / ( beta * Pl * c_light )\n",
    "        \n",
    "        return Particle(x, px, y, py, z, pz, s, t, p0c, mc2)\n",
    "    \n",
    "    return track_a_drift\n",
    "\n",
    "# Specialized functions\n",
    "track_a_drift_torch = make_track_a_drift(lib=torch)"
   ]
  },
  {
   "cell_type": "markdown",
   "id": "3e43fa07-c14f-4374-8bb0-25d0d9eb3d8b",
   "metadata": {},
   "source": [
    "## PyTorch example"
   ]
  },
  {
   "cell_type": "code",
   "execution_count": 41,
   "id": "f334e89a-6c8c-4856-8ca8-aac7bb31d341",
   "metadata": {},
   "outputs": [],
   "source": [
    "from torch.autograd.functional import jacobian"
   ]
  },
  {
   "cell_type": "code",
   "execution_count": 42,
   "id": "ee6fdf69-c492-4bc0-83c9-9b6a0400ef1f",
   "metadata": {},
   "outputs": [
    {
     "data": {
      "text/plain": [
       "Drift(L=tensor(1., dtype=torch.float64))"
      ]
     },
     "execution_count": 42,
     "metadata": {},
     "output_type": "execute_result"
    }
   ],
   "source": [
    "td1 = Drift(torch.tensor(L, dtype=torch.float64))\n",
    "td1"
   ]
  },
  {
   "cell_type": "code",
   "execution_count": 43,
   "id": "ff53dc07-41dc-40c2-b59b-134048900095",
   "metadata": {
    "tags": []
   },
   "outputs": [
    {
     "data": {
      "text/plain": [
       "(tensor([ 1.0000,  0.9181,  0.0000, -0.0023,  0.0000, -0.0170],\n",
       "        dtype=torch.float64),\n",
       " tensor([0., 1., 0., 0., 0., 0.], dtype=torch.float64),\n",
       " tensor([ 0.0000, -0.0023,  1.0000,  0.9352,  0.0000,  0.1276],\n",
       "        dtype=torch.float64),\n",
       " tensor([0., 0., 0., 1., 0., 0.], dtype=torch.float64),\n",
       " tensor([ 0.0000, -0.0170,  0.0000,  0.1276,  1.0000,  0.0197],\n",
       "        dtype=torch.float64),\n",
       " tensor([0., 0., 0., 0., 0., 1.], dtype=torch.float64),\n",
       " tensor([0., 0., 0., 0., 0., 0.], dtype=torch.float64),\n",
       " tensor([ 0.0000e+00,  5.6799e-11,  0.0000e+00, -4.2599e-10,  0.0000e+00,\n",
       "         -6.5722e-11], dtype=torch.float64),\n",
       " tensor([0., 0., 0., 0., 0., 0.], dtype=torch.float64),\n",
       " tensor([0., 0., 0., 0., 0., 0.], dtype=torch.float64))"
      ]
     },
     "execution_count": 43,
     "metadata": {},
     "output_type": "execute_result"
    }
   ],
   "source": [
    "pvec1 = (0.5, 0.02, 0.5, -0.15, 0.1, 0.1)\n",
    "tvec1 = torch.tensor(pvec1, requires_grad=True, dtype=torch.float64)\n",
    "f2 = lambda x: track_a_drift_torch(Particle(*x,ts, tt, tp0c, tmc2), td1)\n",
    "J = jacobian(f2, tvec1)\n",
    "J"
   ]
  },
  {
   "cell_type": "code",
   "execution_count": 44,
   "id": "81b7540a-0c21-42e8-a724-159c3c16e47e",
   "metadata": {
    "tags": []
   },
   "outputs": [
    {
     "data": {
      "text/plain": [
       "Particle(x=tensor(0.5184, dtype=torch.float64, grad_fn=<AddBackward0>), px=tensor(0.0200, dtype=torch.float64, grad_fn=<UnbindBackward0>), y=tensor(0.3623, dtype=torch.float64, grad_fn=<AddBackward0>), py=tensor(-0.1500, dtype=torch.float64, grad_fn=<UnbindBackward0>), z=tensor(0.0906, dtype=torch.float64, grad_fn=<AddBackward0>), pz=tensor(0.1000, dtype=torch.float64, grad_fn=<UnbindBackward0>), s=tensor(1., dtype=torch.float64), t=tensor(3.3713e-09, dtype=torch.float64, grad_fn=<AddBackward0>), p0c=tensor(10000000., dtype=torch.float64), mc2=tensor(510998.9500, dtype=torch.float64))"
      ]
     },
     "execution_count": 44,
     "metadata": {},
     "output_type": "execute_result"
    }
   ],
   "source": [
    "track_a_drift_torch(Particle(*tvec1,ts, tt, tp0c, tmc2), td1)"
   ]
  },
  {
   "cell_type": "code",
   "execution_count": null,
   "id": "a580b888-9e5b-4d24-886b-ef974a1f9e5a",
   "metadata": {},
   "outputs": [],
   "source": []
  }
 ],
 "metadata": {
  "kernelspec": {
   "display_name": "Python 3 (ipykernel)",
   "language": "python",
   "name": "python3"
  },
  "language_info": {
   "codemirror_mode": {
    "name": "ipython",
    "version": 3
   },
   "file_extension": ".py",
   "mimetype": "text/x-python",
   "name": "python",
   "nbconvert_exporter": "python",
   "pygments_lexer": "ipython3",
   "version": "3.9.7"
  }
 },
 "nbformat": 4,
 "nbformat_minor": 5
}
