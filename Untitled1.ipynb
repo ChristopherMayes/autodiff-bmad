{
 "cells": [
  {
   "cell_type": "code",
   "execution_count": 1,
   "id": "8af3d886-d3bd-4e34-9556-d645ee9f761e",
   "metadata": {},
   "outputs": [
    {
     "data": {
      "text/plain": [
       "('1.10.0', '1.21.4')"
      ]
     },
     "execution_count": 1,
     "metadata": {},
     "output_type": "execute_result"
    }
   ],
   "source": [
    "import numpy as np\n",
    "import torch\n",
    "from collections import namedtuple\n",
    "\n",
    "torch.__version__, np.__version__"
   ]
  },
  {
   "cell_type": "markdown",
   "id": "a68663f4-da28-42bf-8d55-1069efade5ec",
   "metadata": {},
   "source": [
    "# Drift element tuple"
   ]
  },
  {
   "cell_type": "code",
   "execution_count": 2,
   "id": "3165f10b-e4e3-49cb-ac73-b4a069b350c0",
   "metadata": {},
   "outputs": [
    {
     "data": {
      "text/plain": [
       "1.0"
      ]
     },
     "execution_count": 2,
     "metadata": {},
     "output_type": "execute_result"
    }
   ],
   "source": [
    "Drift = namedtuple('Drift', 'L')\n",
    "d1 = Drift(1.0)\n",
    "d1.L"
   ]
  },
  {
   "cell_type": "markdown",
   "id": "fc7196a6-ed64-40d1-a58f-10d8edb553ab",
   "metadata": {
    "tags": []
   },
   "source": [
    "# Particle named tuple"
   ]
  },
  {
   "cell_type": "code",
   "execution_count": 3,
   "id": "22f5b59f-a16b-4e85-bc07-d9a6022c9dc2",
   "metadata": {},
   "outputs": [],
   "source": [
    "Particle = namedtuple('Particle', 'x px y py z pz')\n",
    "#Canonical phase space coordinates as defined in Bmad manual section 15.4.2"
   ]
  },
  {
   "cell_type": "code",
   "execution_count": 4,
   "id": "34449579-880c-451b-9c1e-f9003a2e2861",
   "metadata": {},
   "outputs": [],
   "source": [
    "np.random.seed(0)\n",
    "pvec = np.random.rand(10_000, 6) #test particles"
   ]
  },
  {
   "cell_type": "markdown",
   "id": "07cd773e-584b-488c-9b9b-41d31e81f336",
   "metadata": {},
   "source": [
    "## NumPy array test Particle"
   ]
  },
  {
   "cell_type": "code",
   "execution_count": 5,
   "id": "3587f13a-766c-4ef7-974f-b8c671fec2c2",
   "metadata": {
    "tags": []
   },
   "outputs": [
    {
     "data": {
      "text/plain": [
       "Particle(x=array([0.5488135 , 0.43758721, 0.56804456, ..., 0.16739177, 0.8283866 ,\n",
       "       0.42741876]), px=array([0.71518937, 0.891773  , 0.92559664, ..., 0.3514515 , 0.35342665,\n",
       "       0.88324715]), y=array([0.60276338, 0.96366276, 0.07103606, ..., 0.27008432, 0.92013388,\n",
       "       0.38008123]), py=array([0.54488318, 0.38344152, 0.0871293 , ..., 0.08702639, 0.81374799,\n",
       "       0.16900413]), z=array([0.4236548 , 0.79172504, 0.0202184 , ..., 0.30485812, 0.68327109,\n",
       "       0.26393067]), pz=array([0.64589411, 0.52889492, 0.83261985, ..., 0.13144231, 0.86909734,\n",
       "       0.30116676]))"
      ]
     },
     "execution_count": 5,
     "metadata": {},
     "output_type": "execute_result"
    }
   ],
   "source": [
    "p_np = Particle(*pvec.T)\n",
    "p_np"
   ]
  },
  {
   "cell_type": "markdown",
   "id": "ab86fb73-eb64-4da6-bd68-94d12a6c772e",
   "metadata": {},
   "source": [
    "## PyTorch tensor test Particle"
   ]
  },
  {
   "cell_type": "code",
   "execution_count": 6,
   "id": "6718d33a-8008-4ad6-8c43-1652c48abbd1",
   "metadata": {},
   "outputs": [
    {
     "data": {
      "text/plain": [
       "Particle(x=tensor([0.5488, 0.4376, 0.5680,  ..., 0.1674, 0.8284, 0.4274],\n",
       "       dtype=torch.float64), px=tensor([0.7152, 0.8918, 0.9256,  ..., 0.3515, 0.3534, 0.8832],\n",
       "       dtype=torch.float64), y=tensor([0.6028, 0.9637, 0.0710,  ..., 0.2701, 0.9201, 0.3801],\n",
       "       dtype=torch.float64), py=tensor([0.5449, 0.3834, 0.0871,  ..., 0.0870, 0.8137, 0.1690],\n",
       "       dtype=torch.float64), z=tensor([0.4237, 0.7917, 0.0202,  ..., 0.3049, 0.6833, 0.2639],\n",
       "       dtype=torch.float64), pz=tensor([0.6459, 0.5289, 0.8326,  ..., 0.1314, 0.8691, 0.3012],\n",
       "       dtype=torch.float64))"
      ]
     },
     "execution_count": 6,
     "metadata": {},
     "output_type": "execute_result"
    }
   ],
   "source": [
    "p_torch = Particle(*torch.tensor(pvec.T))\n",
    "p_torch"
   ]
  },
  {
   "cell_type": "markdown",
   "id": "499ff532-200c-48fb-b527-d4721c527d76",
   "metadata": {
    "tags": []
   },
   "source": [
    "# Reference particle"
   ]
  },
  {
   "cell_type": "markdown",
   "id": "70c162b1-a202-48a8-bd66-a94d34a8a14a",
   "metadata": {},
   "source": [
    "## Option 0: (provisional solution)"
   ]
  },
  {
   "cell_type": "markdown",
   "id": "0a8d1fbd-deca-402c-9514-e3f752e2d561",
   "metadata": {},
   "source": [
    "Just take `p0c` and `mc2` as drift element parameters."
   ]
  },
  {
   "cell_type": "code",
   "execution_count": 16,
   "id": "edcb2151-3016-4925-aa31-5be25c62cccf",
   "metadata": {},
   "outputs": [
    {
     "data": {
      "text/plain": [
       "Drift(L=1.0, p0c=510998.95, mc2=10000000.0)"
      ]
     },
     "execution_count": 16,
     "metadata": {},
     "output_type": "execute_result"
    }
   ],
   "source": [
    "Drift = namedtuple('Drift', 'L p0c mc2')\n",
    "L = 1.0\n",
    "p0c = 0.51099895000e6 #electron mass energy in eV\n",
    "mc2 = 10e6 #reference particle momentum in eV\n",
    "d1 = Drift(L, p0c, mc2)\n",
    "d1"
   ]
  },
  {
   "cell_type": "markdown",
   "id": "4af6038a-9b88-48b7-8eb0-7e5fd13c0914",
   "metadata": {
    "tags": []
   },
   "source": [
    "## Option 1: \n",
    "\n",
    "Create a Coord tuple with the first entry being a Particle tuple and the other entries being the reference particle parameters (similar to the coord_struct in Bmad)"
   ]
  },
  {
   "cell_type": "code",
   "execution_count": 7,
   "id": "5231a08e-57ad-453a-9d2f-a7d6eb78abae",
   "metadata": {},
   "outputs": [],
   "source": [
    "Coord = namedtuple('Coord', 'vec s p0c mc2')\n",
    "#Coord = namedtuple('Coord', 'x px y py z pz s p0c mc2')"
   ]
  },
  {
   "cell_type": "markdown",
   "id": "46162aea-72c5-4346-9b13-1cbfdf53475f",
   "metadata": {},
   "source": [
    "### NumPy array Coord"
   ]
  },
  {
   "cell_type": "code",
   "execution_count": 8,
   "id": "4b3921e0-d83a-4956-b344-61a70d51981e",
   "metadata": {},
   "outputs": [
    {
     "data": {
      "text/plain": [
       "Coord(vec=Particle(x=array([0.5488135 , 0.43758721, 0.56804456, ..., 0.16739177, 0.8283866 ,\n",
       "       0.42741876]), px=array([0.71518937, 0.891773  , 0.92559664, ..., 0.3514515 , 0.35342665,\n",
       "       0.88324715]), y=array([0.60276338, 0.96366276, 0.07103606, ..., 0.27008432, 0.92013388,\n",
       "       0.38008123]), py=array([0.54488318, 0.38344152, 0.0871293 , ..., 0.08702639, 0.81374799,\n",
       "       0.16900413]), z=array([0.4236548 , 0.79172504, 0.0202184 , ..., 0.30485812, 0.68327109,\n",
       "       0.26393067]), pz=array([0.64589411, 0.52889492, 0.83261985, ..., 0.13144231, 0.86909734,\n",
       "       0.30116676])), s=0, p0c=10000000.0, mc2=510998.95)"
      ]
     },
     "execution_count": 8,
     "metadata": {},
     "output_type": "execute_result"
    }
   ],
   "source": [
    "orb_np = Coord(p_np, 0, p0c, mc2)\n",
    "orb_np"
   ]
  },
  {
   "cell_type": "markdown",
   "id": "7eb202eb-f290-407b-beb7-568a5e1e4ec1",
   "metadata": {},
   "source": [
    "### PyTorch tensor Coord"
   ]
  },
  {
   "cell_type": "code",
   "execution_count": 9,
   "id": "910a0cd5-075b-4b44-8f2e-dde24a572a71",
   "metadata": {},
   "outputs": [
    {
     "data": {
      "text/plain": [
       "Coord(vec=Particle(x=tensor([0.5488, 0.4376, 0.5680,  ..., 0.1674, 0.8284, 0.4274],\n",
       "       dtype=torch.float64), px=tensor([0.7152, 0.8918, 0.9256,  ..., 0.3515, 0.3534, 0.8832],\n",
       "       dtype=torch.float64), y=tensor([0.6028, 0.9637, 0.0710,  ..., 0.2701, 0.9201, 0.3801],\n",
       "       dtype=torch.float64), py=tensor([0.5449, 0.3834, 0.0871,  ..., 0.0870, 0.8137, 0.1690],\n",
       "       dtype=torch.float64), z=tensor([0.4237, 0.7917, 0.0202,  ..., 0.3049, 0.6833, 0.2639],\n",
       "       dtype=torch.float64), pz=tensor([0.6459, 0.5289, 0.8326,  ..., 0.1314, 0.8691, 0.3012],\n",
       "       dtype=torch.float64)), s=tensor(0), p0c=tensor(10000000.), mc2=tensor(510998.9375))"
      ]
     },
     "execution_count": 9,
     "metadata": {},
     "output_type": "execute_result"
    }
   ],
   "source": [
    "orb_torch = Coord(p_torch, torch.tensor(0), torch.tensor(p0c), torch.tensor(mc2))\n",
    "orb_torch"
   ]
  },
  {
   "cell_type": "markdown",
   "id": "3209757a-4769-44cc-9a23-ed7aa4fac0c8",
   "metadata": {
    "jp-MarkdownHeadingCollapsed": true,
    "tags": []
   },
   "source": [
    "## Option 2: \n",
    "\n",
    "Create a separate tuple for the reference particle's parameters:"
   ]
  },
  {
   "cell_type": "code",
   "execution_count": 10,
   "id": "18869dea-42c5-493b-83c3-e8074bbd9208",
   "metadata": {},
   "outputs": [
    {
     "data": {
      "text/plain": [
       "ReferenceParticle(s=0, p0c=10000000.0, mc2=510998.95)"
      ]
     },
     "execution_count": 10,
     "metadata": {},
     "output_type": "execute_result"
    }
   ],
   "source": [
    "ReferenceParticle = namedtuple('ReferenceParticle', 's p0c mc2')\n",
    "ref_par = ReferenceParticle(0, p0c,mc2)\n",
    "ref_par"
   ]
  },
  {
   "cell_type": "markdown",
   "id": "7638cac6-72c7-4e95-ae44-6ff97b375ae3",
   "metadata": {},
   "source": [
    "# track_a_drift"
   ]
  },
  {
   "cell_type": "code",
   "execution_count": 11,
   "id": "802fc720-0c08-4f46-b9ed-78deea47decb",
   "metadata": {},
   "outputs": [],
   "source": [
    "def make_track_a_drift(lib):\n",
    "    \"\"\"\n",
    "    Makes track_a_drift given the library lib\n",
    "    \"\"\"\n",
    "    \n",
    "    sqrt = lib.sqrt\n",
    "    \n",
    "    def track_a_drift(p_in, drift):\n",
    "        \"\"\"\n",
    "        Tracks the incoming Particle p_in though drift element\n",
    "        and returns the outgoing particle. See eqs 24.58 in bmad manual\n",
    "        \"\"\"\n",
    "        L = drift.L\n",
    "        p0c = drift.p0c\n",
    "        mc2 = drift.mc2\n",
    "        \n",
    "        x = p_in.x\n",
    "        px = p_in.px\n",
    "        y = p_in.y\n",
    "        py = p_in.py\n",
    "        z = p_in.z\n",
    "        pz = p_in.pz\n",
    "        \n",
    "        P = 1 + pz #Particle's total momentum over P0\n",
    "        Px = px / P #Particle's 'x' momentum over total momentum\n",
    "        Py = py / P #Particle's 'y' momentum over total momentum\n",
    "        Pxy2 = Px**2 + Py**2 #Particle's transverse mometun over total momentum (squared)\n",
    "        Ps = sqrt(1-Pxy2)  #Particle's longitudinal momentum over total momentum\n",
    "        \n",
    "        x = x + L * Px / Ps\n",
    "        y = y + L * Py / Ps\n",
    "        \n",
    "        beta_ratio = sqrt( ( 1 + (mc2/p0c)**2 )/( 1 + (mc2/(P*p0c))**2 ) ) #beta/beta_ref\n",
    "        z = z + L * ( beta_ratio - 1.0/Pl ) #should fix by taking the effect of include_ref_motion (see eq 24.58)\n",
    "        \n",
    "        return Particle(x, px, y, py, z, pz)\n",
    "    \n",
    "    return track_a_drift\n",
    "\n",
    "# Specialized functions\n",
    "track_a_drift_torch = make_track_a_drift(lib=torch)"
   ]
  },
  {
   "cell_type": "markdown",
   "id": "3e43fa07-c14f-4374-8bb0-25d0d9eb3d8b",
   "metadata": {},
   "source": [
    "## PyTorch example"
   ]
  },
  {
   "cell_type": "code",
   "execution_count": 12,
   "id": "f334e89a-6c8c-4856-8ca8-aac7bb31d341",
   "metadata": {},
   "outputs": [],
   "source": [
    "from torch.autograd.functional import jacobian"
   ]
  },
  {
   "cell_type": "code",
   "execution_count": 17,
   "id": "ee6fdf69-c492-4bc0-83c9-9b6a0400ef1f",
   "metadata": {},
   "outputs": [
    {
     "data": {
      "text/plain": [
       "Drift(L=tensor(1.), p0c=tensor(510998.9375), mc2=tensor(10000000.))"
      ]
     },
     "execution_count": 17,
     "metadata": {},
     "output_type": "execute_result"
    }
   ],
   "source": [
    "td1 = Drift(torch.tensor(L), torch.tensor(p0c), torch.tensor(mc2))\n",
    "td1"
   ]
  },
  {
   "cell_type": "code",
   "execution_count": 19,
   "id": "185ef8da-57ce-47b3-a3cb-2948dae4333b",
   "metadata": {},
   "outputs": [
    {
     "data": {
      "text/plain": [
       "Particle(x=tensor([0.5488, 0.4376, 0.5680,  ..., 0.1674, 0.8284, 0.4274],\n",
       "       dtype=torch.float64, grad_fn=<UnbindBackward0>), px=tensor([0.7152, 0.8918, 0.9256,  ..., 0.3515, 0.3534, 0.8832],\n",
       "       dtype=torch.float64, grad_fn=<UnbindBackward0>), y=tensor([0.6028, 0.9637, 0.0710,  ..., 0.2701, 0.9201, 0.3801],\n",
       "       dtype=torch.float64, grad_fn=<UnbindBackward0>), py=tensor([0.5449, 0.3834, 0.0871,  ..., 0.0870, 0.8137, 0.1690],\n",
       "       dtype=torch.float64, grad_fn=<UnbindBackward0>), z=tensor([0.4237, 0.7917, 0.0202,  ..., 0.3049, 0.6833, 0.2639],\n",
       "       dtype=torch.float64, grad_fn=<UnbindBackward0>), pz=tensor([0.6459, 0.5289, 0.8326,  ..., 0.1314, 0.8691, 0.3012],\n",
       "       dtype=torch.float64, grad_fn=<UnbindBackward0>))"
      ]
     },
     "execution_count": 19,
     "metadata": {},
     "output_type": "execute_result"
    }
   ],
   "source": [
    "p_torch = Particle(*torch.tensor(pvec.T, requires_grad=True, dtype=torch.float64))\n",
    "p_torch"
   ]
  },
  {
   "cell_type": "code",
   "execution_count": 18,
   "id": "ff53dc07-41dc-40c2-b59b-134048900095",
   "metadata": {},
   "outputs": [],
   "source": [
    "f2 = lambda x: track_a_drift_torch(Particle(*x,), td1)\n",
    "J = jacobian(f2, tl)"
   ]
  },
  {
   "cell_type": "code",
   "execution_count": null,
   "id": "8caf4ee3-ed62-4505-bd47-cd1711b1bd82",
   "metadata": {},
   "outputs": [],
   "source": []
  }
 ],
 "metadata": {
  "kernelspec": {
   "display_name": "Python 3 (ipykernel)",
   "language": "python",
   "name": "python3"
  },
  "language_info": {
   "codemirror_mode": {
    "name": "ipython",
    "version": 3
   },
   "file_extension": ".py",
   "mimetype": "text/x-python",
   "name": "python",
   "nbconvert_exporter": "python",
   "pygments_lexer": "ipython3",
   "version": "3.9.7"
  }
 },
 "nbformat": 4,
 "nbformat_minor": 5
}
