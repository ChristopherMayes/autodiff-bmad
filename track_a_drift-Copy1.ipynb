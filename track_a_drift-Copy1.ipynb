{
 "cells": [
  {
   "cell_type": "markdown",
   "id": "cfe2f3e6-ab7f-4493-8ca4-acd56731bc0b",
   "metadata": {},
   "source": [
    "Tracking elements with autodifferentiable capabilities"
   ]
  },
  {
   "cell_type": "code",
   "execution_count": 1,
   "id": "8af3d886-d3bd-4e34-9556-d645ee9f761e",
   "metadata": {},
   "outputs": [
    {
     "data": {
      "text/plain": [
       "('1.10.2', '1.22.2')"
      ]
     },
     "execution_count": 1,
     "metadata": {},
     "output_type": "execute_result"
    }
   ],
   "source": [
    "import numpy as np\n",
    "import torch\n",
    "from collections import namedtuple\n",
    "from torch.autograd.functional import jacobian\n",
    "\n",
    "torch.set_printoptions(precision=10)\n",
    "torch.__version__, np.__version__"
   ]
  },
  {
   "cell_type": "markdown",
   "id": "4195b788-22c6-4f75-bb00-a417cf041292",
   "metadata": {
    "jp-MarkdownHeadingCollapsed": true,
    "tags": []
   },
   "source": [
    "# Constants"
   ]
  },
  {
   "cell_type": "code",
   "execution_count": 2,
   "id": "c3f66538-b1d3-448d-a15b-82cae88067f6",
   "metadata": {
    "tags": []
   },
   "outputs": [],
   "source": [
    "c_light = 2.99792458e8 #speed of light in m/s\n",
    "m_e = 0.510998950e6 #electron mass in eV"
   ]
  },
  {
   "cell_type": "markdown",
   "id": "a68663f4-da28-42bf-8d55-1069efade5ec",
   "metadata": {
    "tags": []
   },
   "source": [
    "# Tuples"
   ]
  },
  {
   "cell_type": "code",
   "execution_count": 3,
   "id": "3165f10b-e4e3-49cb-ac73-b4a069b350c0",
   "metadata": {},
   "outputs": [],
   "source": [
    "Drift = namedtuple('Drift', 'L')\n",
    "Quadrupole = namedtuple('Quadrupole', 'L K1 NUM_STEPS')\n",
    "Particle = namedtuple('Particle', 'x px y py z pz s t p0c mc2')\n",
    "#Canonical phase space coordinates as defined in Bmad manual section 15.4.2. Added s t p0c and mc2 = 0"
   ]
  },
  {
   "cell_type": "markdown",
   "id": "ab86fb73-eb64-4da6-bd68-94d12a6c772e",
   "metadata": {
    "tags": []
   },
   "source": [
    "## PyTorch tensor test Particle:"
   ]
  },
  {
   "cell_type": "code",
   "execution_count": 4,
   "id": "6718d33a-8008-4ad6-8c43-1652c48abbd1",
   "metadata": {},
   "outputs": [
    {
     "data": {
      "text/plain": [
       "Particle(x=tensor([0.5488135039, 0.4375872113, 0.5680445611,  ..., 0.1673917659,\n",
       "        0.8283865988, 0.4274187576], dtype=torch.float64,\n",
       "       grad_fn=<UnbindBackward0>), px=tensor([0.7151893664, 0.8917730008, 0.9255966383,  ..., 0.3514514993,\n",
       "        0.3534266484, 0.8832471531], dtype=torch.float64,\n",
       "       grad_fn=<UnbindBackward0>), y=tensor([0.6027633761, 0.9636627605, 0.0710360582,  ..., 0.2700843196,\n",
       "        0.9201338773, 0.3800812269], dtype=torch.float64,\n",
       "       grad_fn=<UnbindBackward0>), py=tensor([0.5448831830, 0.3834415188, 0.0871292997,  ..., 0.0870263901,\n",
       "        0.8137479865, 0.1690041298], dtype=torch.float64,\n",
       "       grad_fn=<UnbindBackward0>), z=tensor([0.4236547993, 0.7917250381, 0.0202183974,  ..., 0.3048581211,\n",
       "        0.6832710885, 0.2639306656], dtype=torch.float64,\n",
       "       grad_fn=<UnbindBackward0>), pz=tensor([0.6458941131, 0.5288949198, 0.8326198455,  ..., 0.1314423113,\n",
       "        0.8690973434, 0.3011667628], dtype=torch.float64,\n",
       "       grad_fn=<UnbindBackward0>), s=tensor(0., dtype=torch.float64), t=tensor(0., dtype=torch.float64), p0c=tensor(41996891., dtype=torch.float64), mc2=tensor(510998.9500000000, dtype=torch.float64))"
      ]
     },
     "execution_count": 4,
     "metadata": {},
     "output_type": "execute_result"
    }
   ],
   "source": [
    "np.random.seed(0)\n",
    "pvec = np.random.rand(10_000, 6) #test particles\n",
    "s = 0.0\n",
    "t = 0.0\n",
    "p0c = 4.1996891E+07 #Reference particle momentum in eV\n",
    "mc2 = 1*m_e # electron mass in eV\n",
    "ts = torch.tensor(s, dtype=torch.float64)\n",
    "tt = torch.tensor(t, dtype=torch.float64)\n",
    "tp0c = torch.tensor(p0c, dtype=torch.float64)\n",
    "tmc2 = torch.tensor(mc2, dtype=torch.float64) #necessary? \n",
    "tpvec = torch.tensor(pvec, requires_grad=True, dtype=torch.float64)\n",
    "p_torch = Particle(*tpvec.T, ts, tt, tp0c, tmc2)\n",
    "p_torch"
   ]
  },
  {
   "cell_type": "markdown",
   "id": "7638cac6-72c7-4e95-ae44-6ff97b375ae3",
   "metadata": {
    "tags": []
   },
   "source": [
    "# Drift"
   ]
  },
  {
   "cell_type": "markdown",
   "id": "cc600822-3b8b-49da-92cb-7307efbca625",
   "metadata": {
    "tags": []
   },
   "source": [
    "## track_a_drift"
   ]
  },
  {
   "cell_type": "code",
   "execution_count": 9,
   "id": "802fc720-0c08-4f46-b9ed-78deea47decb",
   "metadata": {
    "tags": []
   },
   "outputs": [],
   "source": [
    "def make_track_a_drift(lib):\n",
    "    \"\"\"\n",
    "    Makes track_a_drift given the library lib\n",
    "    \"\"\"\n",
    "    \n",
    "    sqrt = lib.sqrt\n",
    "    \n",
    "    def track_a_drift(p_in, drift):\n",
    "        \"\"\"\n",
    "        Tracks the incoming Particle p_in though drift element\n",
    "        and returns the outgoing particle. See eqs 24.58 in bmad manual\n",
    "        \"\"\"\n",
    "        L = drift.L\n",
    "        \n",
    "        s = p_in.s\n",
    "        t = p_in.t\n",
    "        p0c = p_in.p0c\n",
    "        mc2 = p_in.mc2\n",
    "        \n",
    "        x = p_in.x\n",
    "        px = p_in.px\n",
    "        y = p_in.y\n",
    "        py = p_in.py\n",
    "        z = p_in.z\n",
    "        pz = p_in.pz\n",
    "        \n",
    "        P = 1 + pz #Particle's total momentum over p0\n",
    "        Px = px / P #Particle's 'x' momentum over p0\n",
    "        Py = py / P #Particle's 'y' momentum over p0\n",
    "        Pxy2 = Px**2 + Py**2 #Particle's transverse mometum^2 over p0^2\n",
    "        Pl = sqrt(1-Pxy2)  #Particle's longitudinal momentum over p0\n",
    "        \n",
    "        x = x + L * Px / Pl\n",
    "        y = y + L * Py / Pl\n",
    "        \n",
    "        #beta = sqrt( 1 - 1 /( 1 + (P*p0c/mc2)**2 ) )\n",
    "        #beta_ref = sqrt( 1 - 1 /( 1 + (p0c/mc2)**2 ) )\n",
    "        beta = P * p0c / sqrt( (P*p0c)**2 + mc2**2)\n",
    "        beta_ref = p0c / sqrt( p0c**2 + mc2**2)\n",
    "        z = z + L * ( beta/beta_ref - 1.0/Pl )\n",
    "        s = s + L\n",
    "        t = t + L / ( beta * Pl * c_light )\n",
    "        \n",
    "        return Particle(x, px, y, py, z, pz, s, t, p0c, mc2)\n",
    "    \n",
    "    return track_a_drift\n",
    "\n",
    "# Specialized functions\n",
    "track_a_drift_torch = make_track_a_drift(lib=torch)"
   ]
  },
  {
   "cell_type": "markdown",
   "id": "3e43fa07-c14f-4374-8bb0-25d0d9eb3d8b",
   "metadata": {
    "tags": []
   },
   "source": [
    "## drift test"
   ]
  },
  {
   "cell_type": "markdown",
   "id": "90322ef8-3034-45a7-817c-a8f4a0b90dfb",
   "metadata": {},
   "source": [
    "drift:"
   ]
  },
  {
   "cell_type": "code",
   "execution_count": 10,
   "id": "ee6fdf69-c492-4bc0-83c9-9b6a0400ef1f",
   "metadata": {
    "tags": []
   },
   "outputs": [
    {
     "data": {
      "text/plain": [
       "Drift(L=tensor(1., dtype=torch.float64))"
      ]
     },
     "execution_count": 10,
     "metadata": {},
     "output_type": "execute_result"
    }
   ],
   "source": [
    "L=1.0 # Drift length in m\n",
    "d1 = Drift(torch.tensor(L, dtype=torch.float64))\n",
    "d1"
   ]
  },
  {
   "cell_type": "markdown",
   "id": "f47cc1d4-c514-4f23-a70b-b692e4a0c4dc",
   "metadata": {},
   "source": [
    "test particle:"
   ]
  },
  {
   "cell_type": "code",
   "execution_count": 21,
   "id": "22f5b59f-a16b-4e85-bc07-d9a6022c9dc2",
   "metadata": {
    "tags": []
   },
   "outputs": [
    {
     "data": {
      "text/plain": [
       "tensor([ 0.0020000000,  0.0030000000, -0.0030000000, -0.0010000000,\n",
       "         0.0020000000, -0.0020000000], dtype=torch.float64, requires_grad=True)"
      ]
     },
     "execution_count": 21,
     "metadata": {},
     "output_type": "execute_result"
    }
   ],
   "source": [
    "s = 0.0 #initial s\n",
    "t = 0.0 #initial t\n",
    "p0c = 4.1996891E+07 #Reference particle momentum in eV\n",
    "mc2 = 1*m_e # electron mass in eV\n",
    "ts = torch.tensor(s, dtype=torch.float64)\n",
    "tt = torch.tensor(t, dtype=torch.float64)\n",
    "tp0c = torch.tensor(p0c, dtype=torch.float64)\n",
    "tmc2 = torch.tensor(mc2, dtype=torch.float64) #necessary? \n",
    "pvec1 = [2e-3,3e-3,-3e-3,-1e-3,2e-3,-2e-3] \n",
    "tvec1 = torch.tensor(pvec1, requires_grad=True, dtype=torch.float64)\n",
    "tvec1"
   ]
  },
  {
   "cell_type": "markdown",
   "id": "3d79d801-e97e-474d-9a3c-9ae5bd718cf3",
   "metadata": {},
   "source": [
    "track_a_drift test:"
   ]
  },
  {
   "cell_type": "code",
   "execution_count": 22,
   "id": "81b7540a-0c21-42e8-a724-159c3c16e47e",
   "metadata": {
    "tags": []
   },
   "outputs": [
    {
     "data": {
      "text/plain": [
       "Particle(x=tensor(0.0050060271, dtype=torch.float64, grad_fn=<AddBackward0>), px=tensor(0.0030000000, dtype=torch.float64, grad_fn=<UnbindBackward0>), y=tensor(-0.0040020090, dtype=torch.float64, grad_fn=<AddBackward0>), py=tensor(-0.0010000000, dtype=torch.float64, grad_fn=<UnbindBackward0>), z=tensor(8.3583408871e-06, dtype=torch.float64, grad_fn=<AddBackward0>), pz=tensor(-0.0020000000, dtype=torch.float64, grad_fn=<UnbindBackward0>), s=tensor(1., dtype=torch.float64), t=tensor(4.0804661003e-08, dtype=torch.float64, grad_fn=<AddBackward0>), p0c=tensor(41996.8910000000, dtype=torch.float64), mc2=tensor(510998.9500000000, dtype=torch.float64))"
      ]
     },
     "execution_count": 22,
     "metadata": {},
     "output_type": "execute_result"
    }
   ],
   "source": [
    "track_a_drift_torch(Particle(*tvec1,ts, tt, tp0c, tmc2), d1)"
   ]
  },
  {
   "cell_type": "markdown",
   "id": "d8fae022-eda1-4b37-89a3-48d9c9fc3ddb",
   "metadata": {},
   "source": [
    "Jacobian:"
   ]
  },
  {
   "cell_type": "code",
   "execution_count": null,
   "id": "062c3a71-b3b9-48b5-85a3-d332f716496d",
   "metadata": {},
   "outputs": [],
   "source": [
    "f2 = lambda x: track_a_drift_torch(Particle(*x,ts, tt, tp0c, tmc2), d1)[:6]\n",
    "with torch.autograd.detect_anomaly():\n",
    "    J = jacobian(f2, tvec1)"
   ]
  },
  {
   "cell_type": "code",
   "execution_count": null,
   "id": "2f3a581f-157b-44bd-b596-185155a9c972",
   "metadata": {},
   "outputs": [],
   "source": [
    "J"
   ]
  },
  {
   "cell_type": "markdown",
   "id": "c3f3188a-39d8-4d68-bb0e-131a8dbb22a6",
   "metadata": {
    "tags": []
   },
   "source": [
    "# Quadrupole"
   ]
  },
  {
   "cell_type": "markdown",
   "id": "131a4d7a-51fc-4020-8a04-bb0fa8c435ae",
   "metadata": {
    "tags": []
   },
   "source": [
    "## track_a_quadrupole"
   ]
  },
  {
   "cell_type": "code",
   "execution_count": null,
   "id": "23c5b99c-f531-4b2f-83bc-65df4409a93d",
   "metadata": {},
   "outputs": [],
   "source": [
    "def make_track_a_quadrupole(lib):\n",
    "    \"\"\"\n",
    "    Makes track_a_quadrupole given the library lib\n",
    "    \"\"\"\n",
    "    sqrt = lib.sqrt\n",
    "    absolute = lib.abs\n",
    "    sin = lib.sin\n",
    "    cos = lib.cos\n",
    "    sinh = lib.sinh\n",
    "    cosh = lib.cosh\n",
    "    \n",
    "    def quad_mat2_calc(k1, length, rel_p):\n",
    "        \"\"\"\n",
    "        Returns 2x2 transfer matrix elements aij and the coefficients to calculate \n",
    "        the change in z position.\n",
    "        Input: \n",
    "            k1 -- Quad strength: k1 > 0 ==> defocus\n",
    "            length -- Quad length\n",
    "            rel_p -- Relative momentum P/P0\n",
    "        Output:\n",
    "            a11, a12, a21, a22 : transfer matrix elements\n",
    "            c1, c2, c3: second order derivatives of z such that \n",
    "                        z = c1 * x_0^2 + c2 * x_0 * px_0 + c3* px_0^2\n",
    "        \"\"\"  \n",
    "        sqrt_k = sqrt(absolute(k1))\n",
    "        sk_l = sqrt_k * length\n",
    "        if (absolute(sk_l) < 1e-10):\n",
    "            k_l2 = k1 * length**2\n",
    "            cx = 1 + k_l2 / 2\n",
    "            sx = (1 + k_l2 / 6) * length\n",
    "            dcx = -k_l2 / (2 * rel_p)\n",
    "            dsx = -k_l2 * length / (6 * rel_p)\n",
    "        elif (k1 < 0):\n",
    "            cx = cos(sk_l)\n",
    "            sx = sin(sk_l) / sqrt_k\n",
    "            dcx = -k1 * sx * length / (2 * rel_p)\n",
    "            dsx = (sx - length * cx) / (2 * rel_p)\n",
    "        else:\n",
    "            cx = cosh(sk_l)\n",
    "            sx = sinh(sk_l) / sqrt_k\n",
    "            dcx = -k1 * sx * length / (2 * rel_p)\n",
    "            dsx = (sx - length * cx) / (2 * rel_p)\n",
    "        \n",
    "        a11 = cx\n",
    "        a12 = sx / rel_p\n",
    "        a21 = k1 * sx * rel_p\n",
    "        a22 = cx\n",
    "            \n",
    "        c1 = k1 * (-cx * sx + length) / 4\n",
    "        c2 = -k1 * sx**2 / (2 * rel_p)\n",
    "        c3 = -(cx * sx + length) / (4 * rel_p**2)\n",
    "\n",
    "        return a11, a12, a21, a22, c1, c2, c3\n",
    "    \n",
    "    \n",
    "    def low_energy_z_correction(pz, p0c, mass, ds):\n",
    "        \"\"\"\n",
    "        Corrects the change in z-coordinate due to speed < c_light. \n",
    "        Input:\n",
    "            p0c -- reference particle momentum in eV\n",
    "            mass -- particle mass in eV\n",
    "            e_tot -- total energy\n",
    "        \"\"\"\n",
    "        beta = sqrt( 1 - 1 /( 1 + ((1+pz)*p0c/mass)**2 ) )\n",
    "        beta0 = sqrt( 1 - 1 /( 1 + (p0c/mass)**2 ) )\n",
    "        e_tot = sqrt(p0c**2+mass**2)\n",
    "        beta0 = p0c/e_tot\n",
    "\n",
    "        if (mass * (beta0*pz)**2 < 3e-7 * e_tot):\n",
    "            f = beta0**2 * (2 * beta0**2 - (mass / e_tot)**2 / 2)\n",
    "            dz = ds * pz * (1 - 3 * (pz * beta0**2) / 2 + pz**2 * f) * (mass / e_tot)**2\n",
    "        else\n",
    "          dz = ds * (beta - beta0) / beta0\n",
    "    \n",
    "    def track_a_quadrupole(p_in, quad):\n",
    "        \"\"\"\n",
    "        Tracks the incoming Particle p_in though quad element\n",
    "        and returns the outgoing particle.\n",
    "        \"\"\"\n",
    "        l = quad.L\n",
    "        k1 = quad.K1\n",
    "        n_step = quad.NUM_STEPS #number of divisions\n",
    "        step_len = l/n_step #length of division\n",
    "        \n",
    "        s = p_in.s\n",
    "        t = p_in.t\n",
    "        p0c = p_in.p0c\n",
    "        mc2 = p_in.mc2\n",
    "        \n",
    "        x = p_in.x\n",
    "        px = p_in.px\n",
    "        y = p_in.y\n",
    "        py = p_in.py\n",
    "        z = p_in.z\n",
    "        pz = p_in.pz\n",
    "        \n",
    "        rel_p = 1 + pz #Particle's relative momentum (P/P0)\n",
    "        \n",
    "        for i in range(n_step):\n",
    "            tx11, tx12, tx21, tx22, dz_x1, dz_x2, dz_x3 = quad_mat2_calc(-k1, step_len, rel_p)\n",
    "            ty11, ty12, ty21, ty22, dz_y1, dz_y2, dz_y3 = quad_mat2_calc( k1, step_len, rel_p)\n",
    "            \n",
    "            z = ( z +\n",
    "                dz_x1 * x**2 + dz_x2 * x * px + dz_x3 * px**2 +\n",
    "                dz_y1 * y**2 + dz_y2 * y * py + dz_y3 * py**2 )\n",
    "            x = tx11 * x + tx12 * px\n",
    "            px = tx21 * x + tx22 * px\n",
    "            y = ty11 * y + ty12 * py\n",
    "            py = ty21 * y + ty22 * py\n",
    "            \n",
    "            z = low_energy_z_correction()\n",
    "\n",
    "        \n",
    "        return Particle(x, px, y, py, z, pz, s, t, p0c, mc2)\n",
    "    \n",
    "    return track_a_quadrupole\n",
    "\n",
    "# Specialized functions\n",
    "track_a_quadrupole_torch = make_track_a_quadrupole(lib=torch)"
   ]
  },
  {
   "cell_type": "markdown",
   "id": "b36b7b45-0c9e-483a-a4af-7320c173a308",
   "metadata": {
    "tags": []
   },
   "source": [
    "## quadrupole test"
   ]
  },
  {
   "cell_type": "code",
   "execution_count": null,
   "id": "5dcd7b1a-ba3f-4b45-a5e6-455650fd6598",
   "metadata": {},
   "outputs": [],
   "source": [
    "#Create quad 1\n",
    "L = 1.0 #Length in m\n",
    "K1 = 10.0 #Quad focusing strength. Positive is focusing in x subspace\n",
    "NUM_STEPS = 50 #number of divisions for tracking. 50 is bmad default apparently (?)\n",
    "q1 = Quadrupole(torch.tensor(L, dtype=torch.float64), torch.tensor(K1, dtype=torch.float64), torch.tensor(NUM_STEPS, dtype=torch.float64))\n",
    "q1"
   ]
  },
  {
   "cell_type": "code",
   "execution_count": null,
   "id": "5243e2e3-08d4-4fca-9bcf-a27db0a03d63",
   "metadata": {},
   "outputs": [],
   "source": [
    "a=torch.tensor(1.0,requires_grad=True,dtype=torch.float64)\n",
    "b=torch.tensor([1.0,1.0],requires_grad=True,dtype=torch.float64)\n",
    "b"
   ]
  },
  {
   "cell_type": "code",
   "execution_count": null,
   "id": "011bd592-47cc-4f6b-b705-0e1f8e15f12f",
   "metadata": {},
   "outputs": [],
   "source": [
    "a*b"
   ]
  },
  {
   "cell_type": "code",
   "execution_count": null,
   "id": "7c075034-0820-4a19-91fc-9f35840f01b8",
   "metadata": {},
   "outputs": [],
   "source": [
    "torch.cat([a.unsqueeze(0),a.unsqueeze(0)])"
   ]
  },
  {
   "cell_type": "code",
   "execution_count": null,
   "id": "c9858e5a-39e1-4fb5-b9b6-7eafc15982d5",
   "metadata": {},
   "outputs": [],
   "source": [
    "out=torch.tensor([1.0,0],dtype=torch.float64)*a+torch.tensor([0,1.0],dtype=torch.float64)*a #check if double precision"
   ]
  },
  {
   "cell_type": "code",
   "execution_count": null,
   "id": "de8f35ca-9e42-4384-98c9-322e2a855965",
   "metadata": {},
   "outputs": [],
   "source": [
    "out.dtype"
   ]
  },
  {
   "cell_type": "code",
   "execution_count": null,
   "id": "38e28460-81a7-497a-bbde-7edce18cdaaf",
   "metadata": {},
   "outputs": [],
   "source": [
    "out[0].backward()"
   ]
  },
  {
   "cell_type": "code",
   "execution_count": null,
   "id": "7a33ebef-212d-44fe-9e0e-018036de7e84",
   "metadata": {},
   "outputs": [],
   "source": [
    "print(a.grad)"
   ]
  },
  {
   "cell_type": "code",
   "execution_count": null,
   "id": "a7fa5ee4-125f-44db-9de2-64c1655c2737",
   "metadata": {},
   "outputs": [],
   "source": []
  }
 ],
 "metadata": {
  "kernelspec": {
   "display_name": "Python 3 (ipykernel)",
   "language": "python",
   "name": "python3"
  },
  "language_info": {
   "codemirror_mode": {
    "name": "ipython",
    "version": 3
   },
   "file_extension": ".py",
   "mimetype": "text/x-python",
   "name": "python",
   "nbconvert_exporter": "python",
   "pygments_lexer": "ipython3",
   "version": "3.9.10"
  },
  "toc-autonumbering": false,
  "toc-showcode": false,
  "toc-showmarkdowntxt": false,
  "toc-showtags": false
 },
 "nbformat": 4,
 "nbformat_minor": 5
}
