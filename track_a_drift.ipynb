{
 "cells": [
  {
   "cell_type": "markdown",
   "id": "cfe2f3e6-ab7f-4493-8ca4-acd56731bc0b",
   "metadata": {
    "tags": []
   },
   "source": [
    "# Tracking through elements with autodiff"
   ]
  },
  {
   "cell_type": "code",
   "execution_count": 1,
   "id": "8af3d886-d3bd-4e34-9556-d645ee9f761e",
   "metadata": {
    "tags": []
   },
   "outputs": [
    {
     "data": {
      "text/plain": [
       "('1.10.2', '1.22.2')"
      ]
     },
     "execution_count": 1,
     "metadata": {},
     "output_type": "execute_result"
    }
   ],
   "source": [
    "import numpy as np\n",
    "import torch\n",
    "from collections import namedtuple\n",
    "from torch.autograd.functional import jacobian\n",
    "from pytao import Tao\n",
    "\n",
    "np.set_printoptions(precision= 16, suppress=False)\n",
    "torch.set_printoptions(precision= 16, sci_mode=True)\n",
    "torch.__version__, np.__version__"
   ]
  },
  {
   "cell_type": "markdown",
   "id": "4195b788-22c6-4f75-bb00-a417cf041292",
   "metadata": {
    "jp-MarkdownHeadingCollapsed": true,
    "tags": [],
    "toc-hr-collapsed": true
   },
   "source": [
    "# Constants"
   ]
  },
  {
   "cell_type": "code",
   "execution_count": 2,
   "id": "c3f66538-b1d3-448d-a15b-82cae88067f6",
   "metadata": {
    "tags": []
   },
   "outputs": [],
   "source": [
    "c_light = 2.99792458e8 #speed of light in m/s\n",
    "m_e = 0.510998950e6 #electron mass in eV"
   ]
  },
  {
   "cell_type": "markdown",
   "id": "a68663f4-da28-42bf-8d55-1069efade5ec",
   "metadata": {
    "jp-MarkdownHeadingCollapsed": true,
    "tags": [],
    "toc-hr-collapsed": true
   },
   "source": [
    "# Tuples"
   ]
  },
  {
   "cell_type": "code",
   "execution_count": 3,
   "id": "3165f10b-e4e3-49cb-ac73-b4a069b350c0",
   "metadata": {},
   "outputs": [],
   "source": [
    "Drift = namedtuple('Drift', 'L')\n",
    "Quadrupole = namedtuple('Quadrupole', 'L K1 NUM_STEPS')\n",
    "Particle = namedtuple('Particle', 'x px y py z pz s t p0c mc2')\n",
    "#Canonical phase space coordinates as defined in Bmad manual section 15.4.2. Added s t p0c and mc2 = 0"
   ]
  },
  {
   "cell_type": "markdown",
   "id": "ab86fb73-eb64-4da6-bd68-94d12a6c772e",
   "metadata": {
    "jp-MarkdownHeadingCollapsed": true,
    "tags": []
   },
   "source": [
    "## PyTorch tensor test Particle:"
   ]
  },
  {
   "cell_type": "code",
   "execution_count": 4,
   "id": "6718d33a-8008-4ad6-8c43-1652c48abbd1",
   "metadata": {
    "tags": []
   },
   "outputs": [
    {
     "data": {
      "text/plain": [
       "Particle(x=tensor([5.4881350392732475e-01, 4.3758721126269251e-01, 5.6804456109393231e-01,\n",
       "         ..., 1.6739176591167459e-01, 8.2838659877820775e-01,\n",
       "        4.2741875758117731e-01], dtype=torch.float64,\n",
       "       grad_fn=<UnbindBackward0>), px=tensor([7.1518936637241948e-01, 8.9177300078207977e-01, 9.2559663829266103e-01,\n",
       "         ..., 3.5145149927123487e-01, 3.5342664838276150e-01,\n",
       "        8.8324715311888191e-01], dtype=torch.float64,\n",
       "       grad_fn=<UnbindBackward0>), y=tensor([6.0276337607164387e-01, 9.6366276050102928e-01, 7.1036058197886942e-02,\n",
       "         ..., 2.7008431955854806e-01, 9.2013387734489693e-01,\n",
       "        3.8008122694143009e-01], dtype=torch.float64,\n",
       "       grad_fn=<UnbindBackward0>), py=tensor([5.4488318299689686e-01, 3.8344151882577771e-01, 8.7129299701540708e-02,\n",
       "         ..., 8.7026390127975972e-02, 8.1374798653759683e-01,\n",
       "        1.6900412983681179e-01], dtype=torch.float64,\n",
       "       grad_fn=<UnbindBackward0>), z=tensor([4.2365479933890471e-01, 7.9172503808266459e-01, 2.0218397440325719e-02,\n",
       "         ..., 3.0485812108087229e-01, 6.8327108847887053e-01,\n",
       "        2.6393066558620570e-01], dtype=torch.float64,\n",
       "       grad_fn=<UnbindBackward0>), pz=tensor([6.4589411306665612e-01, 5.2889491975290448e-01, 8.3261984554793800e-01,\n",
       "         ..., 1.3144231130711859e-01, 8.6909734341370770e-01,\n",
       "        3.0116676284982702e-01], dtype=torch.float64,\n",
       "       grad_fn=<UnbindBackward0>), s=tensor(0., dtype=torch.float64), t=tensor(0., dtype=torch.float64), p0c=tensor(4.0000000000000000e+07, dtype=torch.float64), mc2=tensor( 5.1099895000000001e+05, dtype=torch.float64))"
      ]
     },
     "execution_count": 4,
     "metadata": {},
     "output_type": "execute_result"
    }
   ],
   "source": [
    "np.random.seed(0)\n",
    "pvec = np.random.rand(10_000, 6) #test particles\n",
    "s = 0.0\n",
    "t = 0.0\n",
    "p0c = 4.0E+07 #Reference particle momentum in eV\n",
    "mc2 = 1*m_e # electron mass in eV\n",
    "ts = torch.tensor(s, dtype=torch.float64)\n",
    "tt = torch.tensor(t, dtype=torch.float64)\n",
    "tp0c = torch.tensor(p0c, dtype=torch.float64)\n",
    "tmc2 = torch.tensor(mc2, dtype=torch.float64) #necessary? \n",
    "tpvec = torch.tensor(pvec, requires_grad=True, dtype=torch.float64)\n",
    "p_torch = Particle(*tpvec.T, ts, tt, tp0c, tmc2)\n",
    "p_torch"
   ]
  },
  {
   "cell_type": "markdown",
   "id": "7638cac6-72c7-4e95-ae44-6ff97b375ae3",
   "metadata": {
    "tags": []
   },
   "source": [
    "# Drift"
   ]
  },
  {
   "cell_type": "markdown",
   "id": "cc600822-3b8b-49da-92cb-7307efbca625",
   "metadata": {
    "jp-MarkdownHeadingCollapsed": true,
    "tags": [],
    "toc-hr-collapsed": true
   },
   "source": [
    "## `track_a_drift`"
   ]
  },
  {
   "cell_type": "code",
   "execution_count": 5,
   "id": "802fc720-0c08-4f46-b9ed-78deea47decb",
   "metadata": {
    "tags": []
   },
   "outputs": [],
   "source": [
    "def make_track_a_drift(lib):\n",
    "    \"\"\"\n",
    "    Makes track_a_drift given the library lib\n",
    "    \"\"\"\n",
    "    \n",
    "    sqrt = lib.sqrt\n",
    "    \n",
    "    def track_a_drift(p_in, drift):\n",
    "        \"\"\"\n",
    "        Tracks the incoming Particle p_in though drift element\n",
    "        and returns the outgoing particle. See eqs 24.58 in bmad manual\n",
    "        \"\"\"\n",
    "        L = drift.L\n",
    "        \n",
    "        s = p_in.s\n",
    "        t = p_in.t\n",
    "        p0c = p_in.p0c\n",
    "        mc2 = p_in.mc2\n",
    "        \n",
    "        x = p_in.x\n",
    "        px = p_in.px\n",
    "        y = p_in.y\n",
    "        py = p_in.py\n",
    "        z = p_in.z\n",
    "        pz = p_in.pz\n",
    "        \n",
    "        P = 1 + pz #Particle's total momentum over p0\n",
    "        Px = px / P #Particle's 'x' momentum over p0\n",
    "        Py = py / P #Particle's 'y' momentum over p0\n",
    "        Pxy2 = Px**2 + Py**2 #Particle's transverse mometum^2 over p0^2\n",
    "        Pl = sqrt(1-Pxy2)  #Particle's longitudinal momentum over p0\n",
    "        \n",
    "        x = x + L * Px / Pl\n",
    "        y = y + L * Py / Pl\n",
    "        \n",
    "        #beta = sqrt( 1 - 1 /( 1 + (P*p0c/mc2)**2 ) )\n",
    "        #beta_ref = sqrt( 1 - 1 /( 1 + (p0c/mc2)**2 ) )\n",
    "        #better alternative:\n",
    "        beta = P * p0c / sqrt( (P*p0c)**2 + mc2**2) # hypot\n",
    "        beta_ref = p0c / sqrt( p0c**2 + mc2**2)\n",
    "        z = z + L * ( beta/beta_ref - 1.0/Pl )\n",
    "        s = s + L\n",
    "        t = t + L / ( beta * Pl * c_light )\n",
    "        \n",
    "        return Particle(x, px, y, py, z, pz, s, t, p0c, mc2)\n",
    "    \n",
    "    return track_a_drift\n",
    "\n",
    "# Specialized functions\n",
    "track_a_drift_torch = make_track_a_drift(lib=torch)"
   ]
  },
  {
   "cell_type": "markdown",
   "id": "3e43fa07-c14f-4374-8bb0-25d0d9eb3d8b",
   "metadata": {
    "tags": [],
    "toc-hr-collapsed": true
   },
   "source": [
    "## drift test"
   ]
  },
  {
   "cell_type": "markdown",
   "id": "90322ef8-3034-45a7-817c-a8f4a0b90dfb",
   "metadata": {},
   "source": [
    "drift:"
   ]
  },
  {
   "cell_type": "code",
   "execution_count": 6,
   "id": "ee6fdf69-c492-4bc0-83c9-9b6a0400ef1f",
   "metadata": {
    "tags": []
   },
   "outputs": [
    {
     "data": {
      "text/plain": [
       "Drift(L=tensor(1.0000000000000000e+00, dtype=torch.float64))"
      ]
     },
     "execution_count": 6,
     "metadata": {},
     "output_type": "execute_result"
    }
   ],
   "source": [
    "L=1.0 # Drift length in m\n",
    "d1 = Drift(torch.tensor(L, dtype=torch.float64))\n",
    "d1"
   ]
  },
  {
   "cell_type": "markdown",
   "id": "f47cc1d4-c514-4f23-a70b-b692e4a0c4dc",
   "metadata": {},
   "source": [
    "test particle:"
   ]
  },
  {
   "cell_type": "code",
   "execution_count": 7,
   "id": "22f5b59f-a16b-4e85-bc07-d9a6022c9dc2",
   "metadata": {
    "tags": []
   },
   "outputs": [
    {
     "data": {
      "text/plain": [
       "tensor([2.0000000000000000e-03, 3.0000000000000001e-03, -3.0000000000000001e-03,\n",
       "        -1.0000000000000000e-03, 2.0000000000000000e-03, -2.0000000000000000e-03],\n",
       "       dtype=torch.float64, requires_grad=True)"
      ]
     },
     "execution_count": 7,
     "metadata": {},
     "output_type": "execute_result"
    }
   ],
   "source": [
    "s = 0.0 #initial s\n",
    "t = 0.0 #initial t\n",
    "p0c = 4.0E+07 #Reference particle momentum in eV\n",
    "mc2 = 1*m_e # electron mass in eV\n",
    "ts = torch.tensor(s, dtype=torch.float64)\n",
    "tt = torch.tensor(t, dtype=torch.float64)\n",
    "tp0c = torch.tensor(p0c, dtype=torch.float64)\n",
    "tmc2 = torch.tensor(mc2, dtype=torch.float64)\n",
    "pvec1 = [2e-3,3e-3,-3e-3,-1e-3,2e-3,-2e-3] \n",
    "tvec1 = torch.tensor(pvec1, requires_grad=True, dtype=torch.float64)\n",
    "tvec1"
   ]
  },
  {
   "cell_type": "markdown",
   "id": "3d79d801-e97e-474d-9a3c-9ae5bd718cf3",
   "metadata": {},
   "source": [
    "`track_a_drift` test:"
   ]
  },
  {
   "cell_type": "code",
   "execution_count": 8,
   "id": "81b7540a-0c21-42e8-a724-159c3c16e47e",
   "metadata": {
    "tags": []
   },
   "outputs": [],
   "source": [
    "p_out=track_a_drift_torch(Particle(*tvec1,ts, tt, tp0c, tmc2), d1)"
   ]
  },
  {
   "cell_type": "code",
   "execution_count": 9,
   "id": "2f852ced-da43-4f95-8578-779f46d15eb1",
   "metadata": {},
   "outputs": [
    {
     "data": {
      "text/plain": [
       "tensor([5.0060271145229325e-03, 3.0000000000000001e-03, -4.0020090381743109e-03,\n",
       "        -1.0000000000000000e-03, 1.9946525738924175e-03, -2.0000000000000000e-03],\n",
       "       dtype=torch.float64)"
      ]
     },
     "execution_count": 9,
     "metadata": {},
     "output_type": "execute_result"
    }
   ],
   "source": [
    "x_me=torch.hstack([p_out.x,p_out.px,p_out.y,p_out.py,p_out.z,p_out.pz]).detach()\n",
    "x_me"
   ]
  },
  {
   "cell_type": "code",
   "execution_count": 10,
   "id": "7a6c2d68-8d1e-4eaa-9fd0-aa67111276da",
   "metadata": {
    "tags": []
   },
   "outputs": [
    {
     "data": {
      "text/plain": [
       "{'x': 0.00500602711452293,\n",
       " 'px': 0.003,\n",
       " 'y': -0.00400200903817431,\n",
       " 'py': -0.001,\n",
       " 'z': 0.00199465257389236,\n",
       " 'pz': -0.002,\n",
       " 'spin': array([0., 0., 0.]),\n",
       " 'field': array([0., 0.]),\n",
       " 'phase': array([0., 0.]),\n",
       " 's': 1.0,\n",
       " 't': 3.32925913921535e-09,\n",
       " 'charge': 0.0,\n",
       " 'path_len': -1.64365049348802e-16,\n",
       " 'p0c': 40000000.0,\n",
       " 'beta': 0.999918082707881,\n",
       " 'ix_ele': 1,\n",
       " 'state': 'Alive',\n",
       " 'direction': 1,\n",
       " 'species': 'Electron',\n",
       " 'location': 'Downstream_End'}"
      ]
     },
     "execution_count": 10,
     "metadata": {},
     "output_type": "execute_result"
    }
   ],
   "source": [
    "tao = Tao('-lat test_drift.bmad -noplot')\n",
    "tao.cmd('set particle_start x='+str(pvec1[0]))\n",
    "tao.cmd('set particle_start px='+str(pvec1[1]))\n",
    "tao.cmd('set particle_start y='+str(pvec1[2]))\n",
    "tao.cmd('set particle_start py='+str(pvec1[3]))\n",
    "tao.cmd('set particle_start z='+str(pvec1[4]))\n",
    "tao.cmd('set particle_start pz='+str(pvec1[5]))\n",
    "orbit_out=tao.orbit_at_s(ele=1)\n",
    "orbit_out"
   ]
  },
  {
   "cell_type": "code",
   "execution_count": 11,
   "id": "f986a53a-edc8-48cc-93b7-28911872bc94",
   "metadata": {},
   "outputs": [
    {
     "data": {
      "text/plain": [
       "tensor([5.0060271145229299e-03, 3.0000000000000001e-03, -4.0020090381743100e-03,\n",
       "        -1.0000000000000000e-03, 1.9946525738923598e-03, -2.0000000000000000e-03],\n",
       "       dtype=torch.float64)"
      ]
     },
     "execution_count": 11,
     "metadata": {},
     "output_type": "execute_result"
    }
   ],
   "source": [
    "x_tao=torch.tensor([orbit_out['x'],orbit_out['px'],orbit_out['y'],orbit_out['py'],orbit_out['z'],orbit_out['pz']],dtype=torch.float64)\n",
    "x_tao"
   ]
  },
  {
   "cell_type": "code",
   "execution_count": 12,
   "id": "729e2c24-ee37-4d5b-8b76-81d1f5107dbf",
   "metadata": {},
   "outputs": [
    {
     "data": {
      "text/plain": [
       "True"
      ]
     },
     "execution_count": 12,
     "metadata": {},
     "output_type": "execute_result"
    }
   ],
   "source": [
    "torch.allclose(x_me, x_tao)"
   ]
  },
  {
   "cell_type": "code",
   "execution_count": 13,
   "id": "3b298291-d0c6-4856-9049-dfedcec70c77",
   "metadata": {},
   "outputs": [
    {
     "data": {
      "text/plain": [
       "tensor([False,  True, False,  True, False,  True])"
      ]
     },
     "execution_count": 13,
     "metadata": {},
     "output_type": "execute_result"
    }
   ],
   "source": [
    "torch.eq(x_me, x_tao)"
   ]
  },
  {
   "cell_type": "markdown",
   "id": "d8fae022-eda1-4b37-89a3-48d9c9fc3ddb",
   "metadata": {},
   "source": [
    "Jacobian:"
   ]
  },
  {
   "cell_type": "code",
   "execution_count": 14,
   "id": "062c3a71-b3b9-48b5-85a3-d332f716496d",
   "metadata": {},
   "outputs": [],
   "source": [
    "f2 = lambda x: track_a_drift_torch(Particle(*x,ts, tt, tp0c, tmc2), d1)[:6]\n",
    "J = jacobian(f2, tvec1)"
   ]
  },
  {
   "cell_type": "code",
   "execution_count": 15,
   "id": "2f3a581f-157b-44bd-b596-185155a9c972",
   "metadata": {
    "tags": []
   },
   "outputs": [
    {
     "data": {
      "text/plain": [
       "tensor([[ 1.0000000000000000e+00,  1.0020180925273929e+00,\n",
       "          0.0000000000000000e+00, -3.0181176940051169e-06,\n",
       "          0.0000000000000000e+00, -3.0120814586171068e-03],\n",
       "        [ 0.0000000000000000e+00,  1.0000000000000000e+00,\n",
       "          0.0000000000000000e+00,  0.0000000000000000e+00,\n",
       "          0.0000000000000000e+00,  0.0000000000000000e+00],\n",
       "        [ 0.0000000000000000e+00, -3.0181176940051169e-06,\n",
       "          1.0000000000000000e+00,  1.0020100442135422e+00,\n",
       "          0.0000000000000000e+00,  1.0040271528723688e-03],\n",
       "        [ 0.0000000000000000e+00,  0.0000000000000000e+00,\n",
       "          0.0000000000000000e+00,  1.0000000000000000e+00,\n",
       "          0.0000000000000000e+00,  0.0000000000000000e+00],\n",
       "        [ 0.0000000000000000e+00, -3.0120814586171063e-03,\n",
       "          0.0000000000000000e+00,  1.0040271528723688e-03,\n",
       "          1.0000000000000000e+00,  1.7421652474771806e-04],\n",
       "        [ 0.0000000000000000e+00,  0.0000000000000000e+00,\n",
       "          0.0000000000000000e+00,  0.0000000000000000e+00,\n",
       "          0.0000000000000000e+00,  1.0000000000000000e+00]],\n",
       "       dtype=torch.float64)"
      ]
     },
     "execution_count": 15,
     "metadata": {},
     "output_type": "execute_result"
    }
   ],
   "source": [
    "mat_me = torch.vstack(J)\n",
    "mat_me"
   ]
  },
  {
   "cell_type": "code",
   "execution_count": 16,
   "id": "9f168d28-5c4a-4db0-a649-c8bde823496c",
   "metadata": {},
   "outputs": [
    {
     "data": {
      "text/plain": [
       "tensor([[ 1.0000000000000000e+00,  1.0020180925273900e+00,\n",
       "          0.0000000000000000e+00, -3.0181176940051199e-06,\n",
       "          0.0000000000000000e+00, -3.0120814586171098e-03],\n",
       "        [ 0.0000000000000000e+00,  1.0000000000000000e+00,\n",
       "          0.0000000000000000e+00,  0.0000000000000000e+00,\n",
       "          0.0000000000000000e+00,  0.0000000000000000e+00],\n",
       "        [ 0.0000000000000000e+00, -3.0181176940051199e-06,\n",
       "          1.0000000000000000e+00,  1.0020100442135400e+00,\n",
       "          0.0000000000000000e+00,  1.0040271528723699e-03],\n",
       "        [ 0.0000000000000000e+00,  0.0000000000000000e+00,\n",
       "          0.0000000000000000e+00,  1.0000000000000000e+00,\n",
       "          0.0000000000000000e+00,  0.0000000000000000e+00],\n",
       "        [ 0.0000000000000000e+00, -3.0120814586171098e-03,\n",
       "          0.0000000000000000e+00,  1.0040271528723699e-03,\n",
       "          1.0000000000000000e+00,  1.7421652474810300e-04],\n",
       "        [ 0.0000000000000000e+00,  0.0000000000000000e+00,\n",
       "          0.0000000000000000e+00,  0.0000000000000000e+00,\n",
       "          0.0000000000000000e+00,  1.0000000000000000e+00]],\n",
       "       dtype=torch.float64)"
      ]
     },
     "execution_count": 16,
     "metadata": {},
     "output_type": "execute_result"
    }
   ],
   "source": [
    "drift_tao = tao.matrix(0,1)\n",
    "mat_tao = torch.tensor(drift_tao['mat6'], dtype=torch.float64)\n",
    "mat_tao"
   ]
  },
  {
   "cell_type": "code",
   "execution_count": 17,
   "id": "be7d9ddb-e381-449d-acbb-02e88a395fa4",
   "metadata": {},
   "outputs": [
    {
     "data": {
      "text/plain": [
       "tensor([[ True, False,  True, False,  True, False],\n",
       "        [ True,  True,  True,  True,  True,  True],\n",
       "        [ True, False,  True, False,  True, False],\n",
       "        [ True,  True,  True,  True,  True,  True],\n",
       "        [ True, False,  True, False,  True, False],\n",
       "        [ True,  True,  True,  True,  True,  True]])"
      ]
     },
     "execution_count": 17,
     "metadata": {},
     "output_type": "execute_result"
    }
   ],
   "source": [
    "torch.eq(mat_me, mat_tao)"
   ]
  },
  {
   "cell_type": "code",
   "execution_count": 18,
   "id": "4707f2f9-3e23-4497-9dda-78205b54965f",
   "metadata": {},
   "outputs": [
    {
     "data": {
      "text/plain": [
       "True"
      ]
     },
     "execution_count": 18,
     "metadata": {},
     "output_type": "execute_result"
    }
   ],
   "source": [
    "torch.allclose(mat_me, mat_tao)"
   ]
  },
  {
   "cell_type": "markdown",
   "id": "c3f3188a-39d8-4d68-bb0e-131a8dbb22a6",
   "metadata": {
    "tags": []
   },
   "source": [
    "# Quadrupole"
   ]
  },
  {
   "cell_type": "markdown",
   "id": "131a4d7a-51fc-4020-8a04-bb0fa8c435ae",
   "metadata": {
    "jp-MarkdownHeadingCollapsed": true,
    "tags": [],
    "toc-hr-collapsed": true
   },
   "source": [
    "## `track_a_quadrupole`"
   ]
  },
  {
   "cell_type": "code",
   "execution_count": 19,
   "id": "23c5b99c-f531-4b2f-83bc-65df4409a93d",
   "metadata": {},
   "outputs": [],
   "source": [
    "def make_track_a_quadrupole(lib):\n",
    "    \"\"\"\n",
    "    Makes track_a_quadrupole given the library lib\n",
    "    \"\"\"\n",
    "    sqrt = lib.sqrt\n",
    "    absolute = lib.abs\n",
    "    sin = lib.sin\n",
    "    cos = lib.cos\n",
    "    sinh = lib.sinh\n",
    "    cosh = lib.cosh\n",
    "    \n",
    "    def quad_mat2_calc(k1, length, rel_p):\n",
    "        \"\"\"\n",
    "        Returns 2x2 transfer matrix elements aij and the coefficients to calculate \n",
    "        the change in z position.\n",
    "        Input: \n",
    "            k1 -- Quad strength: k1 > 0 ==> defocus\n",
    "            length -- Quad length\n",
    "            rel_p -- Relative momentum P/P0\n",
    "        Output:\n",
    "            a11, a12, a21, a22 -- transfer matrix elements\n",
    "            c1, c2, c3 -- second order derivatives of z such that \n",
    "                        z = c1 * x_0^2 + c2 * x_0 * px_0 + c3* px_0^2\n",
    "        \"\"\"  \n",
    "        sqrt_k = sqrt(absolute(k1))\n",
    "        sk_l = sqrt_k * length\n",
    "        if (absolute(sk_l) < 1e-10):\n",
    "            k_l2 = k1 * length**2\n",
    "            cx = 1 + k_l2 / 2\n",
    "            sx = (1 + k_l2 / 6) * length\n",
    "        elif (k1 < 0):\n",
    "            cx = cos(sk_l)\n",
    "            sx = sin(sk_l) / sqrt_k\n",
    "        else:\n",
    "            cx = cosh(sk_l)\n",
    "            sx = sinh(sk_l) / sqrt_k\n",
    "        \n",
    "        a11 = cx\n",
    "        a12 = sx / rel_p\n",
    "        a21 = k1 * sx * rel_p\n",
    "        a22 = cx\n",
    "            \n",
    "        c1 = k1 * (-cx * sx + length) / 4\n",
    "        c2 = -k1 * sx**2 / (2 * rel_p)\n",
    "        c3 = -(cx * sx + length) / (4 * rel_p**2)\n",
    "\n",
    "        return a11, a12, a21, a22, c1, c2, c3\n",
    "    \n",
    "    \n",
    "    def low_energy_z_correction(pz, p0c, mass, ds):\n",
    "        \"\"\"\n",
    "        Corrects the change in z-coordinate due to speed < c_light. \n",
    "        Input:\n",
    "            p0c -- reference particle momentum in eV\n",
    "            mass -- particle mass in eV\n",
    "        Output: \n",
    "            dz -- dz = (ds - d_particle) + ds * (beta - beta_ref) / beta_ref\n",
    "        \"\"\"\n",
    "        beta = (1+pz) * p0c / sqrt( ((1+pz)*p0c)**2 + mc2**2)\n",
    "        beta0 = p0c / sqrt( p0c**2 + mc2**2)\n",
    "        e_tot = sqrt(p0c**2+mass**2)\n",
    "\n",
    "        if (mass * (beta0*pz)**2 < 3e-7 * e_tot):\n",
    "            f = beta0**2 * (2 * beta0**2 - (mass / e_tot)**2 / 2)\n",
    "            dz = ds * pz * (1 - 3 * (pz * beta0**2) / 2 + pz**2 * f) * (mass / e_tot)**2\n",
    "        else:\n",
    "            dz = ds * (beta - beta0) / beta0\n",
    "        \n",
    "        return dz\n",
    "    \n",
    "    \n",
    "    def track_a_quadrupole(p_in, quad):\n",
    "        \"\"\"\n",
    "        Tracks the incoming Particle p_in though quad element\n",
    "        and returns the outgoing particle.\n",
    "        \"\"\"\n",
    "        l = quad.L\n",
    "        k1 = quad.K1 #pobably the mistake is here. see lines 79 and 46 in track_a_quadrupole.f90\n",
    "        n_step = quad.NUM_STEPS #number of divisions\n",
    "        step_len = l/n_step #length of division\n",
    "        \n",
    "        b1=k1*l\n",
    "        \n",
    "        s = p_in.s\n",
    "        t = p_in.t\n",
    "        p0c = p_in.p0c\n",
    "        mc2 = p_in.mc2\n",
    "        \n",
    "        x = p_in.x\n",
    "        px = p_in.px\n",
    "        y = p_in.y\n",
    "        py = p_in.py\n",
    "        z = p_in.z\n",
    "        pz = p_in.pz\n",
    "        \n",
    "        for i in range(n_step):\n",
    "            rel_p = 1 + pz #Particle's relative momentum (P/P0)\n",
    "            k1=b1/(l*rel_p)\n",
    "            \n",
    "            tx11, tx12, tx21, tx22, dz_x1, dz_x2, dz_x3 = quad_mat2_calc(-k1, step_len, rel_p)\n",
    "            ty11, ty12, ty21, ty22, dz_y1, dz_y2, dz_y3 = quad_mat2_calc( k1, step_len, rel_p)\n",
    "            \n",
    "            z = ( z +\n",
    "                dz_x1 * x**2 + dz_x2 * x * px + dz_x3 * px**2 +\n",
    "                dz_y1 * y**2 + dz_y2 * y * py + dz_y3 * py**2 )\n",
    "            x_next = tx11 * x + tx12 * px\n",
    "            px_next = tx21 * p_in.x + tx22 * px\n",
    "            y_next = ty11 * y + ty12 * py\n",
    "            py_next = ty21 * y + ty22 * py\n",
    "            x=x_next\n",
    "            px=px_next\n",
    "            y=y_next\n",
    "            py=py_next\n",
    "            \n",
    "            z = z + low_energy_z_correction(pz, p0c, mc2, step_len)\n",
    "\n",
    "        \n",
    "        return Particle(x, px, y, py, z, pz, s, t, p0c, mc2)\n",
    "    \n",
    "    return track_a_quadrupole\n",
    "\n",
    "# Specialized functions\n",
    "track_a_quadrupole_torch = make_track_a_quadrupole(lib=torch)"
   ]
  },
  {
   "cell_type": "markdown",
   "id": "b36b7b45-0c9e-483a-a4af-7320c173a308",
   "metadata": {
    "tags": [],
    "toc-hr-collapsed": true
   },
   "source": [
    "## quadrupole test"
   ]
  },
  {
   "cell_type": "code",
   "execution_count": 20,
   "id": "5dcd7b1a-ba3f-4b45-a5e6-455650fd6598",
   "metadata": {},
   "outputs": [
    {
     "data": {
      "text/plain": [
       "Quadrupole(L=tensor(1.0000000000000001e-01, dtype=torch.float64), K1=tensor(1.0000000000000000e+01, dtype=torch.float64), NUM_STEPS=1)"
      ]
     },
     "execution_count": 20,
     "metadata": {},
     "output_type": "execute_result"
    }
   ],
   "source": [
    "#Create quad 1\n",
    "L = 0.1 #Length in m\n",
    "K1 = 10 #Quad focusing strength. Positive is focusing in x\n",
    "NUM_STEPS = 1 #number of divisions for tracking. 1 is bmad default when there are no other multipoles\n",
    "q1 = Quadrupole(torch.tensor(L, dtype=torch.float64), torch.tensor(K1, dtype=torch.float64), NUM_STEPS)\n",
    "q1"
   ]
  },
  {
   "cell_type": "markdown",
   "id": "5eb1db69-cf0b-4272-9480-46b1dfd4d945",
   "metadata": {},
   "source": [
    "Test particle:"
   ]
  },
  {
   "cell_type": "code",
   "execution_count": 21,
   "id": "7ef8b038-c06f-4474-b98b-79592da924f0",
   "metadata": {},
   "outputs": [
    {
     "data": {
      "text/plain": [
       "tensor([2.0000000000000000e-03, 3.0000000000000001e-03, -3.0000000000000001e-03,\n",
       "        -1.0000000000000000e-03, 2.0000000000000000e-03, -2.0000000000000000e-03],\n",
       "       dtype=torch.float64, requires_grad=True)"
      ]
     },
     "execution_count": 21,
     "metadata": {},
     "output_type": "execute_result"
    }
   ],
   "source": [
    "s = 0.0 #initial s\n",
    "t = 0.0 #initial t\n",
    "p0c = 4.0E+07 #Reference particle momentum in eV\n",
    "mc2 = 1*m_e # electron mass in eV\n",
    "ts = torch.tensor(s, dtype=torch.float64)\n",
    "tt = torch.tensor(t, dtype=torch.float64)\n",
    "tp0c = torch.tensor(p0c, dtype=torch.float64)\n",
    "tmc2 = torch.tensor(mc2, dtype=torch.float64) \n",
    "pvec1 = [2e-3,3e-3,-3e-3,-1e-3,2e-3,-2e-3] \n",
    "tvec1 = torch.tensor(pvec1, requires_grad=True, dtype=torch.float64)\n",
    "tvec1"
   ]
  },
  {
   "cell_type": "markdown",
   "id": "b73fdb87-f4bd-4b42-8ad9-6eb54030ad99",
   "metadata": {},
   "source": [
    "`track_a_quadrupole` test"
   ]
  },
  {
   "cell_type": "code",
   "execution_count": 22,
   "id": "598bab1a-a74a-4111-ab51-4b386fbc0794",
   "metadata": {},
   "outputs": [],
   "source": [
    "p_out=track_a_quadrupole_torch(Particle(*tvec1,ts, tt, tp0c, tmc2), q1)"
   ]
  },
  {
   "cell_type": "code",
   "execution_count": 23,
   "id": "0d16dea9-7c66-4c92-bd7e-b0bca1097b8f",
   "metadata": {},
   "outputs": [
    {
     "data": {
      "text/plain": [
       "tensor([2.1962397193025516e-03, 8.8418342648533682e-04, -3.2534419732692245e-03,\n",
       "        -4.1008717415728594e-03, 1.9993946642253308e-03, -2.0000000000000000e-03],\n",
       "       dtype=torch.float64)"
      ]
     },
     "execution_count": 23,
     "metadata": {},
     "output_type": "execute_result"
    }
   ],
   "source": [
    "x_me=torch.hstack([p_out.x,p_out.px,p_out.y,p_out.py,p_out.z,p_out.pz]).detach()\n",
    "x_me"
   ]
  },
  {
   "cell_type": "code",
   "execution_count": 24,
   "id": "67e1b21f-0e6d-426c-8c10-e136bd2eb896",
   "metadata": {
    "tags": []
   },
   "outputs": [],
   "source": [
    "tao = Tao('-lat test_quad.bmad -noplot')\n",
    "tao.cmd('set particle_start x='+str(pvec1[0]))\n",
    "tao.cmd('set particle_start px='+str(pvec1[1]))\n",
    "tao.cmd('set particle_start y='+str(pvec1[2]))\n",
    "tao.cmd('set particle_start py='+str(pvec1[3]))\n",
    "tao.cmd('set particle_start z='+str(pvec1[4]))\n",
    "tao.cmd('set particle_start pz='+str(pvec1[5]))\n",
    "orbit_out = tao.orbit_at_s(ele=1)"
   ]
  },
  {
   "cell_type": "code",
   "execution_count": 25,
   "id": "cfc1852e-89e0-4033-b1ba-06eaef09b20c",
   "metadata": {},
   "outputs": [
    {
     "name": "stdout",
     "output_type": "stream",
     "text": [
      "-------------------------\n",
      "Tao> show ele 1\n",
      "Element # 1\n",
      "Element Name: Q1\n",
      "Key: Quadrupole\n",
      "S_start, S:      0.000000,      0.100000\n",
      "Ref_time:  3.335913E-10\n",
      "\n",
      "Attribute values [Only non-zero values shown]:\n",
      "    1  L                           =  1.0000000E-01 m\n",
      "    4  K1                          =  1.0000000E+01 1/m^2    45  B1_GRADIENT                 = -1.3342564E+00 T/m\n",
      "   10  FRINGE_TYPE                 =  None (1)               11  FRINGE_AT                   =  No_End (4)\n",
      "   13  SPIN_FRINGE_ON              =  F (0)\n",
      "   47  PTC_CANONICAL_COORDS        =  T (1)\n",
      "   50  DELTA_REF_TIME              =  3.3359131E-10 sec\n",
      "   53  P0C                         =  4.0000000E+07 eV           BETA                        =  9.9991841E-01\n",
      "   54  E_TOT                       =  4.0003264E+07 eV           GAMMA                       =  7.8284435E+01\n",
      "   65  INTEGRATOR_ORDER            = 0\n",
      "   67  DS_STEP                     =  1.0000000E-01 m        66  NUM_STEPS                   = 1\n",
      "   68  CSR_DS_STEP                 =  0.0000000E+00 m\n",
      "\n",
      "       TRACKING_METHOD              =  Bmad_Standard             APERTURE_AT                =  Exit_End\n",
      "       MAT6_CALC_METHOD             =  Bmad_Standard             APERTURE_TYPE              =  Rectangular\n",
      "       SPIN_TRACKING_METHOD         =  Tracking                  OFFSET_MOVES_APERTURE      =  F\n",
      "       PTC_INTEGRATION_TYPE         =  Matrix_Kick               SYMPLECTIFY                =  F\n",
      "       CSR_METHOD                   =  Off                       FIELD_MASTER               =  F\n",
      "       SPACE_CHARGE_METHOD          =  Off                       LONGITUDINAL ORIENTATION   =       1\n",
      "       FIELD_CALC                   =  Bmad_Standard\n",
      "\n",
      "Slave_status: Free\n",
      "\n",
      "Lord_status:  Not_a_Lord\n",
      "\n",
      "Twiss at end of element:\n",
      "                          A              B            Cbar                        C_mat\n",
      "  Beta (m)         9.03198617    11.03695526  |   0.00000000   0.00000000      0.00000000   0.00000000\n",
      "  Alpha            9.35463983   -10.71360533  |   0.00000000   0.00000000      0.00000000   0.00000000\n",
      "  Gamma (1/m)      9.79953741    10.49033328  |   Gamma_c =   1.00000000       Mode_Flip = F\n",
      "  Phi (rad)        0.01034758     0.00967856            X              Y              Z\n",
      "  Eta (m)          0.00010291     0.00015472     0.00010291     0.00015472     0.00001669\n",
      "  Etap             0.00208173     0.00315210     0.00208173     0.00315210     0.00000000\n",
      "\n",
      "Orbit:  Electron   State: Alive\n",
      "         Position[mm] Momentum[mrad]        Spin   |\n",
      "  X:       2.19623972     0.88418343               | t_particle [sec]:        3.26921504E-10  E_tot: 3.99233E+07\n",
      "  Y:      -3.25344197    -4.10087174               | t_part-t_ref [sec]:     -6.66980909E-12  PC:    3.99200E+07\n",
      "  Z:       1.99939466    -2.00000000               | (t_ref-t_part)*Vel [m]:  1.99939466E-03  Beta:  0.999918083\n",
      "-------------------------\n",
      "Tao> \n"
     ]
    }
   ],
   "source": [
    "%%tao\n",
    "show ele 1"
   ]
  },
  {
   "cell_type": "code",
   "execution_count": 26,
   "id": "82aa9e17-97ec-4556-93d1-2f54163d7f35",
   "metadata": {},
   "outputs": [
    {
     "data": {
      "text/plain": [
       "tensor([2.1962397193025498e-03, 8.8418342648533704e-04, -3.2534419732692201e-03,\n",
       "        -4.1008717415728603e-03, 1.9993946642253299e-03, -2.0000000000000000e-03],\n",
       "       dtype=torch.float64)"
      ]
     },
     "execution_count": 26,
     "metadata": {},
     "output_type": "execute_result"
    }
   ],
   "source": [
    "x_tao=torch.tensor([orbit_out['x'],orbit_out['px'],orbit_out['y'],orbit_out['py'],orbit_out['z'],orbit_out['pz']],dtype=torch.float64)\n",
    "x_tao"
   ]
  },
  {
   "cell_type": "code",
   "execution_count": 27,
   "id": "342111b4-749f-4c54-9809-7b0ce9ea8681",
   "metadata": {},
   "outputs": [
    {
     "data": {
      "text/plain": [
       "tensor([2.1962397193025498e-03, 8.8418342648533704e-04, -3.2534419732692201e-03,\n",
       "        -4.1008717415728603e-03, 1.9993946642253299e-03, -2.0000000000000000e-03],\n",
       "       dtype=torch.float64)"
      ]
     },
     "execution_count": 27,
     "metadata": {},
     "output_type": "execute_result"
    }
   ],
   "source": [
    "x_tao=torch.tensor([orbit_out['x'],orbit_out['px'],orbit_out['y'],orbit_out['py'],orbit_out['z'],orbit_out['pz']],dtype=torch.float64)\n",
    "x_tao"
   ]
  },
  {
   "cell_type": "code",
   "execution_count": 28,
   "id": "0174f8be-14cc-4aab-8b10-cecb0f044eb3",
   "metadata": {},
   "outputs": [
    {
     "data": {
      "text/plain": [
       "True"
      ]
     },
     "execution_count": 28,
     "metadata": {},
     "output_type": "execute_result"
    }
   ],
   "source": [
    "torch.allclose(x_me, x_tao)"
   ]
  },
  {
   "cell_type": "code",
   "execution_count": 29,
   "id": "fd24a18e-d2f8-4492-90c4-ae9c1dd33cf2",
   "metadata": {},
   "outputs": [
    {
     "data": {
      "text/plain": [
       "tensor([True, True, True, True, True, True])"
      ]
     },
     "execution_count": 29,
     "metadata": {},
     "output_type": "execute_result"
    }
   ],
   "source": [
    "torch.isclose(x_me, x_tao)"
   ]
  },
  {
   "cell_type": "code",
   "execution_count": 30,
   "id": "ea343dea-8c1f-4ce8-8d5c-3aa0f89d9812",
   "metadata": {},
   "outputs": [],
   "source": [
    "f3 = lambda x: track_a_quadrupole_torch(Particle(*x,ts, tt, tp0c, tmc2), q1)[:6]\n",
    "J = jacobian(f3, tvec1)"
   ]
  },
  {
   "cell_type": "code",
   "execution_count": 31,
   "id": "f0f45bf6-e8a9-469d-9883-76e85edb777b",
   "metadata": {},
   "outputs": [
    {
     "data": {
      "text/plain": [
       "tensor([[ 9.5031674318754977e-01,  9.8535410975817278e-02,\n",
       "          0.0000000000000000e+00,  0.0000000000000000e+00,\n",
       "          0.0000000000000000e+00, -1.9248585503177227e-04],\n",
       "        [-9.8338340153865633e-01,  9.5031674318754977e-01,\n",
       "          0.0000000000000000e+00,  0.0000000000000000e+00,\n",
       "          0.0000000000000000e+00,  1.1496639089440819e-04],\n",
       "        [ 0.0000000000000000e+00,  0.0000000000000000e+00,\n",
       "          1.0505199385060540e+00,  1.0188215775106230e-01,\n",
       "          0.0000000000000000e+00,  2.5690939373378331e-04],\n",
       "        [ 0.0000000000000000e+00,  0.0000000000000000e+00,\n",
       "          1.0167839343556018e+00,  1.0505199385060540e+00,\n",
       "          0.0000000000000000e+00,  1.0174858226574043e-04],\n",
       "        [ 8.0032908698420230e-05, -1.9425079143865157e-04,\n",
       "          1.5433242974866441e-04,  2.5952207539749645e-04,\n",
       "          1.0000000000000000e+00,  1.7567092021426940e-05],\n",
       "        [ 0.0000000000000000e+00,  0.0000000000000000e+00,\n",
       "          0.0000000000000000e+00,  0.0000000000000000e+00,\n",
       "          0.0000000000000000e+00,  1.0000000000000000e+00]],\n",
       "       dtype=torch.float64)"
      ]
     },
     "execution_count": 31,
     "metadata": {},
     "output_type": "execute_result"
    }
   ],
   "source": [
    "mat_me = torch.vstack(J)\n",
    "mat_me"
   ]
  },
  {
   "cell_type": "code",
   "execution_count": 32,
   "id": "9e6cd8cc-4f9d-4072-a48b-b27961ad5762",
   "metadata": {},
   "outputs": [
    {
     "data": {
      "text/plain": [
       "tensor([[ 9.5031674318754999e-01,  9.8535410975817306e-02,\n",
       "          0.0000000000000000e+00,  0.0000000000000000e+00,\n",
       "          0.0000000000000000e+00, -1.9248585503177200e-04],\n",
       "        [-9.8338340153865600e-01,  9.5031674318754999e-01,\n",
       "          0.0000000000000000e+00,  0.0000000000000000e+00,\n",
       "          0.0000000000000000e+00,  1.1496639089440800e-04],\n",
       "        [ 0.0000000000000000e+00,  0.0000000000000000e+00,\n",
       "          1.0505199385060500e+00,  1.0188215775106201e-01,\n",
       "          0.0000000000000000e+00,  2.5690939373378298e-04],\n",
       "        [ 0.0000000000000000e+00,  0.0000000000000000e+00,\n",
       "          1.0167839343556000e+00,  1.0505199385060500e+00,\n",
       "          0.0000000000000000e+00,  1.0174858226574100e-04],\n",
       "        [ 8.0032908698420203e-05, -1.9425079143865201e-04,\n",
       "          1.5433242974866401e-04,  2.5952207539749601e-04,\n",
       "          1.0000000000000000e+00,  1.7567092021426899e-05],\n",
       "        [ 0.0000000000000000e+00,  0.0000000000000000e+00,\n",
       "          0.0000000000000000e+00,  0.0000000000000000e+00,\n",
       "          0.0000000000000000e+00,  1.0000000000000000e+00]],\n",
       "       dtype=torch.float64)"
      ]
     },
     "execution_count": 32,
     "metadata": {},
     "output_type": "execute_result"
    }
   ],
   "source": [
    "drift_tao = tao.matrix(0,1)\n",
    "mat_tao = torch.tensor(drift_tao['mat6'], dtype=torch.float64)\n",
    "mat_tao"
   ]
  },
  {
   "cell_type": "code",
   "execution_count": 33,
   "id": "257770f7-0e26-4166-bb4d-c7f5c2bf903e",
   "metadata": {},
   "outputs": [
    {
     "data": {
      "text/plain": [
       "tensor([[False, False,  True,  True,  True, False],\n",
       "        [False, False,  True,  True,  True, False],\n",
       "        [ True,  True, False, False,  True, False],\n",
       "        [ True,  True, False, False,  True, False],\n",
       "        [False, False, False, False,  True, False],\n",
       "        [ True,  True,  True,  True,  True,  True]])"
      ]
     },
     "execution_count": 33,
     "metadata": {},
     "output_type": "execute_result"
    }
   ],
   "source": [
    "torch.eq(mat_me, mat_tao)"
   ]
  },
  {
   "cell_type": "code",
   "execution_count": 34,
   "id": "daea008b-7368-4f75-9fe0-fb3de156d68f",
   "metadata": {},
   "outputs": [
    {
     "data": {
      "text/plain": [
       "True"
      ]
     },
     "execution_count": 34,
     "metadata": {},
     "output_type": "execute_result"
    }
   ],
   "source": [
    "torch.allclose(mat_me, mat_tao)"
   ]
  },
  {
   "cell_type": "markdown",
   "id": "491331ff-7285-470a-85fe-b795668e5d13",
   "metadata": {
    "tags": [],
    "toc-hr-collapsed": true
   },
   "source": [
    "# misc"
   ]
  },
  {
   "cell_type": "code",
   "execution_count": null,
   "id": "b4ef0fd9-8f7a-4be2-833f-6e54d498e252",
   "metadata": {},
   "outputs": [],
   "source": []
  }
 ],
 "metadata": {
  "kernelspec": {
   "display_name": "Python 3 (ipykernel)",
   "language": "python",
   "name": "python3"
  },
  "language_info": {
   "codemirror_mode": {
    "name": "ipython",
    "version": 3
   },
   "file_extension": ".py",
   "mimetype": "text/x-python",
   "name": "python",
   "nbconvert_exporter": "python",
   "pygments_lexer": "ipython3",
   "version": "3.9.10"
  },
  "toc-autonumbering": true,
  "toc-showcode": true,
  "toc-showmarkdowntxt": false,
  "toc-showtags": false
 },
 "nbformat": 4,
 "nbformat_minor": 5
}
