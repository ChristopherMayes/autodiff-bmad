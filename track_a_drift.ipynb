{
 "cells": [
  {
   "cell_type": "markdown",
   "id": "cfe2f3e6-ab7f-4493-8ca4-acd56731bc0b",
   "metadata": {},
   "source": [
    "Tracking elements with autodifferentiable capabilities"
   ]
  },
  {
   "cell_type": "code",
   "execution_count": 1,
   "id": "8af3d886-d3bd-4e34-9556-d645ee9f761e",
   "metadata": {},
   "outputs": [],
   "source": [
    "import numpy as np\n",
    "import torch\n",
    "from collections import namedtuple\n",
    "from torch.autograd.functional import jacobian\n",
    "\n",
    "torch.__version__, np.__version__\n",
    "torch.set_printoptions(precision=10)"
   ]
  },
  {
   "cell_type": "markdown",
   "id": "4195b788-22c6-4f75-bb00-a417cf041292",
   "metadata": {
    "tags": []
   },
   "source": [
    "# Constants"
   ]
  },
  {
   "cell_type": "code",
   "execution_count": 2,
   "id": "c3f66538-b1d3-448d-a15b-82cae88067f6",
   "metadata": {
    "tags": []
   },
   "outputs": [],
   "source": [
    "c_light = 2.99792458e8 #speed of light in m/s\n",
    "m_e = 0.510998950e6 #electron mass in eV"
   ]
  },
  {
   "cell_type": "markdown",
   "id": "a68663f4-da28-42bf-8d55-1069efade5ec",
   "metadata": {
    "tags": []
   },
   "source": [
    "# Tuples"
   ]
  },
  {
   "cell_type": "code",
   "execution_count": 3,
   "id": "3165f10b-e4e3-49cb-ac73-b4a069b350c0",
   "metadata": {},
   "outputs": [],
   "source": [
    "Drift = namedtuple('Drift', 'L')\n",
    "Quadrupole = namedtuple('Quadrupole', 'L K1 n_step')\n",
    "Particle = namedtuple('Particle', 'x px y py z pz s t p0c mc2')\n",
    "#Canonical phase space coordinates as defined in Bmad manual section 15.4.2. Added s t p0c and mc2 = 0"
   ]
  },
  {
   "cell_type": "markdown",
   "id": "ab86fb73-eb64-4da6-bd68-94d12a6c772e",
   "metadata": {
    "tags": []
   },
   "source": [
    "PyTorch tensor test Particle:"
   ]
  },
  {
   "cell_type": "code",
   "execution_count": 4,
   "id": "6718d33a-8008-4ad6-8c43-1652c48abbd1",
   "metadata": {},
   "outputs": [
    {
     "data": {
      "text/plain": [
       "Particle(x=tensor([0.5488135039, 0.4375872113, 0.5680445611,  ..., 0.1673917659,\n",
       "        0.8283865988, 0.4274187576], dtype=torch.float64,\n",
       "       grad_fn=<UnbindBackward0>), px=tensor([0.7151893664, 0.8917730008, 0.9255966383,  ..., 0.3514514993,\n",
       "        0.3534266484, 0.8832471531], dtype=torch.float64,\n",
       "       grad_fn=<UnbindBackward0>), y=tensor([0.6027633761, 0.9636627605, 0.0710360582,  ..., 0.2700843196,\n",
       "        0.9201338773, 0.3800812269], dtype=torch.float64,\n",
       "       grad_fn=<UnbindBackward0>), py=tensor([0.5448831830, 0.3834415188, 0.0871292997,  ..., 0.0870263901,\n",
       "        0.8137479865, 0.1690041298], dtype=torch.float64,\n",
       "       grad_fn=<UnbindBackward0>), z=tensor([0.4236547993, 0.7917250381, 0.0202183974,  ..., 0.3048581211,\n",
       "        0.6832710885, 0.2639306656], dtype=torch.float64,\n",
       "       grad_fn=<UnbindBackward0>), pz=tensor([0.6458941131, 0.5288949198, 0.8326198455,  ..., 0.1314423113,\n",
       "        0.8690973434, 0.3011667628], dtype=torch.float64,\n",
       "       grad_fn=<UnbindBackward0>), s=tensor(0., dtype=torch.float64), t=tensor(0., dtype=torch.float64), p0c=tensor(41996891., dtype=torch.float64), mc2=tensor(510998.9500000000, dtype=torch.float64))"
      ]
     },
     "execution_count": 4,
     "metadata": {},
     "output_type": "execute_result"
    }
   ],
   "source": [
    "np.random.seed(0)\n",
    "pvec = np.random.rand(10_000, 6) #test particles\n",
    "s = 0.0\n",
    "t = 0.0\n",
    "p0c = 4.1996891E+07 #Reference particle momentum in eV\n",
    "mc2 = 1*m_e # electron mass in eV\n",
    "ts = torch.tensor(s, dtype=torch.float64)\n",
    "tt = torch.tensor(t, dtype=torch.float64)\n",
    "tp0c = torch.tensor(p0c, dtype=torch.float64)\n",
    "tmc2 = torch.tensor(mc2, dtype=torch.float64) #necessary? \n",
    "tpvec = torch.tensor(pvec, requires_grad=True, dtype=torch.float64)\n",
    "p_torch = Particle(*tpvec.T, ts, tt, tp0c, tmc2)\n",
    "p_torch"
   ]
  },
  {
   "cell_type": "markdown",
   "id": "7638cac6-72c7-4e95-ae44-6ff97b375ae3",
   "metadata": {
    "tags": []
   },
   "source": [
    "# Drift"
   ]
  },
  {
   "cell_type": "markdown",
   "id": "cc600822-3b8b-49da-92cb-7307efbca625",
   "metadata": {
    "tags": []
   },
   "source": [
    "## track_a_drift"
   ]
  },
  {
   "cell_type": "code",
   "execution_count": 5,
   "id": "802fc720-0c08-4f46-b9ed-78deea47decb",
   "metadata": {
    "tags": []
   },
   "outputs": [],
   "source": [
    "def make_track_a_drift(lib):\n",
    "    \"\"\"\n",
    "    Makes track_a_drift given the library lib\n",
    "    \"\"\"\n",
    "    \n",
    "    sqrt = lib.sqrt\n",
    "    \n",
    "    def track_a_drift(p_in, drift):\n",
    "        \"\"\"\n",
    "        Tracks the incoming Particle p_in though drift element\n",
    "        and returns the outgoing particle. See eqs 24.58 in bmad manual\n",
    "        \"\"\"\n",
    "        L = drift.L\n",
    "        \n",
    "        s = p_in.s\n",
    "        t = p_in.t\n",
    "        p0c = p_in.p0c\n",
    "        mc2 = p_in.mc2\n",
    "        \n",
    "        x = p_in.x\n",
    "        px = p_in.px\n",
    "        y = p_in.y\n",
    "        py = p_in.py\n",
    "        z = p_in.z\n",
    "        pz = p_in.pz\n",
    "        \n",
    "        P = 1 + pz #Particle's total momentum over p0\n",
    "        Px = px / P #Particle's 'x' momentum over p0\n",
    "        Py = py / P #Particle's 'y' momentum over p0\n",
    "        Pxy2 = Px**2 + Py**2 #Particle's transverse mometum^2 over p0^2\n",
    "        Pl = sqrt(1-Pxy2)  #Particle's longitudinal momentum over p0\n",
    "        \n",
    "        x = x + L * Px / Pl\n",
    "        y = y + L * Py / Pl\n",
    "        \n",
    "        beta = sqrt( 1 - 1 /( 1 + (P*p0c/mc2)**2 ) )\n",
    "        beta_ref = sqrt( 1 - 1 /( 1 + (p0c/mc2)**2 ) )\n",
    "        z = z + L * ( beta/beta_ref - 1.0/Pl )\n",
    "        s = s + L\n",
    "        t = t + L / ( beta * Pl * c_light )\n",
    "        \n",
    "        return Particle(x, px, y, py, z, pz, s, t, p0c, mc2)\n",
    "    \n",
    "    return track_a_drift\n",
    "\n",
    "# Specialized functions\n",
    "track_a_drift_torch = make_track_a_drift(lib=torch)"
   ]
  },
  {
   "cell_type": "markdown",
   "id": "3e43fa07-c14f-4374-8bb0-25d0d9eb3d8b",
   "metadata": {
    "tags": []
   },
   "source": [
    "## drift test"
   ]
  },
  {
   "cell_type": "markdown",
   "id": "90322ef8-3034-45a7-817c-a8f4a0b90dfb",
   "metadata": {},
   "source": [
    "drift:"
   ]
  },
  {
   "cell_type": "code",
   "execution_count": 6,
   "id": "ee6fdf69-c492-4bc0-83c9-9b6a0400ef1f",
   "metadata": {
    "tags": []
   },
   "outputs": [],
   "source": [
    "L=1.0 # Dipole length in m\n",
    "d1 = Drift(torch.tensor(L, dtype=torch.float64))"
   ]
  },
  {
   "cell_type": "markdown",
   "id": "f47cc1d4-c514-4f23-a70b-b692e4a0c4dc",
   "metadata": {},
   "source": [
    "test particle:"
   ]
  },
  {
   "cell_type": "code",
   "execution_count": 7,
   "id": "22f5b59f-a16b-4e85-bc07-d9a6022c9dc2",
   "metadata": {
    "tags": []
   },
   "outputs": [],
   "source": [
    "s = 0.0 #initial s\n",
    "t = 0.0 #initial t\n",
    "p0c = 4.1996891E+07 #Reference particle momentum in eV\n",
    "mc2 = 1*m_e # electron mass in eV\n",
    "pvec1 = [2e-3,3e-3,-3e-3,-1e-3,2e-3,-2e-3] \n",
    "#pvec1[0] = 1e-3\n",
    "#pvec1[1] = 1e-3\n",
    "#pvec1[5] = 1e-3\n",
    "tvec1 = torch.tensor(pvec1, requires_grad=True, dtype=torch.float64)"
   ]
  },
  {
   "cell_type": "markdown",
   "id": "3d79d801-e97e-474d-9a3c-9ae5bd718cf3",
   "metadata": {},
   "source": [
    "track_a_drift test"
   ]
  },
  {
   "cell_type": "code",
   "execution_count": 8,
   "id": "81b7540a-0c21-42e8-a724-159c3c16e47e",
   "metadata": {
    "tags": []
   },
   "outputs": [
    {
     "data": {
      "text/plain": [
       "Particle(x=tensor(0.0050060271, dtype=torch.float64, grad_fn=<AddBackward0>), px=tensor(0.0030000000, dtype=torch.float64, grad_fn=<UnbindBackward0>), y=tensor(-0.0040020090, dtype=torch.float64, grad_fn=<AddBackward0>), py=tensor(-0.0010000000, dtype=torch.float64, grad_fn=<UnbindBackward0>), z=tensor(0.0019946830, dtype=torch.float64, grad_fn=<AddBackward0>), pz=tensor(-0.0020000000, dtype=torch.float64, grad_fn=<UnbindBackward0>), s=tensor(1., dtype=torch.float64), t=tensor(3.3359055992e-09, dtype=torch.float64, grad_fn=<AddBackward0>), p0c=tensor(41996891., dtype=torch.float64), mc2=tensor(510998.9500000000, dtype=torch.float64))"
      ]
     },
     "execution_count": 8,
     "metadata": {},
     "output_type": "execute_result"
    }
   ],
   "source": [
    "track_a_drift_torch(Particle(*tvec1,ts, tt, tp0c, tmc2), d1)"
   ]
  },
  {
   "cell_type": "code",
   "execution_count": 9,
   "id": "062c3a71-b3b9-48b5-85a3-d332f716496d",
   "metadata": {},
   "outputs": [
    {
     "name": "stderr",
     "output_type": "stream",
     "text": [
      "/var/folders/1w/dc1sdmy5027_mw4zp5bqz_340000gn/T/ipykernel_4561/1576979328.py:2: UserWarning: Anomaly Detection has been enabled. This mode will increase the runtime and should only be enabled for debugging.\n",
      "  with torch.autograd.detect_anomaly():\n"
     ]
    },
    {
     "data": {
      "text/plain": [
       "(tensor([ 1.0000000000e+00,  1.0020180925e+00,  0.0000000000e+00,\n",
       "         -3.0181176940e-06,  0.0000000000e+00, -3.0120814586e-03],\n",
       "        dtype=torch.float64),\n",
       " tensor([0., 1., 0., 0., 0., 0.], dtype=torch.float64),\n",
       " tensor([ 0.0000000000e+00, -3.0181176940e-06,  1.0000000000e+00,\n",
       "          1.0020100442e+00,  0.0000000000e+00,  1.0040271529e-03],\n",
       "        dtype=torch.float64),\n",
       " tensor([0., 0., 0., 1., 0., 0.], dtype=torch.float64),\n",
       " tensor([ 0.0000000000e+00, -3.0120814586e-03,  0.0000000000e+00,\n",
       "          1.0040271529e-03,  1.0000000000e+00,  1.5897915887e-04],\n",
       "        dtype=torch.float64),\n",
       " tensor([0., 0., 0., 0., 0., 1.], dtype=torch.float64))"
      ]
     },
     "execution_count": 9,
     "metadata": {},
     "output_type": "execute_result"
    }
   ],
   "source": [
    "f2 = lambda x: track_a_drift_torch(Particle(*x,ts, tt, tp0c, tmc2), d1)[:6]\n",
    "with torch.autograd.detect_anomaly():\n",
    "    J = jacobian(f2, tvec1)\n",
    "J"
   ]
  },
  {
   "cell_type": "code",
   "execution_count": 10,
   "id": "2f3a581f-157b-44bd-b596-185155a9c972",
   "metadata": {},
   "outputs": [
    {
     "data": {
      "text/plain": [
       "(tensor([ 1.0000000000e+00,  1.0020180925e+00,  0.0000000000e+00,\n",
       "         -3.0181176940e-06,  0.0000000000e+00, -3.0120814586e-03],\n",
       "        dtype=torch.float64),\n",
       " tensor([0., 1., 0., 0., 0., 0.], dtype=torch.float64),\n",
       " tensor([ 0.0000000000e+00, -3.0181176940e-06,  1.0000000000e+00,\n",
       "          1.0020100442e+00,  0.0000000000e+00,  1.0040271529e-03],\n",
       "        dtype=torch.float64),\n",
       " tensor([0., 0., 0., 1., 0., 0.], dtype=torch.float64),\n",
       " tensor([ 0.0000000000e+00, -3.0120814586e-03,  0.0000000000e+00,\n",
       "          1.0040271529e-03,  1.0000000000e+00,  1.5897915887e-04],\n",
       "        dtype=torch.float64),\n",
       " tensor([0., 0., 0., 0., 0., 1.], dtype=torch.float64))"
      ]
     },
     "execution_count": 10,
     "metadata": {},
     "output_type": "execute_result"
    }
   ],
   "source": [
    "J"
   ]
  },
  {
   "cell_type": "markdown",
   "id": "c3f3188a-39d8-4d68-bb0e-131a8dbb22a6",
   "metadata": {
    "tags": []
   },
   "source": [
    "# track_a_quadrupole"
   ]
  },
  {
   "cell_type": "code",
   "execution_count": 11,
   "id": "5dcd7b1a-ba3f-4b45-a5e6-455650fd6598",
   "metadata": {},
   "outputs": [
    {
     "data": {
      "text/plain": [
       "Drift(k1=2.0, l=0.1, n_step=50)"
      ]
     },
     "execution_count": 11,
     "metadata": {},
     "output_type": "execute_result"
    }
   ],
   "source": [
    "Quadrupole = namedtuple('Drift', 'k1 l n_step')\n",
    "k1 = 2.000\n",
    "l = 0.1 \n",
    "n_step = 50\n",
    "d1 = Quadrupole(k1,l, n_step)\n",
    "d1"
   ]
  },
  {
   "cell_type": "code",
   "execution_count": 12,
   "id": "23c5b99c-f531-4b2f-83bc-65df4409a93d",
   "metadata": {},
   "outputs": [],
   "source": [
    "def make_track_a_quadrupole(lib):\n",
    "    \"\"\"\n",
    "    Makes track_a_drift given the library lib\n",
    "    \"\"\"\n",
    "    \n",
    "    sqrt = lib.sqrt\n",
    "    absolute = lib.abs\n",
    "    sin = lib.sin\n",
    "    cos = lib.cos\n",
    "    sinh = lib.sinh\n",
    "    cosh = lib.cosh\n",
    "    hstack = lib.hstack\n",
    "    matmul = lib.matmul\n",
    "    if lib==np:\n",
    "        matrix = np.array\n",
    "    elif lib==torch:\n",
    "        matrix = torch.tensor\n",
    "    \n",
    "    def track_a_quadrupole(p_in, quad):\n",
    "        \"\"\"\n",
    "        Tracks the incoming Particle p_in though drift element\n",
    "        and returns the outgoing particle. See eqs 24.58 in bmad manual\n",
    "        \"\"\"\n",
    "        K1 = quad.K1\n",
    "        L = quad.L\n",
    "        n_step = quad.n_step\n",
    "        l = L/n_step\n",
    "        \n",
    "        s = p_in.s\n",
    "        t = p_in.t\n",
    "        p0c = p_in.p0c\n",
    "        mc2 = p_in.mc2\n",
    "        \n",
    "        x = p_in.x\n",
    "        px = p_in.px\n",
    "        xpx = hstack(x,px)\n",
    "        \n",
    "        y = p_in.y\n",
    "        py = p_in.py\n",
    "        z = p_in.z\n",
    "        pz = p_in.pz\n",
    "        \n",
    "        P = 1 + pz #Particle's total momentum over p0\n",
    "        Px = px / P #Particle's 'x' momentum over p0\n",
    "        Py = py / P #Particle's 'y' momentum over p0\n",
    "        Pxy2 = Px**2 + Py**2 #Particle's transverse mometum^2 over p0^2\n",
    "        Pl = sqrt(1-Pxy2)  #Particle's longitudinal momentum over p0\n",
    "        \n",
    "        sqrt_k = sqrt(absolute(K1))\n",
    "        sk_l = sqrt_k * l\n",
    "        \n",
    "        for i in range(n_step):\n",
    "            if (abs(sk_l) < 1e-10):\n",
    "                k_l2 = k1 * l**2\n",
    "                cx = 1 + k_l2 / 2\n",
    "                sx = (1 + k_l2 / 6) * length\n",
    "            elif (k1 < 0):# focus\n",
    "                cx = cos(sk_l)\n",
    "                sx = sin(sk_l) / sqrt_k\n",
    "            else:# defocus\n",
    "                cx = cosh(sk_l)\n",
    "                sx = sinh(sk_l) / sqrt_k\n",
    "            \n",
    "            kmatx = matrix([[cx, sx/p0c],[K1*sx*p0c,cx]])\n",
    "            \n",
    "            dcx = -k1 * sx * length / (2 * rel_p)\n",
    "            dsx = (sx - length * cx) / (2 * rel_p)\n",
    "            dz_dx1 =   -zc(1)/rel_p - k1 * (cx * dsx + dcx * sx) / 4\n",
    "            dz_dx2 = -2*zc(2)/rel_p - k1 * sx * dsx/rel_p\n",
    "            dz_dx3 = -2*zc(3)/rel_p - (cx * dsx + dcx * sx) / (4 * rel_p**2)\n",
    "            \n",
    "            dz_x1 = 0 #Derivative. \n",
    "            dz_x2 = 0\n",
    "            dz_x3 = 0\n",
    "            dz_y1 = 0 \n",
    "            dz_y2 = 0\n",
    "            dz_y3 = 0\n",
    "            \n",
    "            z = z + dz_x1 * x**2 + dz_dx2 * x * px + dz_dx3 * px**2 + \\\n",
    "            dz_y1 * y**2 + dz_dy2 * y * py + dz_dy3 * py**2\n",
    "            \n",
    "            x = \n",
    "            px = \n",
    "            y = \n",
    "            py =\n",
    "            \n",
    "        \n",
    "        return Particle(x, px, y, py, z, pz, s, t, p0c, mc2)\n",
    "    \n",
    "    return track_a_quadrupole\n",
    "\n",
    "# Specialized functions\n",
    "track_a_quadrupole_torch = make_track_a_quadrupole(lib=torch)"
   ]
  },
  {
   "cell_type": "code",
   "execution_count": null,
   "id": "5243e2e3-08d4-4fca-9bcf-a27db0a03d63",
   "metadata": {},
   "outputs": [],
   "source": []
  }
 ],
 "metadata": {
  "kernelspec": {
   "display_name": "Python 3 (ipykernel)",
   "language": "python",
   "name": "python3"
  },
  "language_info": {
   "codemirror_mode": {
    "name": "ipython",
    "version": 3
   },
   "file_extension": ".py",
   "mimetype": "text/x-python",
   "name": "python",
   "nbconvert_exporter": "python",
   "pygments_lexer": "ipython3",
   "version": "3.9.7"
  }
 },
 "nbformat": 4,
 "nbformat_minor": 5
}
