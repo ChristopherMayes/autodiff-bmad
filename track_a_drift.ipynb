{
 "cells": [
  {
   "cell_type": "code",
   "execution_count": 3,
   "id": "263b269c-ca24-4f0f-b6b3-409e49617654",
   "metadata": {},
   "outputs": [],
   "source": [
    "import numpy as np\n",
    "import torch"
   ]
  },
  {
   "cell_type": "code",
   "execution_count": 4,
   "id": "60707ad2-dfe9-46c6-8da9-531d7165cc0c",
   "metadata": {},
   "outputs": [
    {
     "data": {
      "text/plain": [
       "'\\nclass Orbit:\\n    def __init__(self, vec, s, t, charge, p0c, beta, state, direction, species, location)\\n        self.vec = vec\\n        self.s = s\\n        self.t = t\\n        self.charge = charge\\n        self.p0c = p0c\\n        self.beta = beta\\n        self.state = state\\n        self.direction = direction\\n        self.species = species\\n        self.location = location\\n\\n'"
      ]
     },
     "execution_count": 4,
     "metadata": {},
     "output_type": "execute_result"
    }
   ],
   "source": [
    "\"\"\"\n",
    "class Orbit:\n",
    "    def __init__(self, vec, s, t, charge, p0c, beta, state, direction, species, location)\n",
    "        self.vec = vec\n",
    "        self.s = s\n",
    "        self.t = t\n",
    "        self.charge = charge\n",
    "        self.p0c = p0c\n",
    "        self.beta = beta\n",
    "        self.state = state\n",
    "        self.direction = direction\n",
    "        self.species = species\n",
    "        self.location = location\n",
    "\n",
    "\"\"\""
   ]
  },
  {
   "cell_type": "code",
   "execution_count": 57,
   "id": "853f3872-7e9b-43e4-b084-d202a013f025",
   "metadata": {},
   "outputs": [],
   "source": [
    "\"\"\"\n",
    "class Particle:\n",
    "    def __init__(self, x, px, y, py, z, delta, s, t, beta, charge):\n",
    "        self.x = x\n",
    "        self.px = px\n",
    "        self.y = y\n",
    "        self.py = py\n",
    "        self.z = z\n",
    "        self.delta = delta\n",
    "        self.s = s\n",
    "        self.t = t\n",
    "        self.beta = beta\n",
    "        self.charge = charge\n",
    "        self.lib_type = torch #defalut library is torch\n",
    "        \n",
    "class TorchParticle(Particle):\n",
    "    def __init__(self, vec: torch.tensor, s=0, t=0, beta=-1, charge = 1):\n",
    "        super().__init__(vec[0], vec[1], vec[2], vec[3], vec[4], vec[5], s, t, beta, charge)\n",
    "        self.lib_type = torch\n",
    "        self.vec = vec\n",
    "\n",
    "class NumpyParticle(Particle):\n",
    "    def __init__(self, vec: np.array, s=0, t=0, beta=-1, charge = 1):\n",
    "        super().__init__(vec[0], vec[1], vec[2], vec[3], vec[4], vec[5], s, t, beta, charge)\n",
    "        self.lib_type = np\n",
    "        self.vec = vec\n",
    "        \n",
    "def test_function(p: Particle):\n",
    "    lib = p.lib_type\n",
    "    return lib.sqrt(p.py)\n",
    "\"\"\""
   ]
  },
  {
   "cell_type": "code",
   "execution_count": null,
   "id": "e30dcb77-e4ae-4dd1-ab1c-a6269ecfa68f",
   "metadata": {},
   "outputs": [],
   "source": [
    "class Particle:\n",
    "    def __init__(self, x, px, y, py, z, delta, s, t, beta, charge, state,lib_type = torch):\n",
    "        self.x = x\n",
    "        self.px = px\n",
    "        self.y = y\n",
    "        self.py = py\n",
    "        self.z = z\n",
    "        self.delta = delta\n",
    "        self.s = s\n",
    "        self.t = t\n",
    "\n",
    "        self.beta = beta\n",
    "        self.charge = charge\n",
    "        self.state = 1 #1 is active, 0 is lost DIFFERENT FROM  ORB STRUCT INTSTANCE since state has its own struct in BMAD\n",
    "        self.lib_type = lib_type #defalut library is torch\n",
    "        if lib_type==torch:\n",
    "            self.vec = torch.tensor([x, px, y, py, z, delta])\n",
    "        elif lib_type==np:\n",
    "            self.vec = np.array([x, px, y, py, z, delta])\n",
    "        else: #how to handle these cases?\n",
    "            self.vec = [x, px, y, py, z, delta]"
   ]
  },
  {
   "cell_type": "code",
   "execution_count": 66,
   "id": "55edf2f6-27de-48fb-919b-02c045b439f6",
   "metadata": {},
   "outputs": [
    {
     "name": "stdout",
     "output_type": "stream",
     "text": [
      "tensor(1.)\n",
      "<module 'torch' from '/Users/juanpablo/miniforge3/envs/env/lib/python3.9/site-packages/torch/__init__.py'>\n",
      "1.0\n",
      "<module 'numpy' from '/Users/juanpablo/miniforge3/envs/env/lib/python3.9/site-packages/numpy/__init__.py'>\n",
      "<module 'torch' from '/Users/juanpablo/miniforge3/envs/env/lib/python3.9/site-packages/torch/__init__.py'>\n"
     ]
    },
    {
     "data": {
      "text/plain": [
       "4"
      ]
     },
     "execution_count": 66,
     "metadata": {},
     "output_type": "execute_result"
    }
   ],
   "source": [
    "test_particle = TorchParticle(torch.tensor([4,9,1,1,1,1]),0,0,0.999,1)\n",
    "print(test_function(test_particle))\n",
    "print(test_particle.lib_type)\n",
    "test_particle2 = NumpyParticle(np.array([4,9,1,1,1,1]),0,0,0.999,1)\n",
    "print(test_function(test_particle2))\n",
    "print(test_particle2.lib_type)\n",
    "test_particle3 = TorchParticle(np.array([4,9,1,1,1,1]),0,0,0.999,1)\n",
    "print(test_particle3.lib_type)\n",
    "test_particle3.vec[2] = 2\n",
    "test_particle3.vec[0]"
   ]
  },
  {
   "cell_type": "code",
   "execution_count": null,
   "id": "6ba1e394-0246-4fe1-b2a5-b70bc7fd30dc",
   "metadata": {},
   "outputs": [],
   "source": [
    "def track_a_drift(par: Particle, length, mat6, make_matrix, include_ref_motion):\n",
    "    lib_type = par.lib_type\n",
    "    delta = par.vec[5]\n",
    "    rel_pc = 1+delta\n",
    "    px = par.vec[1]\n",
    "    py = par.vec[3]\n",
    "    pxy2 = px**2 + py**2\n",
    "    ##for line 43, there is a state for lost particle... do I need to import it here? \n",
    "    ps = np.sqrt(1-px**2-py**2) #if I use torch.sqrt then I can not evaluate for single particle, but if I use np.sqrt() then I cannot vectorize the function for a multi-particle array\n",
    "    par.vec[0] = par.vec[0] + length * px / ps\n",
    "    par.vec[2] = par.vec[2] + length * py / ps\n",
    "    \n",
    "    if par.beta>0:\n",
    "        \n",
    "    "
   ]
  },
  {
   "cell_type": "code",
   "execution_count": 68,
   "id": "6b0bf41d-8b78-49f9-af42-837f25b6bbff",
   "metadata": {},
   "outputs": [
    {
     "data": {
      "text/plain": [
       "tensor(1.)"
      ]
     },
     "execution_count": 68,
     "metadata": {},
     "output_type": "execute_result"
    }
   ],
   "source": [
    "torch.sqrt(torch.tensor(1))"
   ]
  },
  {
   "cell_type": "code",
   "execution_count": null,
   "id": "b4afdef7-5bcc-488d-b920-2b40b286a9cc",
   "metadata": {},
   "outputs": [],
   "source": []
  }
 ],
 "metadata": {
  "kernelspec": {
   "display_name": "Python 3 (ipykernel)",
   "language": "python",
   "name": "python3"
  },
  "language_info": {
   "codemirror_mode": {
    "name": "ipython",
    "version": 3
   },
   "file_extension": ".py",
   "mimetype": "text/x-python",
   "name": "python",
   "nbconvert_exporter": "python",
   "pygments_lexer": "ipython3",
   "version": "3.9.7"
  }
 },
 "nbformat": 4,
 "nbformat_minor": 5
}
