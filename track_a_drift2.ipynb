{
 "cells": [
  {
   "cell_type": "code",
   "execution_count": 1,
   "id": "8af3d886-d3bd-4e34-9556-d645ee9f761e",
   "metadata": {},
   "outputs": [
    {
     "data": {
      "text/plain": [
       "('1.10.0', '1.21.4')"
      ]
     },
     "execution_count": 1,
     "metadata": {},
     "output_type": "execute_result"
    }
   ],
   "source": [
    "import numpy as np\n",
    "import torch\n",
    "from collections import namedtuple\n",
    "\n",
    "torch.__version__, np.__version__"
   ]
  },
  {
   "cell_type": "markdown",
   "id": "4195b788-22c6-4f75-bb00-a417cf041292",
   "metadata": {
    "jp-MarkdownHeadingCollapsed": true,
    "tags": []
   },
   "source": [
    "## Constants"
   ]
  },
  {
   "cell_type": "code",
   "execution_count": 2,
   "id": "c3f66538-b1d3-448d-a15b-82cae88067f6",
   "metadata": {
    "tags": []
   },
   "outputs": [],
   "source": [
    "c_light = 2.99792458e8 #speed of light in m/s\n",
    "mc2 = 0.510998950e6 #electron mass in eV"
   ]
  },
  {
   "cell_type": "markdown",
   "id": "a68663f4-da28-42bf-8d55-1069efade5ec",
   "metadata": {
    "tags": []
   },
   "source": [
    "# Drift element tuple"
   ]
  },
  {
   "cell_type": "code",
   "execution_count": 3,
   "id": "3165f10b-e4e3-49cb-ac73-b4a069b350c0",
   "metadata": {},
   "outputs": [
    {
     "data": {
      "text/plain": [
       "Drift(L=1.0, p0c=10000000.0)"
      ]
     },
     "execution_count": 3,
     "metadata": {},
     "output_type": "execute_result"
    }
   ],
   "source": [
    "Drift = namedtuple('Drift', 'L p0c')\n",
    "L = 1.000\n",
    "p0c = 10.0e6 #Reference particle momentum in eV\n",
    "d1 = Drift(L, p0c)\n",
    "d1"
   ]
  },
  {
   "cell_type": "markdown",
   "id": "fc7196a6-ed64-40d1-a58f-10d8edb553ab",
   "metadata": {
    "tags": []
   },
   "source": [
    "# Particle tuple"
   ]
  },
  {
   "cell_type": "code",
   "execution_count": 4,
   "id": "22f5b59f-a16b-4e85-bc07-d9a6022c9dc2",
   "metadata": {},
   "outputs": [],
   "source": [
    "Particle = namedtuple('Particle', 'x px y py z pz')\n",
    "#Canonical phase space coordinates as defined in Bmad manual section 15.4.2."
   ]
  },
  {
   "cell_type": "code",
   "execution_count": 5,
   "id": "34449579-880c-451b-9c1e-f9003a2e2861",
   "metadata": {},
   "outputs": [],
   "source": [
    "np.random.seed(0)\n",
    "pvec = np.random.rand(10_000, 6) #test particles"
   ]
  },
  {
   "cell_type": "markdown",
   "id": "07cd773e-584b-488c-9b9b-41d31e81f336",
   "metadata": {
    "jp-MarkdownHeadingCollapsed": true,
    "tags": []
   },
   "source": [
    "## NumPy array test Particles"
   ]
  },
  {
   "cell_type": "code",
   "execution_count": 6,
   "id": "3587f13a-766c-4ef7-974f-b8c671fec2c2",
   "metadata": {
    "tags": []
   },
   "outputs": [
    {
     "data": {
      "text/plain": [
       "Particle(x=array([0.5488135 , 0.43758721, 0.56804456, ..., 0.16739177, 0.8283866 ,\n",
       "       0.42741876]), px=array([0.71518937, 0.891773  , 0.92559664, ..., 0.3514515 , 0.35342665,\n",
       "       0.88324715]), y=array([0.60276338, 0.96366276, 0.07103606, ..., 0.27008432, 0.92013388,\n",
       "       0.38008123]), py=array([0.54488318, 0.38344152, 0.0871293 , ..., 0.08702639, 0.81374799,\n",
       "       0.16900413]), z=array([0.4236548 , 0.79172504, 0.0202184 , ..., 0.30485812, 0.68327109,\n",
       "       0.26393067]), pz=array([0.64589411, 0.52889492, 0.83261985, ..., 0.13144231, 0.86909734,\n",
       "       0.30116676]))"
      ]
     },
     "execution_count": 6,
     "metadata": {},
     "output_type": "execute_result"
    }
   ],
   "source": [
    "p_np = Particle(*pvec.T)\n",
    "p_np"
   ]
  },
  {
   "cell_type": "markdown",
   "id": "ab86fb73-eb64-4da6-bd68-94d12a6c772e",
   "metadata": {
    "tags": []
   },
   "source": [
    "## PyTorch tensor test Particles"
   ]
  },
  {
   "cell_type": "code",
   "execution_count": 7,
   "id": "6718d33a-8008-4ad6-8c43-1652c48abbd1",
   "metadata": {},
   "outputs": [
    {
     "data": {
      "text/plain": [
       "Particle(x=tensor([0.5488, 0.4376, 0.5680,  ..., 0.1674, 0.8284, 0.4274],\n",
       "       dtype=torch.float64, grad_fn=<UnbindBackward0>), px=tensor([0.7152, 0.8918, 0.9256,  ..., 0.3515, 0.3534, 0.8832],\n",
       "       dtype=torch.float64, grad_fn=<UnbindBackward0>), y=tensor([0.6028, 0.9637, 0.0710,  ..., 0.2701, 0.9201, 0.3801],\n",
       "       dtype=torch.float64, grad_fn=<UnbindBackward0>), py=tensor([0.5449, 0.3834, 0.0871,  ..., 0.0870, 0.8137, 0.1690],\n",
       "       dtype=torch.float64, grad_fn=<UnbindBackward0>), z=tensor([0.4237, 0.7917, 0.0202,  ..., 0.3049, 0.6833, 0.2639],\n",
       "       dtype=torch.float64, grad_fn=<UnbindBackward0>), pz=tensor([0.6459, 0.5289, 0.8326,  ..., 0.1314, 0.8691, 0.3012],\n",
       "       dtype=torch.float64, grad_fn=<UnbindBackward0>))"
      ]
     },
     "execution_count": 7,
     "metadata": {},
     "output_type": "execute_result"
    }
   ],
   "source": [
    "tp0c = torch.tensor(p0c, dtype=torch.float64)\n",
    "tmc2 = torch.tensor(mc2, dtype=torch.float64) #necessary? \n",
    "tpvec = torch.tensor(pvec, requires_grad=True, dtype=torch.float64)\n",
    "p_torch = Particle(*tpvec.T)\n",
    "p_torch"
   ]
  },
  {
   "cell_type": "markdown",
   "id": "7638cac6-72c7-4e95-ae44-6ff97b375ae3",
   "metadata": {
    "tags": []
   },
   "source": [
    "# track_a_drift"
   ]
  },
  {
   "cell_type": "code",
   "execution_count": 8,
   "id": "802fc720-0c08-4f46-b9ed-78deea47decb",
   "metadata": {},
   "outputs": [],
   "source": [
    "def make_track_a_drift(lib):\n",
    "    \"\"\"\n",
    "    Makes track_a_drift given the library lib\n",
    "    \"\"\"\n",
    "    \n",
    "    sqrt = lib.sqrt\n",
    "    \n",
    "    def track_a_drift(p_in, drift):\n",
    "        \"\"\"\n",
    "        Tracks the incoming Particle p_in though drift element\n",
    "        and returns the outgoing particle. See eqs 24.58 in bmad manual\n",
    "        \"\"\"\n",
    "        L = drift.L\n",
    "        p0c = drift.p0c\n",
    "        \n",
    "        x = p_in.x\n",
    "        px = p_in.px\n",
    "        y = p_in.y\n",
    "        py = p_in.py\n",
    "        z = p_in.z\n",
    "        pz = p_in.pz\n",
    "        \n",
    "        P = 1 + pz #Particle's total momentum over p0\n",
    "        Px = px / P #Particle's 'x' momentum over p0\n",
    "        Py = py / P #Particle's 'y' momentum over p0\n",
    "        Pxy2 = Px**2 + Py**2 #Particle's transverse mometum^2 over p0^2\n",
    "        Pl = sqrt(1-Pxy2)  #Particle's longitudinal momentum over p0\n",
    "        \n",
    "        x = x + L * Px / Pl\n",
    "        y = y + L * Py / Pl\n",
    "        \n",
    "        beta = sqrt( 1 - 1 /( 1 + (P*p0c/mc2)**2 ) )\n",
    "        beta_ref = sqrt( 1 - 1 /( 1 + (p0c/mc2)**2 ) )\n",
    "        z = z + L * ( beta/beta_ref - 1.0/Pl ) #should fix by taking the effect of include_ref_motion (see eq 24.58)\n",
    "        #s = s + L \n",
    "        #t = t + L / ( beta * Pl * c_light )\n",
    "        \n",
    "        return Particle(x, px, y, py, z, pz)\n",
    "    \n",
    "    return track_a_drift\n",
    "\n",
    "# Specialized functions\n",
    "track_a_drift_torch = make_track_a_drift(lib=torch)"
   ]
  },
  {
   "cell_type": "markdown",
   "id": "3e43fa07-c14f-4374-8bb0-25d0d9eb3d8b",
   "metadata": {
    "tags": []
   },
   "source": [
    "## PyTorch jacobian example"
   ]
  },
  {
   "cell_type": "code",
   "execution_count": 9,
   "id": "f334e89a-6c8c-4856-8ca8-aac7bb31d341",
   "metadata": {},
   "outputs": [],
   "source": [
    "from torch.autograd.functional import jacobian"
   ]
  },
  {
   "cell_type": "code",
   "execution_count": 10,
   "id": "ee6fdf69-c492-4bc0-83c9-9b6a0400ef1f",
   "metadata": {},
   "outputs": [
    {
     "data": {
      "text/plain": [
       "Drift(L=tensor(1., dtype=torch.float64), p0c=tensor(10000000., dtype=torch.float64))"
      ]
     },
     "execution_count": 10,
     "metadata": {},
     "output_type": "execute_result"
    }
   ],
   "source": [
    "td1 = Drift(torch.tensor(L, dtype=torch.float64),torch.tensor(p0c, dtype=torch.float64))\n",
    "td1"
   ]
  },
  {
   "cell_type": "code",
   "execution_count": 11,
   "id": "ff53dc07-41dc-40c2-b59b-134048900095",
   "metadata": {
    "tags": []
   },
   "outputs": [
    {
     "data": {
      "text/plain": [
       "(tensor([ 1.0000,  0.9181,  0.0000, -0.0023,  0.0000, -0.0170],\n",
       "        dtype=torch.float64),\n",
       " tensor([0., 1., 0., 0., 0., 0.], dtype=torch.float64),\n",
       " tensor([ 0.0000, -0.0023,  1.0000,  0.9352,  0.0000,  0.1276],\n",
       "        dtype=torch.float64),\n",
       " tensor([0., 0., 0., 1., 0., 0.], dtype=torch.float64),\n",
       " tensor([ 0.0000, -0.0170,  0.0000,  0.1276,  1.0000,  0.0197],\n",
       "        dtype=torch.float64),\n",
       " tensor([0., 0., 0., 0., 0., 1.], dtype=torch.float64))"
      ]
     },
     "execution_count": 11,
     "metadata": {},
     "output_type": "execute_result"
    }
   ],
   "source": [
    "pvec1 = (0.5, 0.02, 0.5, -0.15, 0.1, 0.1)\n",
    "tvec1 = torch.tensor(pvec1, requires_grad=True, dtype=torch.float64)\n",
    "f2 = lambda x: track_a_drift_torch(Particle(*x), td1)\n",
    "J = jacobian(f2, tvec1)\n",
    "J"
   ]
  },
  {
   "cell_type": "code",
   "execution_count": 12,
   "id": "81b7540a-0c21-42e8-a724-159c3c16e47e",
   "metadata": {
    "tags": []
   },
   "outputs": [
    {
     "data": {
      "text/plain": [
       "Particle(x=tensor(0.5184, dtype=torch.float64, grad_fn=<AddBackward0>), px=tensor(0.0200, dtype=torch.float64, grad_fn=<UnbindBackward0>), y=tensor(0.3623, dtype=torch.float64, grad_fn=<AddBackward0>), py=tensor(-0.1500, dtype=torch.float64, grad_fn=<UnbindBackward0>), z=tensor(0.0906, dtype=torch.float64, grad_fn=<AddBackward0>), pz=tensor(0.1000, dtype=torch.float64, grad_fn=<UnbindBackward0>))"
      ]
     },
     "execution_count": 12,
     "metadata": {},
     "output_type": "execute_result"
    }
   ],
   "source": [
    "track_a_drift_torch(Particle(*tvec1), td1)"
   ]
  },
  {
   "cell_type": "code",
   "execution_count": null,
   "id": "975d0f12-0172-483a-90c4-0c9a9e307dc3",
   "metadata": {},
   "outputs": [],
   "source": []
  },
  {
   "cell_type": "markdown",
   "id": "84e93b7d-df12-465e-a820-26777bea5515",
   "metadata": {
    "tags": []
   },
   "source": [
    "# Quadrupole"
   ]
  },
  {
   "cell_type": "code",
   "execution_count": 13,
   "id": "513d5b65-455c-49ab-8fcb-40dfb9ee44ef",
   "metadata": {},
   "outputs": [
    {
     "data": {
      "text/plain": [
       "Drift(L=1.0, p0c=10000000.0)"
      ]
     },
     "execution_count": 13,
     "metadata": {},
     "output_type": "execute_result"
    }
   ],
   "source": [
    "Quadrupole = namedtuple('Quadrupole', 'k b ')\n",
    "L = 1.000\n",
    "p0c = 10.0e6 #Reference particle momentum in eV\n",
    "d1 = Drift(L, p0c)\n",
    "d1"
   ]
  },
  {
   "cell_type": "code",
   "execution_count": 14,
   "id": "784675bf-b410-4592-8979-2eaa8b6ac95c",
   "metadata": {},
   "outputs": [],
   "source": [
    "def make_track_a_quadrupole(lib):\n",
    "    \"\"\"\n",
    "    Makes track_a_drift given the library lib\n",
    "    \"\"\"\n",
    "    \n",
    "    sqrt = lib.sqrt\n",
    "    sin = lib.sin\n",
    "    cos = lib.cos\n",
    "    sinh = lib.sinh\n",
    "    cosh = lib.cosh\n",
    "    \n",
    "    def track_a_quadrupole(p_in, quad):\n",
    "        \"\"\"\n",
    "        Tracks the incoming Particle p_in though quadrupole element\n",
    "        and returns the outgoing particle. \n",
    "        \"\"\"\n",
    "        L = quad.L\n",
    "        p0c = drift.p0c\n",
    "        \n",
    "        x = p_in.x\n",
    "        px = p_in.px\n",
    "        y = p_in.y\n",
    "        py = p_in.py\n",
    "        z = p_in.z\n",
    "        pz = p_in.pz\n",
    "        \n",
    "        P = 1 + pz #Particle's total momentum over p0\n",
    "        Px = px / P #Particle's 'x' momentum over p0\n",
    "        Py = py / P #Particle's 'y' momentum over p0\n",
    "        Pxy2 = Px**2 + Py**2 #Particle's transverse mometum^2 over p0^2\n",
    "        Pl = sqrt(1-Pxy2)  #Particle's longitudinal momentum over p0\n",
    "        \n",
    "        x = x + L * Px / Pl\n",
    "        y = y + L * Py / Pl\n",
    "        \n",
    "        beta = sqrt( 1 - 1 /( 1 + (P*p0c/mc2)**2 ) )\n",
    "        beta_ref = sqrt( 1 - 1 /( 1 + (p0c/mc2)**2 ) )\n",
    "        z = z + L * ( beta/beta_ref - 1.0/Pl ) #should fix by taking the effect of include_ref_motion (see eq 24.58)\n",
    "        #s = s + L \n",
    "        #t = t + L / ( beta * Pl * c_light )\n",
    "        \n",
    "        return Particle(x, px, y, py, z, pz)\n",
    "    \n",
    "    return track_a_quadrupole\n",
    "\n",
    "# Specialized functions\n",
    "track_a_quadrupole_torch = make_track_a_quadrupole(lib=torch)"
   ]
  }
 ],
 "metadata": {
  "kernelspec": {
   "display_name": "Python 3 (ipykernel)",
   "language": "python",
   "name": "python3"
  },
  "language_info": {
   "codemirror_mode": {
    "name": "ipython",
    "version": 3
   },
   "file_extension": ".py",
   "mimetype": "text/x-python",
   "name": "python",
   "nbconvert_exporter": "python",
   "pygments_lexer": "ipython3",
   "version": "3.9.7"
  }
 },
 "nbformat": 4,
 "nbformat_minor": 5
}
